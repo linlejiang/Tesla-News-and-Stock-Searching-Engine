{
 "cells": [
  {
   "cell_type": "code",
   "execution_count": 1,
   "metadata": {},
   "outputs": [],
   "source": [
    "import pandas as pd\n",
    "import numpy as np\n",
    "from gensim.models import ldamodel\n",
    "from gensim import corpora\n",
    "from gensim.models import CoherenceModel\n",
    "from gensim.models.phrases import Phrases, Phraser\n",
    "import pyLDAvis.gensim\n",
    "import nltk\n",
    "from nltk import word_tokenize\n",
    "from nltk.corpus import stopwords\n",
    "from nltk.stem import WordNetLemmatizer\n",
    "import string\n",
    "import matplotlib.pyplot as plt"
   ]
  },
  {
   "cell_type": "code",
   "execution_count": 2,
   "metadata": {},
   "outputs": [
    {
     "data": {
      "text/html": [
       "<div>\n",
       "<style scoped>\n",
       "    .dataframe tbody tr th:only-of-type {\n",
       "        vertical-align: middle;\n",
       "    }\n",
       "\n",
       "    .dataframe tbody tr th {\n",
       "        vertical-align: top;\n",
       "    }\n",
       "\n",
       "    .dataframe thead th {\n",
       "        text-align: right;\n",
       "    }\n",
       "</style>\n",
       "<table border=\"1\" class=\"dataframe\">\n",
       "  <thead>\n",
       "    <tr style=\"text-align: right;\">\n",
       "      <th></th>\n",
       "      <th>id</th>\n",
       "      <th>ticker</th>\n",
       "      <th>title</th>\n",
       "      <th>category</th>\n",
       "      <th>content</th>\n",
       "      <th>release_date</th>\n",
       "      <th>provider</th>\n",
       "      <th>url</th>\n",
       "      <th>article_id</th>\n",
       "    </tr>\n",
       "  </thead>\n",
       "  <tbody>\n",
       "    <tr>\n",
       "      <th>0</th>\n",
       "      <td>221515</td>\n",
       "      <td>NIO</td>\n",
       "      <td>Why Shares of Chinese Electric Car Maker NIO A...</td>\n",
       "      <td>news</td>\n",
       "      <td>What s happening\\nShares of Chinese electric c...</td>\n",
       "      <td>2020-01-15</td>\n",
       "      <td>The Motley Fool</td>\n",
       "      <td>https://invst.ly/pigqi</td>\n",
       "      <td>2060327</td>\n",
       "    </tr>\n",
       "    <tr>\n",
       "      <th>1</th>\n",
       "      <td>221516</td>\n",
       "      <td>NIO</td>\n",
       "      <td>NIO only consumer gainer  Workhorse Group amon...</td>\n",
       "      <td>news</td>\n",
       "      <td>Gainers  NIO  NYSE NIO   7  \\nLosers  MGP Ingr...</td>\n",
       "      <td>2020-01-18</td>\n",
       "      <td>Seeking Alpha</td>\n",
       "      <td>https://invst.ly/pje9c</td>\n",
       "      <td>2062196</td>\n",
       "    </tr>\n",
       "    <tr>\n",
       "      <th>2</th>\n",
       "      <td>221517</td>\n",
       "      <td>NIO</td>\n",
       "      <td>NIO leads consumer gainers  Beyond Meat and Ma...</td>\n",
       "      <td>news</td>\n",
       "      <td>Gainers  NIO  NYSE NIO   14   Village Farms In...</td>\n",
       "      <td>2020-01-15</td>\n",
       "      <td>Seeking Alpha</td>\n",
       "      <td>https://invst.ly/pifmv</td>\n",
       "      <td>2060249</td>\n",
       "    </tr>\n",
       "    <tr>\n",
       "      <th>3</th>\n",
       "      <td>221518</td>\n",
       "      <td>NIO</td>\n",
       "      <td>NIO  NVAX among premarket gainers</td>\n",
       "      <td>news</td>\n",
       "      <td>Cemtrex  NASDAQ CETX   85  after FY results \\n...</td>\n",
       "      <td>2020-01-15</td>\n",
       "      <td>Seeking Alpha</td>\n",
       "      <td>https://invst.ly/picu8</td>\n",
       "      <td>2060039</td>\n",
       "    </tr>\n",
       "    <tr>\n",
       "      <th>4</th>\n",
       "      <td>221519</td>\n",
       "      <td>NIO</td>\n",
       "      <td>PLUG  NIO among premarket gainers</td>\n",
       "      <td>news</td>\n",
       "      <td>aTyr Pharma  NASDAQ LIFE   63  on Kyorin Pharm...</td>\n",
       "      <td>2020-01-06</td>\n",
       "      <td>Seeking Alpha</td>\n",
       "      <td>https://seekingalpha.com/news/3529772-plug-nio...</td>\n",
       "      <td>2053096</td>\n",
       "    </tr>\n",
       "  </tbody>\n",
       "</table>\n",
       "</div>"
      ],
      "text/plain": [
       "       id ticker                                              title category  \\\n",
       "0  221515    NIO  Why Shares of Chinese Electric Car Maker NIO A...     news   \n",
       "1  221516    NIO  NIO only consumer gainer  Workhorse Group amon...     news   \n",
       "2  221517    NIO  NIO leads consumer gainers  Beyond Meat and Ma...     news   \n",
       "3  221518    NIO                  NIO  NVAX among premarket gainers     news   \n",
       "4  221519    NIO                  PLUG  NIO among premarket gainers     news   \n",
       "\n",
       "                                             content release_date  \\\n",
       "0  What s happening\\nShares of Chinese electric c...   2020-01-15   \n",
       "1  Gainers  NIO  NYSE NIO   7  \\nLosers  MGP Ingr...   2020-01-18   \n",
       "2  Gainers  NIO  NYSE NIO   14   Village Farms In...   2020-01-15   \n",
       "3  Cemtrex  NASDAQ CETX   85  after FY results \\n...   2020-01-15   \n",
       "4  aTyr Pharma  NASDAQ LIFE   63  on Kyorin Pharm...   2020-01-06   \n",
       "\n",
       "          provider                                                url  \\\n",
       "0  The Motley Fool                             https://invst.ly/pigqi   \n",
       "1    Seeking Alpha                             https://invst.ly/pje9c   \n",
       "2    Seeking Alpha                             https://invst.ly/pifmv   \n",
       "3    Seeking Alpha                             https://invst.ly/picu8   \n",
       "4    Seeking Alpha  https://seekingalpha.com/news/3529772-plug-nio...   \n",
       "\n",
       "   article_id  \n",
       "0     2060327  \n",
       "1     2062196  \n",
       "2     2060249  \n",
       "3     2060039  \n",
       "4     2053096  "
      ]
     },
     "execution_count": 2,
     "metadata": {},
     "output_type": "execute_result"
    }
   ],
   "source": [
    "news_df = pd.read_csv('us_equities_news_dataset.csv')\n",
    "news_df.head()"
   ]
  },
  {
   "cell_type": "code",
   "execution_count": 3,
   "metadata": {},
   "outputs": [
    {
     "data": {
      "text/plain": [
       "(4283, 9)"
      ]
     },
     "execution_count": 3,
     "metadata": {},
     "output_type": "execute_result"
    }
   ],
   "source": [
    "tsla_df = news_df[news_df['ticker']==\"TSLA\"]\n",
    "tsla_df.shape"
   ]
  },
  {
   "cell_type": "markdown",
   "metadata": {},
   "source": [
    "### Data Preprocessing"
   ]
  },
  {
   "cell_type": "code",
   "execution_count": 4,
   "metadata": {},
   "outputs": [],
   "source": [
    "def remove_punc_numbers(text):\n",
    "    output = \"\".join([char for char in text if char not in string.punctuation and not char.isdigit()])\n",
    "    return output\n",
    "\n",
    "def preprocess(df, columns):\n",
    "    for i in columns:\n",
    "        df[i] = df[i].apply(lambda x: x.lower())\n",
    "        df[i] = df[i].apply(lambda x: remove_punc_numbers(x))\n",
    "        df[i] = df[i].apply(lambda x: word_tokenize(x))\n",
    "        \n",
    "def remove_stopwords(tokens, stopwords):\n",
    "    output = []\n",
    "    for i in tokens:\n",
    "        if i not in stopwords:\n",
    "            output.append(i)\n",
    "    return output\n",
    "\n",
    "def lemmatize_nltk(text, lemmatizer):\n",
    "    output = []\n",
    "    for i in text:\n",
    "        output.append(lemmatizer.lemmatize(i))\n",
    "    return output"
   ]
  },
  {
   "cell_type": "code",
   "execution_count": 5,
   "metadata": {},
   "outputs": [
    {
     "data": {
      "text/html": [
       "<div>\n",
       "<style scoped>\n",
       "    .dataframe tbody tr th:only-of-type {\n",
       "        vertical-align: middle;\n",
       "    }\n",
       "\n",
       "    .dataframe tbody tr th {\n",
       "        vertical-align: top;\n",
       "    }\n",
       "\n",
       "    .dataframe thead th {\n",
       "        text-align: right;\n",
       "    }\n",
       "</style>\n",
       "<table border=\"1\" class=\"dataframe\">\n",
       "  <thead>\n",
       "    <tr style=\"text-align: right;\">\n",
       "      <th></th>\n",
       "      <th>id</th>\n",
       "      <th>title</th>\n",
       "      <th>content</th>\n",
       "    </tr>\n",
       "  </thead>\n",
       "  <tbody>\n",
       "    <tr>\n",
       "      <th>7191</th>\n",
       "      <td>228706</td>\n",
       "      <td>Tesla  TSLA  Expected To Beat Earnings Estimat...</td>\n",
       "      <td>The market expects Tesla  NASDAQ TSLA  to deli...</td>\n",
       "    </tr>\n",
       "    <tr>\n",
       "      <th>7192</th>\n",
       "      <td>228707</td>\n",
       "      <td>What s The Right Valuation Multiple For Tesla</td>\n",
       "      <td>In May of 2018  Tesla  NASDAQ TSLA   CEO Elon ...</td>\n",
       "    </tr>\n",
       "    <tr>\n",
       "      <th>7193</th>\n",
       "      <td>228708</td>\n",
       "      <td>Tesla  NIO And The Electric Boogie</td>\n",
       "      <td>It s been a rough couple of months with the im...</td>\n",
       "    </tr>\n",
       "    <tr>\n",
       "      <th>7194</th>\n",
       "      <td>228709</td>\n",
       "      <td>Toyota  TM  Recalls 3 4M Vehicles Worldwide Ov...</td>\n",
       "      <td>Toyota Motor Corporation   NYSE TM   will reca...</td>\n",
       "    </tr>\n",
       "    <tr>\n",
       "      <th>7199</th>\n",
       "      <td>228714</td>\n",
       "      <td>Tesla  TSLA   Does This Rally Still Have Legs</td>\n",
       "      <td>Tesla   NASDAQ TSLA   bulls have had a field d...</td>\n",
       "    </tr>\n",
       "    <tr>\n",
       "      <th>...</th>\n",
       "      <td>...</td>\n",
       "      <td>...</td>\n",
       "      <td>...</td>\n",
       "    </tr>\n",
       "    <tr>\n",
       "      <th>75524</th>\n",
       "      <td>297039</td>\n",
       "      <td>U S  futures steady ahead of data  Dow Jones u...</td>\n",
       "      <td>Investing com   U S  stock futures pointed to ...</td>\n",
       "    </tr>\n",
       "    <tr>\n",
       "      <th>75525</th>\n",
       "      <td>297040</td>\n",
       "      <td>U S  stocks mixed after economic reports  Dow ...</td>\n",
       "      <td>Investing com   U S  stocks opened mixed on Th...</td>\n",
       "    </tr>\n",
       "    <tr>\n",
       "      <th>75526</th>\n",
       "      <td>297041</td>\n",
       "      <td>A Cheaper Tesla Has Arrived  Now  About That R...</td>\n",
       "      <td>By   \\nJerome Guillen  Telsa Motors Inc   NASD...</td>\n",
       "    </tr>\n",
       "    <tr>\n",
       "      <th>75527</th>\n",
       "      <td>297042</td>\n",
       "      <td>Tesla 4Q And Full Year Results  Here s What To...</td>\n",
       "      <td>By    As with many exciting startups  market w...</td>\n",
       "    </tr>\n",
       "    <tr>\n",
       "      <th>75528</th>\n",
       "      <td>297043</td>\n",
       "      <td>Tesla Makes Toys For The Rich  Says Chinese Au...</td>\n",
       "      <td>By    The head of one of China s major automak...</td>\n",
       "    </tr>\n",
       "  </tbody>\n",
       "</table>\n",
       "<p>4283 rows × 3 columns</p>\n",
       "</div>"
      ],
      "text/plain": [
       "           id                                              title  \\\n",
       "7191   228706  Tesla  TSLA  Expected To Beat Earnings Estimat...   \n",
       "7192   228707     What s The Right Valuation Multiple For Tesla    \n",
       "7193   228708                 Tesla  NIO And The Electric Boogie   \n",
       "7194   228709  Toyota  TM  Recalls 3 4M Vehicles Worldwide Ov...   \n",
       "7199   228714     Tesla  TSLA   Does This Rally Still Have Legs    \n",
       "...       ...                                                ...   \n",
       "75524  297039  U S  futures steady ahead of data  Dow Jones u...   \n",
       "75525  297040  U S  stocks mixed after economic reports  Dow ...   \n",
       "75526  297041  A Cheaper Tesla Has Arrived  Now  About That R...   \n",
       "75527  297042  Tesla 4Q And Full Year Results  Here s What To...   \n",
       "75528  297043  Tesla Makes Toys For The Rich  Says Chinese Au...   \n",
       "\n",
       "                                                 content  \n",
       "7191   The market expects Tesla  NASDAQ TSLA  to deli...  \n",
       "7192   In May of 2018  Tesla  NASDAQ TSLA   CEO Elon ...  \n",
       "7193   It s been a rough couple of months with the im...  \n",
       "7194   Toyota Motor Corporation   NYSE TM   will reca...  \n",
       "7199   Tesla   NASDAQ TSLA   bulls have had a field d...  \n",
       "...                                                  ...  \n",
       "75524  Investing com   U S  stock futures pointed to ...  \n",
       "75525  Investing com   U S  stocks opened mixed on Th...  \n",
       "75526  By   \\nJerome Guillen  Telsa Motors Inc   NASD...  \n",
       "75527  By    As with many exciting startups  market w...  \n",
       "75528  By    The head of one of China s major automak...  \n",
       "\n",
       "[4283 rows x 3 columns]"
      ]
     },
     "execution_count": 5,
     "metadata": {},
     "output_type": "execute_result"
    }
   ],
   "source": [
    "text_df = tsla_df[['id', 'title', 'content']]\n",
    "text_df"
   ]
  },
  {
   "cell_type": "code",
   "execution_count": 6,
   "metadata": {
    "collapsed": true
   },
   "outputs": [
    {
     "name": "stderr",
     "output_type": "stream",
     "text": [
      "C:\\Users\\Yucheng\\Anaconda3\\envs\\DSCI553\\lib\\site-packages\\ipykernel_launcher.py:7: SettingWithCopyWarning: \n",
      "A value is trying to be set on a copy of a slice from a DataFrame.\n",
      "Try using .loc[row_indexer,col_indexer] = value instead\n",
      "\n",
      "See the caveats in the documentation: https://pandas.pydata.org/pandas-docs/stable/user_guide/indexing.html#returning-a-view-versus-a-copy\n",
      "  import sys\n",
      "C:\\Users\\Yucheng\\Anaconda3\\envs\\DSCI553\\lib\\site-packages\\ipykernel_launcher.py:8: SettingWithCopyWarning: \n",
      "A value is trying to be set on a copy of a slice from a DataFrame.\n",
      "Try using .loc[row_indexer,col_indexer] = value instead\n",
      "\n",
      "See the caveats in the documentation: https://pandas.pydata.org/pandas-docs/stable/user_guide/indexing.html#returning-a-view-versus-a-copy\n",
      "  \n",
      "C:\\Users\\Yucheng\\Anaconda3\\envs\\DSCI553\\lib\\site-packages\\ipykernel_launcher.py:9: SettingWithCopyWarning: \n",
      "A value is trying to be set on a copy of a slice from a DataFrame.\n",
      "Try using .loc[row_indexer,col_indexer] = value instead\n",
      "\n",
      "See the caveats in the documentation: https://pandas.pydata.org/pandas-docs/stable/user_guide/indexing.html#returning-a-view-versus-a-copy\n",
      "  if __name__ == '__main__':\n"
     ]
    }
   ],
   "source": [
    "preprocess(text_df, ['title', 'content'])"
   ]
  },
  {
   "cell_type": "code",
   "execution_count": 7,
   "metadata": {},
   "outputs": [
    {
     "name": "stderr",
     "output_type": "stream",
     "text": [
      "C:\\Users\\Yucheng\\Anaconda3\\envs\\DSCI553\\lib\\site-packages\\ipykernel_launcher.py:3: SettingWithCopyWarning: \n",
      "A value is trying to be set on a copy of a slice from a DataFrame.\n",
      "Try using .loc[row_indexer,col_indexer] = value instead\n",
      "\n",
      "See the caveats in the documentation: https://pandas.pydata.org/pandas-docs/stable/user_guide/indexing.html#returning-a-view-versus-a-copy\n",
      "  This is separate from the ipykernel package so we can avoid doing imports until\n",
      "C:\\Users\\Yucheng\\Anaconda3\\envs\\DSCI553\\lib\\site-packages\\ipykernel_launcher.py:4: SettingWithCopyWarning: \n",
      "A value is trying to be set on a copy of a slice from a DataFrame.\n",
      "Try using .loc[row_indexer,col_indexer] = value instead\n",
      "\n",
      "See the caveats in the documentation: https://pandas.pydata.org/pandas-docs/stable/user_guide/indexing.html#returning-a-view-versus-a-copy\n",
      "  after removing the cwd from sys.path.\n"
     ]
    }
   ],
   "source": [
    "stop_words = stopwords.words('english')\n",
    "stop_words += ['tesla', 'tsla', 'said']\n",
    "text_df['title'] = text_df['title'].apply(lambda x: remove_stopwords(x, stop_words))\n",
    "text_df['content'] = text_df['content'].apply(lambda x: remove_stopwords(x, stop_words))"
   ]
  },
  {
   "cell_type": "code",
   "execution_count": 8,
   "metadata": {},
   "outputs": [
    {
     "name": "stderr",
     "output_type": "stream",
     "text": [
      "C:\\Users\\Yucheng\\Anaconda3\\envs\\DSCI553\\lib\\site-packages\\ipykernel_launcher.py:2: SettingWithCopyWarning: \n",
      "A value is trying to be set on a copy of a slice from a DataFrame.\n",
      "Try using .loc[row_indexer,col_indexer] = value instead\n",
      "\n",
      "See the caveats in the documentation: https://pandas.pydata.org/pandas-docs/stable/user_guide/indexing.html#returning-a-view-versus-a-copy\n",
      "  \n",
      "C:\\Users\\Yucheng\\Anaconda3\\envs\\DSCI553\\lib\\site-packages\\ipykernel_launcher.py:3: SettingWithCopyWarning: \n",
      "A value is trying to be set on a copy of a slice from a DataFrame.\n",
      "Try using .loc[row_indexer,col_indexer] = value instead\n",
      "\n",
      "See the caveats in the documentation: https://pandas.pydata.org/pandas-docs/stable/user_guide/indexing.html#returning-a-view-versus-a-copy\n",
      "  This is separate from the ipykernel package so we can avoid doing imports until\n"
     ]
    }
   ],
   "source": [
    "lemmatizer = WordNetLemmatizer()\n",
    "text_df['title'] = text_df['title'].apply(lambda x: lemmatize_nltk(x, lemmatizer))\n",
    "text_df['content'] = text_df['content'].apply(lambda x: lemmatize_nltk(x, lemmatizer))"
   ]
  },
  {
   "cell_type": "code",
   "execution_count": 9,
   "metadata": {},
   "outputs": [],
   "source": [
    "title_text = text_df['title'].tolist()\n",
    "content_text = text_df['content'].tolist()"
   ]
  },
  {
   "cell_type": "markdown",
   "metadata": {},
   "source": [
    "#### Further Text Processing: Bigrams"
   ]
  },
  {
   "cell_type": "code",
   "execution_count": 10,
   "metadata": {},
   "outputs": [
    {
     "data": {
      "text/plain": [
       "['market_expects',\n",
       " 'nasdaq',\n",
       " 'deliver_year',\n",
       " 'year_decline',\n",
       " 'earnings_lower',\n",
       " 'revenue',\n",
       " 'report_result',\n",
       " 'quarter_ended',\n",
       " 'december_widely',\n",
       " 'known_consensus',\n",
       " 'outlook_important',\n",
       " 'assessing_company',\n",
       " 'earnings_picture',\n",
       " 'powerful_factor',\n",
       " 'might_influence',\n",
       " 'near_term',\n",
       " 'stock_price',\n",
       " 'actual_result',\n",
       " 'compare_estimate',\n",
       " 'earnings_report',\n",
       " 'expected_released',\n",
       " 'january_might',\n",
       " 'help_stock',\n",
       " 'move_higher',\n",
       " 'key_number',\n",
       " 'better_expectation',\n",
       " 'hand_miss',\n",
       " 'stock_may',\n",
       " 'move_lower',\n",
       " 'management_discussion',\n",
       " 'business_condition',\n",
       " 'earnings_call',\n",
       " 'mostly_determine',\n",
       " 'sustainability_immediate',\n",
       " 'price_change',\n",
       " 'future_earnings',\n",
       " 'expectation_worth',\n",
       " 'handicapping_insight',\n",
       " 'odds_positive',\n",
       " 'eps_surprise',\n",
       " 'zacks_consensus',\n",
       " 'estimate_electric',\n",
       " 'car_maker',\n",
       " 'expected_post',\n",
       " 'quarterly_earnings',\n",
       " 'per_share',\n",
       " 'upcoming_report',\n",
       " 'represents_year',\n",
       " 'year_change',\n",
       " 'revenue_expected',\n",
       " 'billion_year',\n",
       " 'ago_quarter',\n",
       " 'estimate_revision',\n",
       " 'trend_consensus',\n",
       " 'eps_estimate',\n",
       " 'quarter_revised',\n",
       " 'lower_last',\n",
       " 'day_current',\n",
       " 'level_essentially',\n",
       " 'reflection_covering',\n",
       " 'analyst_collectively',\n",
       " 'reassessed_initial',\n",
       " 'estimate_period',\n",
       " 'investor_keep',\n",
       " 'mind_aggregate',\n",
       " 'change_may',\n",
       " 'always_reflect',\n",
       " 'direction_estimate',\n",
       " 'revision_covering',\n",
       " 'analyst_price',\n",
       " 'consensus_eps',\n",
       " 'surprise_earnings',\n",
       " 'whisper_estimate',\n",
       " 'revision_ahead',\n",
       " 'company_earnings',\n",
       " 'release_offer',\n",
       " 'clue_business',\n",
       " 'condition_period',\n",
       " 'whose_result',\n",
       " 'coming_insight',\n",
       " 'core_proprietary',\n",
       " 'surprise_prediction',\n",
       " 'model',\n",
       " 'zacks_earnings',\n",
       " 'esp_expected',\n",
       " 'surprise_prediction',\n",
       " 'zacks_earnings',\n",
       " 'esp_compare',\n",
       " 'accurate_estimate',\n",
       " 'zacks_consensus',\n",
       " 'estimate_quarter',\n",
       " 'accurate_estimate',\n",
       " 'recent_version',\n",
       " 'zacks_consensus',\n",
       " 'eps_estimate',\n",
       " 'idea_analyst',\n",
       " 'revising_estimate',\n",
       " 'right_earnings',\n",
       " 'release_latest',\n",
       " 'information_could',\n",
       " 'potentially_accurate',\n",
       " 'others_contributing',\n",
       " 'consensus_predicted',\n",
       " 'earlier_thus',\n",
       " 'positive_negative',\n",
       " 'earnings_esp',\n",
       " 'reading_theoretically',\n",
       " 'indicates_likely',\n",
       " 'deviation_actual',\n",
       " 'earnings_consensus',\n",
       " 'estimate_however',\n",
       " 'model_predictive',\n",
       " 'power_significant',\n",
       " 'positive_esp',\n",
       " 'reading_positive',\n",
       " 'earnings_esp',\n",
       " 'strong_predictor',\n",
       " 'earnings_beat',\n",
       " 'particularly_combined',\n",
       " 'zacks_rank',\n",
       " 'strong_buy',\n",
       " 'buy_hold',\n",
       " 'research_show',\n",
       " 'stock_combination',\n",
       " 'produce_positive',\n",
       " 'surprise_nearly',\n",
       " 'time_solid',\n",
       " 'zacks_rank',\n",
       " 'actually_increase',\n",
       " 'predictive_power',\n",
       " 'earnings_esp',\n",
       " 'please_note',\n",
       " 'negative_earnings',\n",
       " 'esp_reading',\n",
       " 'indicative_earnings',\n",
       " 'miss_research',\n",
       " 'show_difficult',\n",
       " 'predict_earnings',\n",
       " 'beat_degree',\n",
       " 'confidence_stock',\n",
       " 'negative_earnings',\n",
       " 'esp_reading',\n",
       " 'zacks_rank',\n",
       " 'sell_strong',\n",
       " 'sell_number',\n",
       " 'shaped_accurate',\n",
       " 'estimate_higher',\n",
       " 'zacks_consensus',\n",
       " 'estimate_suggesting',\n",
       " 'analyst_recently',\n",
       " 'become_bullish',\n",
       " 'company_earnings',\n",
       " 'prospect_resulted',\n",
       " 'earnings_esp',\n",
       " 'hand_stock',\n",
       " 'currently_carry',\n",
       " 'zacks_rank',\n",
       " 'combination_indicates',\n",
       " 'likely_beat',\n",
       " 'consensus_eps',\n",
       " 'estimate_earnings',\n",
       " 'surprise_history',\n",
       " 'hold_clue',\n",
       " 'calculating_estimate',\n",
       " 'company_future',\n",
       " 'earnings_analyst',\n",
       " 'often_consider',\n",
       " 'extent_able',\n",
       " 'match_past',\n",
       " 'consensus_estimate',\n",
       " 'worth_taking',\n",
       " 'look_surprise',\n",
       " 'history_gauging',\n",
       " 'influence_upcoming',\n",
       " 'number_last',\n",
       " 'reported_quarter',\n",
       " 'expected_would',\n",
       " 'post_loss',\n",
       " 'per_share',\n",
       " 'actually_produced',\n",
       " 'earnings_delivering',\n",
       " 'surprise_last',\n",
       " 'four_quarter',\n",
       " 'company_beaten',\n",
       " 'consensus_eps',\n",
       " 'estimate_bottom',\n",
       " 'line_earnings',\n",
       " 'beat_miss',\n",
       " 'may_sole',\n",
       " 'basis_stock',\n",
       " 'moving_higher',\n",
       " 'lower_many',\n",
       " 'stock',\n",
       " 'end_losing',\n",
       " 'ground_despite',\n",
       " 'earnings_beat',\n",
       " 'due_factor',\n",
       " 'disappoint_investor',\n",
       " 'similarly_unforeseen',\n",
       " 'catalyst_help',\n",
       " 'number_stock',\n",
       " 'gain_despite',\n",
       " 'earnings_miss',\n",
       " 'betting_stock',\n",
       " 'expected_beat',\n",
       " 'earnings_expectation',\n",
       " 'increase_odds',\n",
       " 'success_worth',\n",
       " 'checking_company',\n",
       " 'earnings_esp',\n",
       " 'zacks_rank',\n",
       " 'ahead_quarterly',\n",
       " 'release_make',\n",
       " 'sure_utilize',\n",
       " 'earnings_esp',\n",
       " 'filter_uncover',\n",
       " 'best_stock',\n",
       " 'buy_sell',\n",
       " 'reported_appears',\n",
       " 'compelling_earnings',\n",
       " 'beat_candidate',\n",
       " 'however_investor',\n",
       " 'pay_attention',\n",
       " 'factor_betting',\n",
       " 'stock_staying',\n",
       " 'away_ahead',\n",
       " 'earnings_release']"
      ]
     },
     "execution_count": 10,
     "metadata": {},
     "output_type": "execute_result"
    }
   ],
   "source": [
    "content_bigram_phrases = Phrases(content_text, min_count=1, threshold=0.3)\n",
    "content_bigrams = []\n",
    "for i in content_text:\n",
    "    content_bigrams.append(content_bigram_phrases[i])\n",
    "content_bigrams[0]"
   ]
  },
  {
   "cell_type": "markdown",
   "metadata": {},
   "source": [
    "### LDA Model"
   ]
  },
  {
   "cell_type": "code",
   "execution_count": 11,
   "metadata": {},
   "outputs": [],
   "source": [
    "content_dict = corpora.Dictionary(content_bigrams)\n",
    "corpus = [content_dict.doc2bow(text) for text in content_bigrams]"
   ]
  },
  {
   "cell_type": "code",
   "execution_count": 14,
   "metadata": {},
   "outputs": [],
   "source": [
    "content_model = ldamodel.LdaModel(corpus, num_topics = 19, id2word=content_dict, passes=15)"
   ]
  },
  {
   "cell_type": "code",
   "execution_count": 13,
   "metadata": {},
   "outputs": [],
   "source": [
    "# Save lda model\n",
    "content_model.save('news_lda')"
   ]
  },
  {
   "cell_type": "code",
   "execution_count": 15,
   "metadata": {},
   "outputs": [],
   "source": [
    "# Load saved model\n",
    "content_model = content_model.load('news_lda')"
   ]
  },
  {
   "cell_type": "markdown",
   "metadata": {},
   "source": [
    "### Model Evaluation & Visualization"
   ]
  },
  {
   "cell_type": "code",
   "execution_count": 16,
   "metadata": {},
   "outputs": [
    {
     "name": "stdout",
     "output_type": "stream",
     "text": [
      "0.6206826577163279\n"
     ]
    }
   ],
   "source": [
    "coherence_model_lda = CoherenceModel(model=content_model, texts=content_bigrams, dictionary=content_dict, coherence='c_v')\n",
    "coherence_score = coherence_model_lda.get_coherence()\n",
    "print(coherence_score)"
   ]
  },
  {
   "cell_type": "code",
   "execution_count": 17,
   "metadata": {
    "collapsed": true
   },
   "outputs": [
    {
     "name": "stdout",
     "output_type": "stream",
     "text": [
      "(0, '0.013*\"electric_car\" + 0.010*\"electric_vehicle\" + 0.008*\"china\" + 0.005*\"vehicle\" + 0.005*\"car\" + 0.004*\"plug_hybrid\" + 0.004*\"model\" + 0.004*\"byd\" + 0.003*\"ev\" + 0.003*\"audi\"')\n",
      "(1, '0.003*\"hyperloop\" + 0.003*\"twitter\" + 0.003*\"fla_reuters\" + 0.002*\"company\" + 0.002*\"share\" + 0.002*\"million\" + 0.002*\"technology_spacex\" + 0.002*\"service_center\" + 0.001*\"chinese_automaker\" + 0.001*\"cybertruck\"')\n",
      "(2, '0.003*\"pivot_support\" + 0.003*\"resistance_scenario\" + 0.003*\"scenario_look\" + 0.003*\"target_extension\" + 0.003*\"comment_rsi\" + 0.002*\"eur_usd\" + 0.002*\"support_resistance\" + 0.002*\"tuesday\" + 0.002*\"position_target\" + 0.002*\"u_dollar\"')\n",
      "(3, '0.002*\"brian_johnson\" + 0.002*\"citron\" + 0.002*\"motor_n\" + 0.002*\"sqm\" + 0.001*\"detroit_based\" + 0.001*\"discontinued\" + 0.001*\"target_price\" + 0.001*\"vehicle_ahead\" + 0.001*\"construction_job\" + 0.001*\"root_cause\"')\n",
      "(4, '0.002*\"jonas_think\" + 0.002*\"good_business\" + 0.002*\"hyperloop_transportation\" + 0.002*\"reached_comment\" + 0.001*\"part_would\" + 0.001*\"senior_note\" + 0.001*\"ishares_nasdaq\" + 0.001*\"ibb\" + 0.001*\"known_hyperloop\" + 0.001*\"zombie_firm\"')\n",
      "(5, '0.009*\"zacks_rank\" + 0.004*\"zacks_investment\" + 0.004*\"investment_research\" + 0.004*\"equity_research\" + 0.002*\"zacks_equity\" + 0.002*\"strong_buy\" + 0.002*\"analyst_blog\" + 0.002*\"zacks_consensus\" + 0.002*\"rank_strong\" + 0.002*\"zacks_com\"')\n",
      "(6, '0.007*\"per_share\" + 0.005*\"third_quarter\" + 0.005*\"spacex\" + 0.004*\"fourth_quarter\" + 0.004*\"year_ago\" + 0.004*\"company\" + 0.003*\"quarter\" + 0.003*\"year_year\" + 0.003*\"consensus_estimate\" + 0.003*\"inc_nasdaq\"')\n",
      "(7, '0.026*\"implied_volatility\" + 0.010*\"underlying_stock\" + 0.010*\"high_level\" + 0.010*\"option_trade\" + 0.007*\"industry_rank\" + 0.006*\"current_quarter\" + 0.006*\"option_trader\" + 0.006*\"big_move\" + 0.006*\"estimate_current\" + 0.005*\"stock_based\"')\n",
      "(8, '0.002*\"actively_managed\" + 0.002*\"alternative_energy\" + 0.002*\"expense_ratio\" + 0.002*\"asset_base\" + 0.002*\"etf\" + 0.002*\"per_year\" + 0.002*\"million_asset\" + 0.002*\"top_performing\" + 0.002*\"bps_fee\" + 0.002*\"average_daily\"')\n",
      "(9, '0.004*\"company\" + 0.004*\"car\" + 0.003*\"year\" + 0.003*\"self_driving\" + 0.003*\"vehicle\" + 0.002*\"model\" + 0.002*\"time\" + 0.002*\"motor_inc\" + 0.002*\"electric_car\" + 0.002*\"elon_musk\"')\n",
      "(10, '0.008*\"investing_com\" + 0.004*\"u_stock\" + 0.004*\"wall_street\" + 0.004*\"dow_jones\" + 0.003*\"oil_price\" + 0.003*\"nasdaq_composite\" + 0.003*\"industrial_average\" + 0.003*\"fell\" + 0.003*\"federal_reserve\" + 0.003*\"session\"')\n",
      "(11, '0.013*\"autopilot\" + 0.007*\"crash\" + 0.006*\"accident\" + 0.006*\"hand_wheel\" + 0.005*\"nhtsa\" + 0.005*\"autopilot_system\" + 0.004*\"national_highway\" + 0.004*\"fatal_crash\" + 0.004*\"traffic_safety\" + 0.004*\"safety_administration\"')\n",
      "(12, '0.002*\"downward_net\" + 0.002*\"rose_report\" + 0.001*\"japan_softbank\" + 0.001*\"cruise\" + 0.001*\"nyse_kor\" + 0.001*\"percent_trading\" + 0.001*\"tracy\" + 0.001*\"report_expected\" + 0.001*\"production_manufacturing\" + 0.001*\"recruiting\"')\n",
      "(13, '0.008*\"zacks_rank\" + 0.003*\"zacks_consensus\" + 0.003*\"earnings_esp\" + 0.002*\"stationary_battery\" + 0.002*\"consensus_estimate\" + 0.002*\"borrow\" + 0.002*\"carry_zacks\" + 0.002*\"day_sma\" + 0.002*\"rivian\" + 0.002*\"year_year\"')\n",
      "(14, '0.006*\"electric_car\" + 0.006*\"battery\" + 0.004*\"solarcity\" + 0.003*\"energy_storage\" + 0.003*\"lithium_ion\" + 0.003*\"year\" + 0.003*\"solar_panel\" + 0.003*\"elon_musk\" + 0.002*\"plant\" + 0.002*\"source\"')\n",
      "(15, '0.003*\"fuel_cell\" + 0.003*\"according_thomson\" + 0.002*\"yen\" + 0.002*\"taxpayer\" + 0.002*\"tax_credit\" + 0.002*\"car_united\" + 0.002*\"alarm\" + 0.002*\"south_australia\" + 0.002*\"next_spring\" + 0.001*\"ahead_thursday\"')\n",
      "(16, '0.007*\"percent\" + 0.005*\"point_percent\" + 0.004*\"fell_percent\" + 0.003*\"rose_percent\" + 0.003*\"future_pointed\" + 0.003*\"new_low\" + 0.003*\"reuters_u\" + 0.003*\"high_new\" + 0.002*\"chief_investment\" + 0.002*\"week_high\"')\n",
      "(17, '0.012*\"model_x\" + 0.010*\"musk\" + 0.009*\"elon_musk\" + 0.007*\"model_sedan\" + 0.005*\"chief_executive\" + 0.005*\"electric_car\" + 0.004*\"model\" + 0.004*\"x\" + 0.004*\"wall_street\" + 0.003*\"model_model\"')\n",
      "(18, '0.007*\"stock\" + 0.004*\"short_seller\" + 0.004*\"share\" + 0.003*\"nasdaq\" + 0.003*\"price\" + 0.003*\"fund\" + 0.003*\"short\" + 0.003*\"market\" + 0.003*\"hedge_fund\" + 0.003*\"week\"')\n"
     ]
    }
   ],
   "source": [
    "for i in (content_model.print_topics(num_words=10)):\n",
    "    print(i)"
   ]
  },
  {
   "cell_type": "code",
   "execution_count": 17,
   "metadata": {},
   "outputs": [
    {
     "data": {
      "text/html": [
       "\n",
       "<link rel=\"stylesheet\" type=\"text/css\" href=\"https://cdn.rawgit.com/bmabey/pyLDAvis/files/ldavis.v1.0.0.css\">\n",
       "\n",
       "\n",
       "<div id=\"ldavis_el1290823759743534402706561729\"></div>\n",
       "<script type=\"text/javascript\">\n",
       "\n",
       "var ldavis_el1290823759743534402706561729_data = {\"mdsDat\": {\"x\": [-0.09899447720155147, 0.05012741965677679, 0.06847017551827003, 0.10802286942492113, 0.10909196481936359, 0.09264403201732971, -0.09775861025644024, 0.10602385805096363, 0.1104808711722429, -0.35717064090390754, -0.1701880588202589, 0.11064927457575913, 0.10836063894161127, 0.1066264354813744, -0.1766294647301892, 0.10085606112951095, 0.08772694213280947, -0.07474501533161457, -0.18359427567697081], \"y\": [-0.21877569923364024, 0.007441585361169728, 0.0319903118181177, -0.011729546279602626, -0.009710352433605353, 0.017289677233895136, 0.10644349127491101, 0.009962050042604812, -0.00625252380615984, -0.06398365115035264, 0.19164412441098932, -0.017260475730729346, -0.009383846223182375, 0.013430663085304627, -0.1600977397212855, -0.028734223005927748, 0.017090005596631548, -0.046799867158791385, 0.17743601591965258], \"topics\": [1, 2, 3, 4, 5, 6, 7, 8, 9, 10, 11, 12, 13, 14, 15, 16, 17, 18, 19], \"cluster\": [1, 1, 1, 1, 1, 1, 1, 1, 1, 1, 1, 1, 1, 1, 1, 1, 1, 1, 1], \"Freq\": [4.566114863977176, 2.942708793745163, 2.5247341210190677, 1.6314518604763917, 0.18866951720354438, 2.9570777397421626, 8.129389466879765, 2.1545013803056183, 0.924193356782486, 38.09938320531834, 7.800279399778224, 0.6058562688379496, 0.15082428175029666, 1.9878143488614952, 6.773577639545317, 1.6509408380375512, 1.4933001849594625, 4.792970553509825, 10.62621217927017]}, \"tinfo\": {\"Term\": [\"electric_car\", \"implied_volatility\", \"car\", \"electric_vehicle\", \"elon_musk\", \"model_x\", \"musk\", \"vehicle\", \"model\", \"percent\", \"zacks_rank\", \"investing_com\", \"china\", \"driver\", \"model_sedan\", \"chief_executive\", \"stock\", \"battery\", \"per_share\", \"investor\", \"company\", \"share\", \"motor_inc\", \"spacex\", \"self_driving\", \"new_york\", \"third_quarter\", \"short_seller\", \"crash\", \"detail\", \"pollution\", \"future_mobility\", \"beijing_reuters\", \"byd\", \"wang\", \"inflator\", \"paris\", \"air_pollution\", \"pure_electric\", \"across_atlantic\", \"billion_yuan\", \"hybrid_car\", \"new_energy\", \"chargepoint\", \"e_golf\", \"vw\", \"geely\", \"plan_begin\", \"build_electric\", \"km_per\", \"ford_fusion\", \"diesel_emission\", \"rupture\", \"samuelsson\", \"model_e\", \"smaller_battery\", \"alternative_fuel\", \"brine\", \"battery_power\", \"paris_reuters\", \"tencent\", \"volvo\", \"charging_station\", \"intersection\", \"model_range\", \"audi\", \"hand_free\", \"plug_hybrid\", \"hybrid_vehicle\", \"volkswagen\", \"driving_range\", \"charger\", \"china\", \"ev\", \"beijing\", \"car_market\", \"vowg_p\", \"electric_vehicle\", \"electric_car\", \"lithium\", \"volkswagen_de\", \"car_china\", \"nissan_leaf\", \"li\", \"electric\", \"nissan\", \"battery_powered\", \"bmw\", \"vehicle\", \"fuel_cell\", \"car\", \"de_vowg\", \"model\", \"city\", \"brand\", \"motor_inc\", \"united_state\", \"co_ltd\", \"fla_reuters\", \"technology_spacex\", \"main_stage\", \"countdown\", \"unsworth\", \"zetsche\", \"chesapeake_energy\", \"recalled_model\", \"million_square\", \"musk_goal\", \"single_motor\", \"tragic\", \"b_class\", \"retail_operation\", \"swap\", \"use_proceeds\", \"microblog\", \"visa\", \"nike_nyse\", \"baillie_gifford\", \"dragon\", \"received_order\", \"hike_would\", \"boston_reuters\", \"company_headed\", \"widened_million\", \"halting\", \"offering_price\", \"late_afternoon\", \"wednesday_closing\", \"hyperloop\", \"seat_belt\", \"june_th\", \"service_center\", \"chinese_automaker\", \"according_reuters\", \"transformative\", \"paypal\", \"twitter_n\", \"cybertruck\", \"twitter\", \"launch_vehicle\", \"bloomberg_report\", \"patient\", \"million\", \"company\", \"ipo\", \"share\", \"per_share\", \"nvidia\", \"million_share\", \"worth_billion\", \"firm\", \"tweet\", \"pivot_support\", \"resistance_scenario\", \"scenario_look\", \"target_extension\", \"comment_rsi\", \"eur_usd\", \"position_target\", \"target_comment\", \"extension_scenario\", \"downside_target\", \"model_autopilot\", \"wti_oil\", \"raising_interest\", \"raise_interest\", \"air_upgrade\", \"station_billion\", \"inflation_data\", \"cbs\", \"probable_cause\", \"scenario_short\", \"scenario_long\", \"people_bank\", \"look_upside\", \"administration_eia\", \"look_downside\", \"closing_lower\", \"turkish_lira\", \"data_showing\", \"development_u\", \"oil_rig\", \"vehicle_system\", \"price_index\", \"support_resistance\", \"upside_target\", \"equity_index\", \"long_position\", \"ntsb\", \"turkey\", \"greece\", \"u_dollar\", \"tuesday\", \"million_barrel\", \"short_position\", \"safety_board\", \"u\", \"oil\", \"u_equity\", \"higher\", \"brian_johnson\", \"citron\", \"sqm\", \"vehicle_ahead\", \"construction_job\", \"top_mark\", \"polestar\", \"ivan_feinseth\", \"spokesman_company\", \"production_two\", \"company_blog\", \"would_force\", \"would_deliver\", \"vehicle_owner\", \"fuelled\", \"molson_coors\", \"site_solar\", \"chaired\", \"biggest_maker\", \"major_shareholder\", \"abandoned_plan\", \"report_close\", \"detroit_based\", \"share_nearly\", \"much_needed\", \"future_share\", \"motor_n\", \"raised_target\", \"billion_bid\", \"report_earlier\", \"root_cause\", \"gpro\", \"musk_cousin\", \"reservation_model\", \"discontinued\", \"jennifer_ablan\", \"u_factory\", \"target_price\", \"pif\", \"company_continued\", \"software_update\", \"jonas_think\", \"good_business\", \"hyperloop_transportation\", \"reached_comment\", \"part_would\", \"senior_note\", \"ishares_nasdaq\", \"known_hyperloop\", \"zombie_firm\", \"come_around\", \"week_rally\", \"stock_momentum\", \"dependent_state\", \"today_portfolio\", \"downside_price\", \"analyst_noted\", \"week_report\", \"holiday_shortened\", \"musk_boring\", \"ft_report\", \"tipranks\", \"free_day\", \"full_write\", \"intercity_system\", \"packed_pod\", \"biotechnology_nasdaq\", \"pharmaceutical_company\", \"recently_raised\", \"large_tech\", \"receive_car\", \"ibb\", \"petition\", \"rv\", \"market_could\", \"zacks_private\", \"momentum_stock\", \"equity_research\", \"thursday_close\", \"without_notice\", \"company_sector\", \"stock_p\", \"sell_hold\", \"investment_security\", \"management_activity\", \"nothing_herein\", \"material_provided\", \"tax_advice\", \"advice_given\", \"chicago_il\", \"immediate_release\", \"actual_portfolio\", \"described_profitable\", \"visit_information\", \"potential_loss\", \"market_identified\", \"displayed_press\", \"consisting_stock\", \"security_return\", \"making_asset\", \"engage_investment\", \"reflect_firm\", \"information_current\", \"investor_assumed\", \"unmanaged_index\", \"legal_accounting\", \"expressed_may\", \"zacks_investment\", \"investment_research\", \"zacks_equity\", \"analyst_blog\", \"informational_purpose\", \"zacks_com\", \"zacks_rank\", \"today_zacks\", \"performance_guarantee\", \"future_result\", \"strong_buy\", \"subject_change\", \"rank_strong\", \"zacks_consensus\", \"buy_sell\", \"general_motor\", \"release\", \"air_force\", \"cape_canaveral\", \"falcon_rocket\", \"ula\", \"nasa\", \"zacks_analyst\", \"satellite\", \"one_time\", \"blue_origin\", \"net_income\", \"international_space\", \"per_zacks\", \"orbit\", \"launch_pad\", \"falcon\", \"earnings_revenue\", \"lockheed_martin\", \"eps_est\", \"million_cent\", \"pentagon\", \"booster\", \"system_business\", \"test_flight\", \"data_center\", \"communication_satellite\", \"automatic_emergency\", \"seng_index\", \"adjusted_earnings\", \"beat_earnings\", \"co_nasdaq\", \"rocket\", \"capital_expenditure\", \"gross_margin\", \"quarter_result\", \"share_revenue\", \"spacex\", \"analyst_polled\", \"revenue_billion\", \"loss_per\", \"third_quarter\", \"per_share\", \"full_year\", \"year_ago\", \"year_year\", \"ago_quarter\", \"earnings_per\", \"fourth_quarter\", \"consensus_estimate\", \"cent_per\", \"second_quarter\", \"quarter\", \"company_reported\", \"million_million\", \"first_quarter\", \"launch\", \"revenue\", \"inc_nasdaq\", \"zacks_consensus\", \"bottom_line\", \"company\", \"share\", \"earnings\", \"zacks_rank\", \"long_term\", \"analyst\", \"earnings_report\", \"estimate\", \"implied_volatility\", \"underlying_stock\", \"option_trader\", \"option_trade\", \"need_pay\", \"close_attention\", \"also_mean\", \"market_expecting\", \"move_option\", \"market_lately\", \"suggest_investor\", \"future_option\", \"move_one\", \"dave_bartosiak\", \"soon_may\", \"one_piece\", \"picture_company\", \"equity_option\", \"trader_pricing\", \"puzzle_putting\", \"move_much\", \"share_fundamental\", \"event_coming\", \"sell_however\", \"rally_huge\", \"volatility_implied\", \"expecting_big\", \"together_option\", \"direction_could\", \"much_movement\", \"high_level\", \"industry_rank\", \"big_move\", \"estimate_current\", \"current_quarter\", \"stock_based\", \"trading_strategy\", \"could_mean\", \"actively_managed\", \"expense_ratio\", \"million_asset\", \"bps_fee\", \"average_daily\", \"free_fund\", \"fee_per\", \"analysis_well\", \"want_key\", \"etf_info\", \"inbox_zacks\", \"delivered_straight\", \"newsletter_brief\", \"etf_week\", \"innovation_etf\", \"nasdaq_clean\", \"outnumbered_decliners\", \"charge_bps\", \"edge_green\", \"unaffiliated\", \"stock_basket\", \"direct_energy\", \"industrial_innovation\", \"fund_hold\", \"volume_share\", \"clean_edge\", \"energy_etf\", \"base_trade\", \"capital_appreciation\", \"scientific_research\", \"asset_base\", \"top_performing\", \"nyse_agn\", \"top_news\", \"investing_company\", \"alternative_energy\", \"energy_index\", \"etf\", \"per_year\", \"green_energy\", \"self_driving\", \"consumer\", \"co_n\", \"safety\", \"google\", \"track\", \"uber\", \"allow\", \"transportation\", \"software\", \"different\", \"design\", \"rooftop_solar\", \"letter\", \"standard\", \"detroit\", \"fleet\", \"engineering\", \"reno\", \"cause\", \"mile_per\", \"capability\", \"innovation\", \"university\", \"testing\", \"field\", \"regulation\", \"problem\", \"create\", \"example\", \"driving_car\", \"public\", \"autonomous_vehicle\", \"gm\", \"must\", \"dealer\", \"system\", \"driving\", \"feature\", \"want\", \"used\", \"many\", \"use\", \"technology\", \"road\", \"state\", \"take\", \"automaker\", \"ford\", \"change\", \"called\", \"executive\", \"program\", \"research\", \"car\", \"motor_co\", \"manufacturer\", \"provide\", \"industry\", \"time\", \"would\", \"vehicle\", \"including\", \"part\", \"california\", \"company\", \"year\", \"new\", \"cost\", \"reuters\", \"model\", \"one\", \"say\", \"motor_inc\", \"customer\", \"last_year\", \"u\", \"plan\", \"still\", \"first\", \"may\", \"elon_musk\", \"also\", \"market\", \"chief_executive\", \"electric_car\", \"electric_vehicle\", \"united_state\", \"could\", \"dow_jones\", \"industrial_average\", \"worst_performer\", \"rate_hike\", \"pre_market\", \"dow\", \"monetary_policy\", \"p_future\", \"nasdaq_future\", \"tech_heavy\", \"dow_future\", \"fed_president\", \"hike\", \"france_cac\", \"yellen\", \"labor_market\", \"u_economic\", \"germany_dax\", \"rose_point\", \"u_future\", \"japan_nikkei\", \"central_bank\", \"basket_six\", \"brent_oil\", \"janet_yellen\", \"biggest_gainer\", \"crude_future\", \"health_care\", \"et_gmt\", \"opening_bell\", \"investing_com\", \"u_stock\", \"nasdaq_composite\", \"session\", \"u_k\", \"oil_price\", \"federal_reserve\", \"rose\", \"jumped\", \"fell\", \"dollar_index\", \"crude_oil\", \"european_stock\", \"n\", \"bank\", \"interest_rate\", \"wall_street\", \"expectation\", \"new_york\", \"inc_nyse\", \"nyse\", \"report\", \"market\", \"wednesday\", \"share\", \"month\", \"stock\", \"inc_nasdaq\", \"earnings\", \"autopilot_mode\", \"operating_autopilot\", \"may_crash\", \"keep_hand\", \"crash_may\", \"maron\", \"range_resource\", \"hand_wheel\", \"involving_model\", \"insurance_industry\", \"thune\", \"williston_florida\", \"using_autopilot\", \"nhtsa_spokesman\", \"rollover\", \"driver_hand\", \"statement_thursday\", \"tractor_trailer\", \"driving_autopilot\", \"autopilot_engaged\", \"time_accident\", \"report_crash\", \"towing\", \"change_lane\", \"previously_estimated\", \"todd_maron\", \"already_underway\", \"profit_topped\", \"u_highway\", \"gigafactory_end\", \"autopilot\", \"fatal_crash\", \"safety_regulator\", \"autopilot_system\", \"safety_administration\", \"highway_traffic\", \"investigating\", \"accident\", \"crash\", \"u_national\", \"wheel\", \"steering_wheel\", \"administration_nhtsa\", \"nhtsa\", \"national_highway\", \"traffic_safety\", \"david_shepardson\", \"washington_reuters\", \"steering\", \"driver\", \"agency\", \"model_owner\", \"downward_net\", \"rose_report\", \"japan_softbank\", \"nyse_kor\", \"percent_trading\", \"tracy\", \"production_manufacturing\", \"recruiting\", \"u_bancorp\", \"morning_bell\", \"weighed_investor\", \"robust_q\", \"national_labor\", \"gm_cruise\", \"twlo\", \"put_fear\", \"credit_expiration\", \"bear_feared\", \"suspect_solid\", \"function_tax\", \"x_china\", \"nektar_therapeutic\", \"remained_strong\", \"rest_put\", \"rest_issue\", \"credit_expires\", \"daimler_otcpk\", \"splunk\", \"twilio_nyse\", \"four_analyst\", \"report_expected\", \"canaccord_genuity\", \"cruise\", \"percent_increase\", \"nke\", \"q_combined\", \"nyse_cbs\", \"abercrombie_fitch\", \"u_labor\", \"earnings_esp\", \"stationary_battery\", \"borrow\", \"day_sma\", \"rivian\", \"selling_battery\", \"month_ending\", \"price_eps\", \"rdw\", \"accurate_estimate\", \"esp_zacks\", \"sell_large\", \"factory_site\", \"cheaper_battery\", \"model_across\", \"chademo\", \"released_special\", \"gaap_operating\", \"demand_luxury\", \"today_best\", \"partner_financial\", \"year_roughly\", \"investor_short\", \"vg\", \"investor_stand\", \"brainchild\", \"make_killing\", \"tuesday_two\", \"produce_enough\", \"expects_year\", \"estimate_sale\", \"negative_earnings\", \"recent_phenomenon\", \"averaged_per\", \"expected_long\", \"industry_expected\", \"jun\", \"harley_davidson\", \"zacks_rank\", \"electric_pickup\", \"screen_returned\", \"best_stock\", \"zacks_consensus\", \"carry_zacks\", \"term_growth\", \"non_gaap\", \"consensus_estimate\", \"strong_buy\", \"rank_hold\", \"rank_strong\", \"year_year\", \"pickup_truck\", \"currently_carry\", \"growth_rate\", \"earnings_beat\", \"rank_buy\", \"samsung_sdi\", \"storage_system\", \"lg\", \"renault\", \"home_battery\", \"percent_p\", \"powerwall\", \"norwegian\", \"utility_scale\", \"one_source\", \"solar_installation\", \"billion_gigafactory\", \"supply_battery\", \"internal_email\", \"storage_battery\", \"north_carolina\", \"royal\", \"inverter\", \"due_diligence\", \"laurence_frost\", \"battery_cell\", \"norway\", \"solar_installer\", \"near_reno\", \"billion_yen\", \"percent_musk\", \"graphite\", \"delivery_late\", \"japanese_company\", \"aggressive_target\", \"battery_storage\", \"panasonic\", \"clean_energy\", \"rooftop\", \"solar_panel\", \"energy_storage\", \"ge\", \"installation\", \"solar_power\", \"solarcity\", \"solar_system\", \"gigafactory\", \"battery\", \"ion_battery\", \"panasonic_corp\", \"lithium_ion\", \"nichola_groom\", \"car_battery\", \"solar\", \"source\", \"plant\", \"editing\", \"electric_car\", \"site\", \"year\", \"elon_musk\", \"musk\", \"motor_inc\", \"maker\", \"electric_vehicle\", \"company\", \"united_state\", \"energy\", \"firm\", \"power\", \"nasdaq\", \"market\", \"chief_executive\", \"last_year\", \"according_thomson\", \"taxpayer\", \"next_spring\", \"ahead_thursday\", \"rosengren\", \"electrode\", \"american_express\", \"tucson\", \"transcript\", \"liberty_interactive\", \"wednesday_earnings\", \"automaker_investing\", \"economic_impact\", \"percent_end\", \"country_manager\", \"since_announced\", \"hybrid_plug\", \"global_expansion\", \"kilometre_mile\", \"similar_technology\", \"mirai\", \"alexion_pharmaceutical\", \"close_company\", \"salman\", \"car_due\", \"visa_inc\", \"musk_previously\", \"also_building\", \"president_eric\", \"boston_fed\", \"alarm\", \"sold_last\", \"sector_closed\", \"fuel_cell\", \"yen\", \"south_australia\", \"car_united\", \"rose_nearly\", \"tax_credit\", \"factory_would\", \"sale_china\", \"point_percent\", \"high_new\", \"one_nyse\", \"average_dji\", \"posted_new\", \"fed_official\", \"shake_shack\", \"u_exchange\", \"henrik_fisker\", \"p_energy\", \"looked_ahead\", \"point_meanwhile\", \"recorded_new\", \"due_speak\", \"added_percent\", \"pan_european\", \"stock_ended\", \"second_consecutive\", \"kirchert\", \"breitfeld\", \"added_point\", \"pace_since\", \"expected_ramp\", \"humana\", \"inched_point\", \"greenback_strength\", \"composite_ixic\", \"john_williams\", \"spain_ibex\", \"michael_kor\", \"lost_percent\", \"new_low\", \"future_pointed\", \"wednesday_investor\", \"p_spx\", \"fell_percent\", \"chief_investment\", \"rose_percent\", \"percent\", \"reuters_u\", \"week_high\", \"fisker_automotive\", \"inc_n\", \"advancing_issue\", \"percent_nasdaq\", \"gauge\", \"fisker\", \"new_york\", \"nyse\", \"billion_share\", \"china\", \"second_quarter\", \"x_crossover\", \"ahuja\", \"percent_wednesday\", \"independent_director\", \"x_vehicle\", \"week_end\", \"sexy\", \"model_per\", \"windshield\", \"detroit_san\", \"dusaniwsky\", \"brian_sandoval\", \"capital_raise\", \"ltd_hk\", \"cash_reserve\", \"day_musk\", \"fremont_plant\", \"expected_deliver\", \"prospectus\", \"give_detail\", \"monday_citing\", \"jackson\", \"francisco_reuters\", \"temperature\", \"state_grid\", \"company_regularly\", \"solarcity_deal\", \"ben_kallo\", \"model_order\", \"indian\", \"musk_called\", \"reuters_inc\", \"demand_model\", \"per_week\", \"resale_value\", \"production_target\", \"reservation\", \"exchange_commission\", \"u_security\", \"security_exchange\", \"take_private\", \"torque\", \"sedan_model\", \"model_x\", \"begin_production\", \"fisker\", \"reuters_nasdaq\", \"upcoming_model\", \"musk_tweeted\", \"production_rate\", \"model_model\", \"musk_tweet\", \"alexandria_sage\", \"musk\", \"model_sedan\", \"company_share\", \"production_model\", \"model_production\", \"executive_officer\", \"x\", \"elon_musk\", \"new_model\", \"officer_elon\", \"board\", \"chief_executive\", \"delivery\", \"executive_elon\", \"wall_street\", \"electric_car\", \"model\", \"first_quarter\", \"san_francisco\", \"car_maker\", \"quarter\", \"second_quarter\", \"fourth_quarter\", \"company\", \"production\", \"chart\", \"investigator\", \"bottom\", \"long_short\", \"day_day\", \"bearish\", \"short_bet\", \"bull_market\", \"moscow\", \"bounce\", \"correction\", \"monte\", \"mulligan\", \"vix\", \"pullback\", \"offer_buy\", \"short_stock\", \"pattern\", \"spy\", \"stock_utility\", \"fraudulent\", \"shorted\", \"call_option\", \"overvalued\", \"control_vehicle\", \"brainer\", \"spdr_p\", \"downtrend\", \"dma\", \"market_lower\", \"short_seller\", \"bull\", \"credit_suisse\", \"breakout\", \"bear\", \"channel\", \"indicator\", \"hedge_fund\", \"usd\", \"seller\", \"day_moving\", \"valuation\", \"short\", \"time_high\", \"market_cap\", \"stock\", \"stock_market\", \"top_performer\", \"saw\", \"stock_price\", \"bet\", \"fund\", \"finally\", \"trend\", \"trader\", \"index\", \"level\", \"today\", \"high\", \"share\", \"note\", \"price\", \"p\", \"trade\", \"nasdaq\", \"week\", \"see\", \"day\", \"position\", \"market\", \"move\", \"back\", \"investor\", \"look\", \"even\", \"like\", \"long\"], \"Freq\": [1685.0, 454.0, 1360.0, 1030.0, 1206.0, 697.0, 887.0, 1116.0, 1070.0, 547.0, 587.0, 519.0, 615.0, 297.0, 491.0, 866.0, 1010.0, 475.0, 626.0, 728.0, 1916.0, 944.0, 1017.0, 352.0, 873.0, 471.0, 410.0, 352.0, 153.0, 235.0, 81.55985952350144, 67.98456774290813, 78.52221979894874, 134.6676437766525, 46.67805883339657, 47.441825236435044, 41.68456396500066, 40.906194838994416, 38.79991328306438, 35.08565581320818, 34.58107813298314, 33.25935872683918, 59.01732557275536, 31.958249276729443, 31.016924610872124, 100.35186837582133, 29.047607114646812, 28.39944524584895, 27.341085243705333, 26.70800018452321, 25.763228780603594, 25.611751689999636, 25.140627015812928, 24.76439014356055, 24.512878634708674, 23.883428239827683, 23.27456431020105, 23.119638346009353, 25.12551176673924, 22.859287897355838, 50.33752085595385, 74.37000663606048, 77.42733590518218, 36.2588088499247, 34.65296205486353, 115.37239408303387, 78.72693126775401, 156.91735020783344, 37.3639475368605, 58.41242944939871, 66.00186904426748, 35.72241611167482, 296.1142811455996, 126.2964609255802, 106.85527796540327, 63.21532867215649, 103.22593539367041, 350.40787996580883, 490.96143333753196, 77.45298783678335, 79.16038313763033, 49.71362709827118, 56.212479476561334, 57.89746030237619, 84.73545419156365, 104.05259729200675, 58.55225084214392, 69.4921846387193, 195.01367192374497, 68.16947434877056, 193.6828466371192, 72.63366215233091, 150.79350036809058, 92.01661360477384, 74.33423231386742, 105.82393876666872, 88.179928596892, 69.61909464464627, 62.66918070597361, 41.48812208802757, 32.51394788113927, 29.011171243989665, 26.839885567707334, 26.42422851311356, 26.303873268940322, 22.905349459076284, 22.715550133593798, 22.406525485670105, 21.72854079212689, 21.625283011628483, 20.85216331232797, 20.343818268833854, 19.784940538086346, 19.662146534705844, 19.60071099731706, 17.710383593950702, 16.602132687244257, 16.417331992371686, 16.04217595693778, 15.988816400941888, 15.899454868590047, 15.765496522834091, 15.381001085605334, 15.339536673982105, 15.314887589669437, 15.11963959166915, 15.093201349924518, 14.954969670456068, 82.22003614331153, 28.544743406576558, 27.86909425161953, 36.454996522822675, 34.21970305127437, 25.733666042823643, 20.59647344745111, 27.42980105107457, 27.276726246295556, 32.90563297869463, 65.99514730059678, 20.567643239847442, 20.169051994604704, 23.23949525361969, 41.91824654487119, 54.639926600102754, 27.213043251917234, 42.69826688675929, 32.50300099020555, 24.148816626840848, 24.86883413356068, 23.335523461818017, 23.531094884431006, 22.508592788338785, 66.9756906567677, 65.30884625183451, 60.10867409626932, 58.078650996524665, 57.14909811928276, 45.24277584316281, 39.721295892991684, 38.434057367406325, 38.434057367406325, 30.818968644166574, 29.898739304093958, 27.489806992545777, 26.56977602560442, 22.37812106144765, 21.37657763023703, 21.09188148627329, 20.60387649861559, 20.502774687634265, 20.203767339200954, 20.07695731504211, 20.07684159738221, 20.014389484808312, 19.520670642494814, 19.12825080350145, 18.96432256874022, 17.80134473641851, 17.64452841457149, 17.39194864440048, 16.838232557012443, 16.725749087624994, 33.12281278942904, 25.95416752126283, 44.10653233265592, 29.050391885084842, 19.653408244742536, 33.92902953389407, 23.89674059038535, 25.51136563009887, 25.427158597463308, 39.15047956937193, 43.862712861656505, 27.17172984607752, 29.5439867441913, 22.921238355822577, 35.43744937766608, 27.312881775309577, 24.457142324613873, 26.976618063557464, 27.913625436582866, 25.86304210949168, 21.024403138938528, 17.204370308276108, 17.146163065918778, 16.392771237389237, 16.158474230124725, 15.104755738310972, 13.901633113215832, 13.856705356556885, 13.706890722051309, 13.229491532564836, 12.790684036232403, 11.957726693473022, 12.61607375436183, 11.492037471063837, 11.431680056866812, 11.288292284464056, 10.910189373438323, 10.344122682541128, 9.72139766654515, 9.607622445277437, 19.17361792998483, 9.468078734524216, 9.454256746278626, 9.451252762413162, 22.513048440790644, 9.306747938352027, 9.184329300973577, 9.179858042286348, 16.735406995248, 14.798572183954548, 11.084296829459939, 12.690405759490016, 18.866190663741, 14.67345629410863, 13.93533389029732, 18.67068373312177, 14.427590477250982, 11.420778121009622, 12.100061507345337, 2.8184447385217877, 2.6778469557097875, 2.5100769129324014, 2.3090630739692672, 1.670662147122179, 1.6618102059154256, 1.4248788465046374, 1.31967144547356, 1.1930165421637702, 0.8016411419386165, 0.7738223561929926, 0.6034037813347106, 0.5603266518679898, 0.5492515337766879, 0.5464476131467272, 0.5386495963181858, 0.5235788483127687, 0.5225678521169077, 0.5039972439662119, 0.4847473734357879, 0.48228912835435744, 0.4794587802000101, 0.456196293784037, 0.4543712945415414, 0.4543712945415414, 0.45088868508413454, 0.4468134637610151, 0.4430095326673676, 0.4380765418465423, 0.43519783882286645, 1.4057304947281595, 0.8113257928202848, 0.7392965382983493, 0.8229902579412316, 0.6467024343405724, 0.4776200157027421, 85.31983682838042, 41.45978840844839, 40.054172982214276, 39.39132553117627, 38.98514261942674, 38.346071621135415, 36.15347109853157, 35.33796587602512, 35.335404568993546, 35.1244065298037, 35.12284097928548, 35.11189872159982, 34.85564631486826, 34.85564631486826, 34.47477221449986, 34.47477221449986, 34.47477221449986, 34.47477221449986, 34.47477221449986, 34.47477221449986, 34.47477221449986, 34.47477221449986, 34.47477221449986, 34.47477221449986, 34.47477221449986, 34.47477221449986, 34.47477221449986, 34.47477221449986, 34.47477221449986, 34.47477221449986, 97.31349168856826, 97.28126236941931, 56.41808700792886, 52.074386881405594, 39.348245232022045, 43.120190266547176, 224.56781065125583, 36.95026439655786, 38.437601006645046, 38.55787456350689, 53.819605066519806, 37.22521213182769, 44.79166438387642, 46.17528188913631, 37.17920264893001, 40.207461399474504, 37.049704514368045, 162.9859636502419, 131.40702523489873, 126.7488584144641, 124.44302443421283, 104.05480657315641, 72.93778471471211, 96.18648469049384, 59.4174294554664, 59.31063035689785, 59.535094763494136, 51.77611553927701, 51.66573872793691, 46.81088515181883, 45.75437250285746, 45.5392382845092, 46.50854370940982, 43.77790861548597, 42.00758333709238, 40.89280453698957, 40.86775294352328, 38.67982760139262, 36.18789172449725, 35.43201720729488, 50.7320013189533, 34.73941992033374, 34.461023679875055, 34.12791999088299, 45.3042460493641, 32.13914512162596, 31.031462815559394, 122.18585647253322, 86.08325194558276, 158.39335147763634, 88.693385415084, 56.560125840079046, 303.76331139036284, 52.357936801464454, 101.42681875809171, 80.1271319935809, 314.13175872835853, 456.7640421825991, 121.0070590458125, 284.3075800695314, 212.436295943686, 64.8836955142831, 112.57961783821959, 285.6284670623505, 197.72829972965724, 140.06072540852276, 184.46151723936597, 226.01992463114024, 96.80043693103667, 99.80538108026573, 169.5723465630735, 147.4589031355217, 144.85756756969036, 194.28151375619012, 131.04697273812263, 108.50706290657521, 250.41309728241887, 189.9806239486599, 136.84355179392892, 145.67165881160903, 133.19431518320377, 130.40522003447074, 112.9701322209954, 114.35829238042439, 453.8905559278924, 167.24849277644162, 105.28380383160166, 164.92836110742755, 86.89653182228412, 86.89206596905522, 86.8758712052703, 86.22400173377618, 84.79750019363485, 84.7947755394988, 84.60512993830213, 83.95687990381121, 83.647147992956, 85.23911987466684, 83.3153044658429, 83.1651663496188, 83.16194190685427, 82.83970721917952, 82.8363537987044, 82.67825936995878, 82.67506717162189, 82.51887516410736, 82.19033669082793, 82.19033669082793, 82.19033669082793, 82.19033669082793, 82.19033669082793, 82.19033669082793, 82.19033669082793, 82.19033669082793, 167.14195718750108, 119.58108784398127, 102.04253753693327, 101.0118041017121, 105.64999573526406, 87.49514962152178, 83.50990764779007, 85.74881560356528, 15.848172040280577, 14.959465791668375, 12.420054384569191, 11.653051912782093, 11.504453558442457, 11.414210498389116, 11.31977215741655, 10.546515233239056, 10.441948742410803, 10.109983848425465, 10.109982983953813, 10.109982119482163, 10.109982119482163, 10.109982119482163, 10.103934275816204, 9.547489434965415, 9.319439220183954, 9.115115294318434, 9.1057003335743, 8.969760437610969, 8.892008992905415, 8.805669022353475, 8.777926398149935, 8.768969607380495, 7.9989795215697335, 7.557698729509032, 7.538395942028013, 7.452106110831795, 7.409335511458295, 7.218725131618353, 14.251797196075788, 11.826136426618344, 8.623764304268544, 10.322484811631796, 10.366648939305685, 15.684892363902776, 10.534633934876426, 14.235391253095145, 12.759716534129387, 9.104121808340732, 870.2053430376878, 330.9414661983828, 179.88256383382597, 156.24489061470086, 155.5673882430604, 155.42649583202046, 146.9217669719869, 147.40963389598693, 146.04570198716527, 202.75054076013691, 146.9457331150056, 147.81852836953433, 136.6849630820629, 132.7897164563916, 134.85408339563816, 127.86023721132224, 126.63285886162598, 120.43608739298536, 120.40811204388548, 117.8701598636348, 120.58479330121021, 143.82499382944593, 117.3173170730789, 115.27090246772926, 112.99503654367955, 114.14625779652684, 112.58918015740701, 206.37753586158902, 103.59044583339576, 204.64885529284732, 380.099535812361, 229.16274495569047, 176.1082794102977, 261.94614781245707, 159.60303726569504, 156.2123002239342, 580.3981530454028, 289.5965730328198, 236.58701059553636, 246.80223604739672, 281.64822397404043, 313.5596155988008, 354.55205500309273, 569.9678025045724, 244.27183899327238, 588.9869415929387, 275.7752003511295, 496.6808695610951, 199.36377728706987, 236.21552646939992, 315.39251770695984, 274.64376675762963, 291.7493563301769, 212.82177334825454, 1133.2659966846354, 306.2794319161661, 231.13465069335788, 265.61125709972106, 463.3094854498077, 721.5141174164401, 485.3495345923119, 861.6324844023146, 391.8128679365603, 381.080633087163, 317.1044665223227, 1252.0568840888363, 1057.3939989347798, 402.9093881598415, 375.8512384991799, 377.8674949654521, 740.7947992908496, 529.219942489927, 440.0363827036657, 699.0836606950962, 329.85915874339776, 572.0104662748995, 536.7520468640101, 404.959250682421, 412.30105140785014, 380.1642533078583, 441.202865667662, 608.0870844628387, 494.0232113966069, 555.4273208014658, 491.74997372987707, 611.2193969899527, 512.3248629646829, 431.9362540119992, 404.7664880540372, 228.08512627127982, 183.50627176753804, 167.0266295305395, 161.00406477757642, 141.80512039791708, 138.04123266588024, 113.63973868890983, 111.00264308566777, 110.33918297717184, 98.42507903571547, 96.86230842494442, 101.86786001353042, 88.35061546195944, 84.87018597581036, 81.85501471271212, 76.50821879567899, 69.36935388194135, 67.20379125313916, 68.82135649522597, 65.7785544373484, 63.99122798529838, 146.94882596039974, 65.59139903283702, 57.57781553491343, 56.880358677467335, 55.533647456821164, 55.322677181921684, 54.44945797146881, 136.0463870521947, 53.82950523801095, 511.52304488303736, 250.64158797208887, 188.54246019459205, 167.62534296016779, 84.23763996223919, 208.00037669727686, 175.48451285225235, 126.53358668998153, 122.25579681918384, 180.94329848913443, 86.28327458106307, 110.67758907504883, 104.23921989544742, 125.08544703162086, 142.74878463704553, 151.04635535699146, 236.8571411584612, 132.56694985231178, 164.4088908057103, 129.21985153695687, 128.75887619654017, 163.68561626478743, 162.16854189581804, 139.23362513158048, 147.20347871967837, 134.37568342130993, 139.65952023399905, 133.105994773964, 127.93063819807952, 19.191036966688, 17.416385852331604, 15.207799177988559, 12.746979766374489, 11.032933284357096, 10.716362458127133, 9.189788995441065, 27.685503102297243, 15.10696864738052, 8.757772300681358, 8.874957388756727, 8.662754469610462, 8.319070179730787, 8.116991456473286, 8.06897902299509, 7.869526980283038, 7.892655936723462, 7.094578014000464, 6.8853644669959975, 6.57818168605533, 6.327082926728521, 6.658607980840531, 6.1545953040883035, 6.001706628585899, 5.816280549951481, 5.720371290941428, 5.635601197584305, 5.625479835223636, 9.283961868433588, 5.4712599682215, 63.20069718007457, 21.523427284034202, 10.67846005289722, 23.992393655631307, 20.989062421017977, 20.782047125110765, 12.695786980960792, 27.698557732943403, 32.54953063226752, 17.38977108962688, 18.991522586357824, 17.36186537152139, 19.472095751990253, 24.81542249336077, 21.605041960503073, 21.147703725261877, 19.866429923300338, 18.738448857947763, 11.427426133240584, 19.94120106271056, 10.413368765124318, 9.89707161066256, 2.67259333705542, 1.9089761347669458, 1.3851047058348835, 1.2773645944733587, 1.1798710460694701, 1.1669039356823783, 1.0683223234924664, 1.0224448281619762, 0.9896262849721857, 0.9503210476041831, 0.651019141826162, 0.6366863262227851, 0.4727661838914994, 0.4685968363258278, 0.46030614297123607, 0.4511420359506125, 0.45114193014214055, 0.4511418596031593, 0.4511417537946874, 0.4511417537946874, 0.44750874937306956, 0.4328344192918948, 0.39289355516370694, 0.3768721068878105, 0.37687189527086673, 0.37687164838443227, 0.3736840623600167, 0.37215717557153943, 0.366977145482293, 0.3564751608734935, 1.1142618225874892, 0.8004010237711345, 1.3519089201732841, 0.9867467426789575, 0.9306201449875054, 0.44320781133784687, 0.6009696184487122, 0.604411568039572, 0.4592012909076715, 51.786270087636346, 34.42590662788856, 31.152231852936414, 27.806551461102497, 27.756532788899417, 20.517891385964294, 18.18334270135564, 16.23196928714356, 16.10915848832518, 15.553356417264022, 14.686196897219771, 14.104434426868648, 13.979399832207923, 13.838491872073881, 13.734024599913225, 13.086026110087353, 14.492100054254562, 11.542485883130732, 9.718466616516935, 11.393116900437674, 9.548303469273002, 9.47900508211235, 9.47066863674517, 9.358005300978284, 9.280560123279816, 9.025661243573344, 8.92276977992137, 8.906295840821736, 8.888447833889751, 8.883010132434121, 15.237332901670259, 14.637742877358944, 17.995026611963883, 15.07348042590535, 24.46600848391105, 17.762401948221754, 11.268034892069608, 26.24542074872239, 128.60507366554825, 20.855391451622427, 12.45952369361711, 22.42881811877295, 51.82981260522497, 29.261360188652436, 20.533692236355794, 25.747201230705993, 33.48940967410115, 25.64782210011939, 22.86220171620196, 23.52398179029493, 27.14551327207733, 20.762479178844917, 17.860289871228453, 19.73999793163498, 16.55099660054945, 16.291433513593383, 78.16651788035361, 67.67635023266782, 66.90886770122023, 59.970213065349185, 55.52643262897879, 47.98677035713692, 46.16608938895065, 43.414755148283106, 42.399803170404375, 50.573486111247774, 39.730597600816466, 38.26367340956831, 49.96459348926664, 36.88485577955706, 36.179946266862224, 34.89936624881547, 34.515428571226415, 41.97954196947496, 34.09772706041203, 32.336568391200316, 103.2336835583803, 76.20102434466908, 30.786919957410117, 31.5851662892378, 41.39275835406913, 28.09531709931563, 27.992834456714814, 27.69957253427764, 28.595432395207606, 27.006869068628895, 77.78105642684211, 102.81628300123043, 95.51427908635651, 42.486423970918565, 168.45272494474563, 188.90219064764506, 93.40079237812981, 72.28746724237547, 66.68971641065333, 235.80889215770202, 55.33081908291032, 73.62121151724222, 300.693843297122, 95.87954179707904, 72.32377175811597, 183.25923974344602, 72.47450202503859, 73.51441414947224, 116.22347730553278, 120.15995123739593, 135.54365081357076, 72.54443098493876, 306.51863357335463, 113.31219727994183, 174.63825412293315, 151.4949553368885, 118.46148280046945, 118.22424261069852, 96.96063071868505, 102.6189017483746, 107.9267233235024, 90.19932332541305, 81.28687516858346, 82.47225245477738, 79.87343202748637, 83.48234799089083, 82.23243990315817, 81.34115453792883, 80.21022768947905, 39.38920716146863, 27.52398377486235, 19.995557542965646, 19.896766825182812, 17.711012349602818, 17.200839435209588, 16.579191280565166, 16.262147710396437, 16.21346965862537, 16.12665773811391, 16.056980887155518, 15.94393359383971, 16.020900879491688, 16.17824208052114, 15.665944269254709, 15.410514987126515, 15.411152765039764, 15.183445974675868, 15.171751320591028, 15.138438620482995, 13.646524744260496, 12.992328296450074, 12.387314100141166, 12.349584054462067, 12.313524122132069, 12.278247127821485, 12.125784232912991, 12.086545448683662, 11.849468882318213, 11.849468882318213, 22.838737506589972, 15.269647913890152, 19.68743823081306, 45.80616099155017, 31.924385764174634, 20.029382936214596, 23.48558792647466, 16.29401653072508, 26.54602160856268, 16.13651472702498, 15.606482674703447, 65.85111277685394, 30.650477851389457, 23.144419705361052, 22.538098430243927, 21.592189302796292, 20.978284786412367, 20.61298319518324, 20.285438574792746, 19.441016933202913, 18.72323779533308, 18.227013897244987, 17.274863855820545, 17.11878234069161, 16.633003732379375, 15.930445552344196, 15.72188337026439, 15.692690196111476, 15.41447645282904, 15.200110555983427, 15.079851440104521, 15.029239695020472, 14.591667537730501, 14.308884853172746, 14.113025193855933, 13.708565638789356, 13.097694977633187, 12.420080898268951, 12.284232068671354, 12.150351333924544, 12.101141978641907, 20.385784872933666, 34.80422235012493, 39.40866196649328, 15.206587529598119, 15.36065066498299, 42.48888545306293, 28.38963273275473, 40.47760425976564, 82.45870447969436, 32.37165990815707, 27.834386941181883, 21.310457013787005, 27.695681650285593, 18.314573864467448, 20.410072476386816, 18.077079710319257, 24.750260788172845, 26.153220485042624, 21.397685938795387, 18.7757268430995, 20.878601969502192, 20.064900207297292, 58.3365444606352, 52.24741173161533, 45.36751940006559, 39.15199048622919, 46.68694798105642, 35.49562901759674, 32.473512512820385, 30.598051454839595, 31.573520836904844, 28.61614690315447, 27.956403471553056, 27.671726248714762, 27.561998776527176, 26.041160320642483, 25.564839976665613, 25.556534761457133, 25.49891607003508, 24.274940302541523, 23.61012631849704, 23.619346116109043, 23.596295501267267, 23.517814019576573, 22.66005228949437, 21.238941423194017, 21.123571784561157, 20.56502420596151, 20.2920460163683, 19.674862049260323, 19.919436627002888, 19.363679869708115, 22.627580130922166, 70.83364051773898, 32.901281532586616, 77.79000359466579, 61.38781103790037, 47.157545460140646, 43.90565357621993, 53.824931880283174, 55.34940624954659, 86.60673039504461, 33.22664422264053, 29.124995446291994, 43.968791144792675, 467.4337054215857, 39.681058473679926, 101.76371004291697, 61.460013732060986, 41.0689148547933, 69.96571974978234, 43.14889043626815, 128.6717555014415, 48.77395777719367, 114.59894156099449, 401.96154869942706, 251.90445358314497, 83.4669421042618, 52.96215787996989, 83.22749187792722, 74.14081083810802, 142.08532589233613, 351.20028854106863, 85.32045990942862, 74.21857724189009, 87.65108486843415, 208.1117016180425, 86.76949019689539, 91.01135925041962, 134.8416449600432, 202.0123336359479, 159.692400067298, 101.55218147937235, 101.88203189974944, 98.22918978007174, 105.57344787726993, 91.0106688303699, 88.67765878391988, 113.18082774536451, 79.07613958286949, 148.20079570591986, 104.50499627696797, 91.24879737105904, 81.95120516101261, 79.73563143238171, 73.86905003070045, 64.66483982276473, 65.20949693502236, 63.772099930952336, 63.081271906183794, 61.8450164546112, 52.75487740657154, 50.97651433540139, 48.24133611147083, 46.84237531838134, 46.285413052466126, 44.0549647984325, 77.77138400650445, 41.24561273833897, 40.8388916276025, 40.242593622107385, 39.12859951347921, 39.09848766937124, 38.85155215953218, 38.085673133972, 37.26612803338295, 38.72030795502231, 36.73415874717048, 36.70913594884013, 36.11469912268458, 342.76401107009116, 80.21201382697053, 75.57296592828793, 73.64463503935873, 95.98277287071645, 55.585326145694346, 60.820806233696274, 224.72603938580124, 64.59900029301684, 100.01339652201196, 76.52497531223297, 125.64532977704744, 237.09317603063553, 113.41840031920344, 110.07192532009334, 611.9704376143399, 194.59071807836395, 104.62861436746833, 119.319526600963, 157.06599296686346, 91.04520572132688, 237.16969062906537, 110.17003854445043, 124.30997211663559, 129.9332186077609, 152.4382314187287, 192.12720246121242, 215.1402252911135, 205.59108810837768, 325.2893609776141, 118.2712229289447, 247.30814328866586, 177.39962325530834, 171.04328580455822, 278.7272757889316, 217.192879978063, 178.892681697571, 186.39329904305163, 140.18323269276752, 228.97163546303082, 150.784380996887, 138.24597609464243, 172.5995994955098, 134.8156411751696, 146.14909521505365, 145.90188885268054, 132.3287676330622], \"Total\": [1685.0, 454.0, 1360.0, 1030.0, 1206.0, 697.0, 887.0, 1116.0, 1070.0, 547.0, 587.0, 519.0, 615.0, 297.0, 491.0, 866.0, 1010.0, 475.0, 626.0, 728.0, 1916.0, 944.0, 1017.0, 352.0, 873.0, 471.0, 410.0, 352.0, 153.0, 235.0, 82.41541795386543, 68.825717278164, 79.66865753044814, 136.8786924433328, 47.521642816251685, 48.39657417706243, 42.52596142895207, 41.74936253065952, 39.643955830317466, 35.92680000523139, 35.43219718390368, 34.100809769802105, 60.513071821582486, 32.799405818107736, 31.858070788691883, 103.08488859026498, 29.8888399564659, 29.2405896035129, 28.182847224588865, 27.549176712866053, 26.604372923040987, 26.453051713828383, 25.981770848792326, 25.60553447265304, 25.354023040911823, 24.724572072707982, 24.11780237922865, 23.96079057902668, 26.043012344515976, 23.70043183498563, 52.63662416033005, 78.8870361399359, 82.40673156744617, 38.119907217843725, 36.37347272963565, 137.10178974104124, 91.90430308513153, 202.0334604995834, 40.39900721902944, 69.217300323556, 85.55976570056971, 39.633336713609545, 615.1730618723196, 204.1410303910483, 171.84176056882927, 86.0621039969372, 175.21541140764165, 1030.4962262062825, 1685.3893265593078, 120.02842815926196, 124.78145839829924, 61.87310944430297, 75.17355129327224, 79.4168799546223, 149.0733922324826, 230.4511633549603, 82.3959818409765, 118.41094674501966, 1116.0439189370477, 114.90273006681828, 1360.6800590477333, 144.10649838628103, 1070.1349772944475, 275.5358618185962, 175.39679891902347, 1017.1846036116121, 646.9510287422496, 154.17637132138293, 63.60478498486689, 42.32953544033413, 33.350722535833526, 29.85303649789389, 27.677229799236386, 27.260981880335933, 27.140620303491254, 23.742096065902583, 23.552296684575094, 23.243309156869444, 22.565819562030857, 22.462029545353868, 21.688909957936307, 21.1805647458788, 20.621710601953026, 20.498893060447273, 20.43745750570688, 18.55443428348271, 17.439688735358676, 17.254094245223644, 16.878926729835218, 16.825562941173093, 16.736218210673687, 16.60224382650006, 16.217747623694123, 16.176283181659976, 16.15163491253927, 15.956386424907343, 15.929953833162157, 15.792650464903753, 87.7882741048888, 30.71223377379075, 30.208772418592744, 41.475097988138785, 42.01324925472178, 30.458470396472574, 23.680675235897738, 34.91662926991234, 34.74150758666847, 45.834913291239275, 174.91521021042578, 25.684708513900528, 26.212415138679287, 41.27154293605089, 429.23256915773953, 1916.4507760578383, 91.09533494097604, 944.5674327908757, 626.815345312018, 84.7930584528828, 120.37001820918348, 90.4058527995032, 349.171976015527, 129.37254082168596, 67.80806686334829, 66.14121968609685, 60.941047695603665, 58.91102320923775, 57.98147038188475, 46.07539151254626, 40.553668614609364, 39.26642958400863, 39.26642969161693, 31.651341709832824, 30.731109975092615, 28.322178747277114, 27.40214674899098, 23.210492663334875, 22.209645510948093, 21.924252053408914, 21.43625121415099, 21.335145229259506, 21.0361377890705, 20.90932863621397, 20.9092130942135, 20.84676868174121, 20.353042288435788, 19.96062471179153, 19.796694146976986, 18.63371537971851, 18.476902674305734, 18.224319223339, 17.672870560397982, 17.558120317001755, 35.56589120930548, 27.771998069615847, 51.180125773568534, 32.423820296161864, 20.877994941521656, 47.031305776283375, 28.50195960266608, 36.26554588274199, 39.42247328307444, 173.59865129182106, 456.11759974053217, 67.86993505597874, 130.35381637734557, 40.91881272924058, 776.9504862797504, 186.06207147047274, 88.56809051302463, 297.6653006130121, 28.75877999928311, 26.708196560672707, 21.869579115110643, 18.04952485158506, 17.99131758626103, 17.237925629594418, 17.003870400193303, 15.949910180188153, 14.746788087657263, 14.701875566780368, 14.552045305529566, 14.074645980578568, 13.635922472427772, 12.802881460022938, 13.519603177815366, 12.337192850014395, 12.276834769619711, 12.133446801616982, 11.755343941289318, 11.189277175531462, 10.566552772102703, 10.452800128340856, 20.87516245811459, 10.313238209525087, 10.299411416722, 10.296407203886414, 24.533166649548395, 10.151902604100878, 10.02948381609794, 10.025012476903054, 19.588558419379314, 17.120988699592967, 13.004816670443148, 16.67564358057928, 35.445091241545256, 27.215537503759514, 24.612752981179405, 54.54417679203529, 30.50947857336077, 21.325406666423728, 73.92850507313736, 3.69759500076658, 3.5569973598613074, 3.389227234035309, 3.1882133572092353, 2.549812402246671, 2.54096052702008, 2.3040290547936935, 2.198821688301187, 2.072167494998342, 1.6807934765875678, 1.6529726227210964, 1.4825540420322807, 1.4394768787025924, 1.4284042771419883, 1.425600148266364, 1.4178000019031025, 1.4027291923893312, 1.4017182342297652, 1.3831474930587981, 1.363897663022436, 1.3614398610680887, 1.3586132756324378, 1.3353465754700375, 1.33352148253385, 1.33352148253385, 1.3300388847179005, 1.3259645738264945, 1.3221597826917777, 1.317226895541114, 1.3143480746166953, 4.656245189843877, 5.527026689664404, 4.547967960930551, 18.601492422057316, 8.020766114762635, 17.6311792669753, 86.1428588471692, 42.2826890358814, 40.87708726063773, 40.21426621952849, 39.80862486028698, 39.16898407077198, 36.97642321158454, 36.16087020391861, 36.15830854039038, 35.94731031243189, 35.945745655492445, 35.93480338384934, 35.67854894484367, 35.67854896964265, 35.29767557467812, 35.297675688030616, 35.29767575763982, 35.297675893725184, 35.297675948447214, 35.29767596898479, 35.29767602602098, 35.29767603605243, 35.29767603780079, 35.297676037843516, 35.29767603980995, 35.297676057770786, 35.29767606542606, 35.29767607423157, 35.297676093708546, 35.29767617586095, 101.87407011711255, 113.88789206474354, 61.757918114931584, 57.21255902396411, 41.9580725019219, 48.67566150734654, 587.6192369683133, 39.3805419378989, 42.678843523776884, 45.003400882829965, 121.65185558384407, 47.72817176917606, 114.18346295473201, 283.6425476055877, 68.82959105035204, 467.7965029501066, 189.42340676873127, 163.80411493333804, 132.2266685497531, 127.57339207364356, 125.26117288856979, 105.12466851174109, 73.75630182073868, 97.50184454234339, 60.23577884501259, 60.12917759364366, 60.37355706583986, 52.59515792214248, 52.48530202836113, 47.629400999922545, 46.57252151836802, 46.35738680192075, 47.34560361389529, 44.598138142396806, 42.825731938450026, 41.71098684466516, 41.6859089739731, 39.49797622155602, 37.00604026946119, 36.250944196626136, 51.92114212243428, 35.55756902880404, 35.27918069642734, 34.94606853289964, 46.43785386264324, 32.95730712902944, 31.84961617049039, 126.93185869645427, 89.49329906690174, 169.24832600204618, 93.6219672035388, 59.1007553390159, 352.84954280403446, 55.28620861990346, 113.74803608295592, 88.31649378410837, 410.1110948699159, 626.815345312018, 140.92900631861366, 396.06487764215234, 285.07078051672505, 71.07858400730812, 141.30767998450307, 446.2358240291108, 298.87694403695934, 198.78579084448336, 333.0699513021167, 468.6160067294579, 135.80716971579662, 144.18029881491978, 371.7122779060232, 291.66388826002117, 289.75877091195804, 693.2349346063236, 283.6425476055877, 182.44280618818456, 1916.4507760578383, 944.5674327908757, 388.44766402293976, 587.6192369683133, 496.2703807443564, 454.4997451059488, 218.23471318535783, 298.36085651034847, 454.7296695308983, 168.08761030657533, 106.12291630781219, 166.30977905372777, 87.73564155764582, 87.73120320074919, 87.71500400610554, 87.06311805925876, 85.63660939628198, 85.63388482165192, 85.4442400329823, 84.79598959813993, 84.48625737300998, 86.09699924333455, 84.15441408543818, 84.00427589218422, 84.00105132311002, 83.67881658725567, 83.6754630972844, 83.5173686803717, 83.5141764638616, 83.35798431295977, 83.02944590534166, 83.02944591058629, 83.029445915244, 83.0294459182434, 83.02944592563787, 83.02944592825037, 83.0294459303315, 83.02944593688669, 179.54181550284167, 128.7143486672066, 115.67007206174905, 119.17402229949637, 141.50671124472274, 107.71634444221179, 89.37221947042535, 104.95361855490076, 16.7030623357008, 15.814911085372879, 13.274940070535923, 12.50793506220357, 12.359353588833502, 12.269424740893573, 12.174657801916613, 11.401435938823495, 11.29684917543471, 10.964881262029898, 10.964881676725637, 10.964881429130013, 10.964882049428706, 10.96488285245609, 10.958817469589253, 10.402372879604455, 10.174321731538946, 9.9700010997488, 9.960583829674675, 9.824642788280526, 9.74689464196422, 9.660551410749116, 9.632809883244096, 9.623870685253285, 8.853862326822727, 8.412581707895713, 8.393280617534844, 8.306988964934758, 8.264253733323278, 8.07360806044117, 16.07238380585523, 15.412890208984052, 10.159862296464713, 13.426927759542796, 14.743718732695063, 49.93554117363198, 21.397848402463655, 107.82907890411978, 124.73565975482327, 37.09779572659635, 873.2638460008061, 332.1815001242224, 180.71116968152188, 157.07647347038076, 156.3958976903862, 156.27048198184917, 147.75026417013225, 148.2460124132828, 146.87811903145402, 203.90818012661572, 147.7858606522718, 148.6718161855281, 137.51561116106708, 133.6200622391352, 135.70002481845466, 128.6889422986836, 127.49314295185944, 121.2647272513821, 121.24113847714789, 118.69891026285717, 121.43509982087801, 144.84256007467786, 118.15416776114805, 116.099822054476, 113.82398287556805, 114.98614383376344, 113.41773414539131, 207.90225332869585, 104.4190515212645, 206.30091602578332, 385.4873751729651, 231.5163032312552, 177.54842036804027, 265.57000588356834, 161.21321119217617, 157.7647545023809, 596.4014831125638, 295.4764697187516, 240.49019621455093, 251.12410316266852, 287.8489030755157, 322.77172753713853, 366.4012015945315, 603.5994606956011, 251.06981974129928, 633.8388722688208, 288.3231177613655, 539.7565487700306, 204.44759780708932, 245.5653742739411, 335.21850633281105, 289.1333928403733, 309.03372869435634, 219.79044394141386, 1360.6800590477333, 327.5109876143676, 240.5699498655579, 280.2951972830619, 521.4418386796358, 861.4949733496064, 562.7440187116842, 1116.0439189370477, 446.6076562630022, 432.4558165436376, 348.75846631299714, 1916.4507760578383, 1554.9893606520554, 469.6839938077791, 431.7942431184882, 438.135989384819, 1070.1349772944475, 688.0714355667358, 540.8379425981832, 1017.1846036116121, 367.97726417931716, 811.8672166180293, 776.9504862797504, 517.5120427508543, 537.3818543615546, 469.2438904565484, 615.44049091986, 1206.6413565539817, 798.591902309823, 1121.0577630652215, 866.6057967904576, 1685.3893265593078, 1030.4962262062825, 646.9510287422496, 548.2151927196533, 228.92093432791606, 184.33730115332813, 167.8560822805003, 161.8426790951077, 142.63526115676302, 138.8708250158424, 114.47213656588927, 111.84937736625797, 111.18144444906076, 99.25925596976101, 97.70616606867459, 102.82077158512801, 89.1867323889489, 85.69956979940285, 82.68438893155427, 77.33762311711665, 70.19916433693434, 68.03713494008792, 69.68206488625273, 66.61373232560953, 64.82067510051678, 148.87975536052417, 66.46495858898282, 58.40884700968681, 57.70971587505636, 56.363002333955734, 56.152037794087335, 55.278892074176674, 138.12531197974417, 54.66023265416984, 519.6658417509033, 264.8206529692609, 197.4739848222893, 179.00442856203063, 87.91135845622368, 236.25543954232757, 197.2345014118128, 139.10193162466086, 134.17697270244437, 224.02324726508675, 92.35482417464574, 127.10925889393687, 118.61844328982818, 161.52891081259438, 200.44066912318823, 224.60840830300776, 625.0780031149009, 243.71376255670302, 471.43312505531736, 231.47936096320456, 246.42079384260188, 617.5427590283708, 1121.0577630652215, 501.78244032306975, 944.5674327908757, 549.1779788244758, 1010.744250467365, 693.2349346063236, 388.44766402293976, 20.058898330290006, 18.28351394959771, 16.075833874155908, 13.61638449231792, 11.90006116403459, 11.583490343429583, 10.056916950711217, 30.35591220638783, 16.59726496841924, 9.624900327381257, 9.777186844283701, 9.566850175997537, 9.19658734997475, 8.984119351150449, 8.936107419686053, 8.73749347137413, 8.776282761073917, 7.9641179022781134, 7.752492339247646, 7.451210115864234, 7.1942114200715945, 7.574893747159743, 7.022375457612807, 6.868859027114118, 6.685423439630841, 6.587499213278046, 6.502729352012582, 6.492607954630881, 10.732268993198463, 6.338387868914815, 82.79030912928708, 42.99509592435015, 16.333207460406975, 64.4106635148771, 53.68463346222558, 53.866862126250474, 24.324108430253442, 111.22606533611116, 153.4086970411509, 48.06268628435035, 62.429646504249234, 56.03319365204031, 73.873984787401, 143.1670829970802, 112.82367626162181, 113.6568013386012, 153.98397238640408, 141.31872794161066, 26.783082274951397, 297.0185746062065, 173.86373390981475, 55.72360732821244, 3.5648675981076594, 2.7898576366068126, 2.265986263354709, 2.1582460799745258, 2.06075247776341, 2.047785410205316, 1.949203807562362, 1.9033263189621414, 1.8705089264571262, 1.8312024904784476, 1.5319010384312375, 1.517584203900787, 1.3536475688636862, 1.3494782224167639, 1.341187602576116, 1.3320263382307604, 1.332026709150375, 1.3320269858052938, 1.3320272803582527, 1.3320275312058998, 1.3283901957861233, 1.3137253010357473, 1.27377550463753, 1.2577575299215953, 1.2577585537264468, 1.2577596104895126, 1.254565437845059, 1.2530386018115378, 1.2478585870463526, 1.2373567529135814, 4.908603936645086, 4.27673775895101, 23.8239656594391, 11.559347522006142, 15.193526741135528, 2.076147580478151, 7.385478816201006, 13.498612279060495, 6.328155833563287, 52.622007828025914, 35.26161310113873, 31.987938536951678, 28.642258020692072, 28.592251843831384, 21.353597956382444, 19.01904912681781, 17.06772110171051, 16.944864945958372, 16.389063255958277, 15.52190381359735, 14.94014107380701, 14.81510639414653, 14.674198457705844, 14.569731292394684, 13.921732584048495, 15.540825423625236, 12.381536880930879, 10.554173088260637, 12.373867166910495, 10.384010077520214, 10.31471200333865, 10.306379776255449, 10.193712234428805, 10.116269170575496, 9.861369734868301, 9.758478686031658, 9.742068005619009, 9.724154449474458, 9.718716633809354, 16.69026712997524, 16.500262710851665, 21.21417980643514, 17.640095111257477, 36.058408837227724, 24.11334605263029, 13.1664581121834, 44.38322488371054, 587.6192369683133, 34.98590007604342, 16.378473432727258, 48.61393717822193, 283.6425476055877, 92.97007666718505, 48.109245462103104, 105.69946956262808, 298.87694403695934, 121.65185558384407, 86.04922636533469, 114.18346295473201, 285.07078051672505, 85.62199879962834, 54.53813827339667, 114.85392764125972, 52.67573735050539, 83.12325708312183, 79.01150446541341, 68.51300477570243, 67.74622071268233, 60.806816996832545, 56.435189508049284, 48.82312338465847, 47.00251797068854, 44.251116007693184, 43.23627036375252, 51.583465388934066, 40.56696813820022, 39.10012280936831, 51.07288864573904, 37.73532882834941, 37.016299132062045, 35.74155237455328, 35.35178141109527, 43.00724103411374, 34.93615125735866, 33.172924931179644, 105.9533836632233, 78.2607918719864, 31.623293931833086, 32.46172776930247, 42.60197369276617, 28.93167222790483, 28.829261272198476, 28.535925350044078, 29.47166653597374, 27.84322194717095, 80.61795135390443, 108.25123001759914, 101.44557024804942, 44.29120855277574, 186.9973728708438, 219.88902033106885, 104.5150378053984, 79.21884403125544, 74.63217961835701, 314.1715828714057, 60.90010748624317, 87.04566023752518, 475.7991229314699, 119.94275528489409, 85.55354744523835, 278.68542742664295, 87.02731450604463, 89.18640936465118, 179.66108608170933, 208.25690592403228, 292.22808368649015, 105.51033659617632, 1685.3893265593078, 298.44100794914397, 1554.9893606520554, 1206.6413565539817, 887.6343118004623, 1017.1846036116121, 417.4983784909474, 1030.4962262062825, 1916.4507760578383, 646.9510287422496, 247.91015538500386, 349.171976015527, 296.70337981159014, 984.8748908098909, 1121.0577630652215, 866.6057967904576, 811.8672166180293, 40.237785903990435, 28.37251391220695, 20.844087688366933, 20.7452971757171, 18.55954640418399, 18.049370078653094, 17.427761365781706, 17.11067781708522, 17.061999792603732, 16.975187851757426, 16.90551104543299, 16.792464121197295, 16.87837632270467, 17.050812309438456, 16.514474376503774, 16.259045219939868, 16.259825022592388, 16.031976072021575, 16.020281438138042, 15.986968736306599, 14.495054951021453, 13.84085853272769, 13.2358442598058, 13.198114193895192, 13.162054244753794, 13.126777326876512, 12.974315168158645, 12.93507816798319, 12.697998988058517, 12.69799899103904, 24.63043048442543, 18.76311297433367, 27.9993754058571, 114.90273006681828, 78.83068087195248, 32.879922773063214, 46.404616474331924, 29.66337672251393, 149.7566296221341, 32.89290305482002, 30.718072308291166, 66.7035683061451, 31.502812601176444, 23.996734761052654, 23.390521914597574, 22.444517395509944, 21.830596894307384, 21.467144992063126, 21.13775872448167, 20.293328485185338, 19.576113259639843, 19.079325959536895, 18.127523354275567, 17.97114046895892, 17.485315695702553, 16.782843780648843, 16.574355344220358, 16.54506423028909, 16.266788796584876, 16.05242190568659, 15.932162786326101, 15.881579207634935, 15.443979090400443, 15.161196482233715, 14.965336699320595, 14.560881978432562, 13.95000863358012, 13.272396305365078, 13.136543557686265, 13.004344075744445, 12.953797367994456, 22.13256356262086, 40.38782709625102, 53.079093864298834, 17.056085989860346, 18.025125013405198, 94.15207602665993, 54.05547232590436, 107.8684999706567, 547.2912960457735, 88.50273558330753, 66.6670298348681, 37.022192718373276, 81.33147993082001, 26.816862578237664, 37.8877795536485, 27.6471614560961, 130.99521990623086, 471.43312505531736, 246.42079384260188, 73.97183720821963, 615.1730618723196, 333.0699513021167, 59.17167111621597, 53.084745302314154, 46.202649542257994, 39.986588466899114, 47.776084877796045, 36.33449718811476, 33.30806728951924, 31.432660384962567, 32.45093207991955, 29.450692401849807, 28.790947623593595, 28.506270100208766, 28.39738442839792, 26.877672647849028, 26.399385182413255, 26.391092537689147, 26.366427805325053, 25.109793803892856, 24.444689076357797, 24.454702506068767, 24.430842639627233, 24.352358055555612, 23.494597103684825, 22.073485336882495, 21.958115754359476, 21.39972488482491, 21.12659108174532, 20.513439164253874, 20.777213279917373, 20.198223783747927, 23.626095330780238, 74.96082037469996, 34.593843419427834, 83.38109290706252, 65.4690597902637, 50.046606930943355, 46.75045675243281, 57.863819115954584, 59.88836680316472, 96.73528132785358, 35.09328303396763, 30.606804144079035, 48.053852318369465, 697.01693994691, 43.65742664817948, 130.99521990623086, 73.10887034232196, 45.87531192538906, 86.78131548251477, 48.89448449222931, 188.83471397156237, 57.94577999595194, 173.85345872680693, 887.6343118004623, 491.7861012625566, 119.09272658719935, 64.98046283910756, 120.15787743390817, 109.93555242554041, 298.06955426733685, 1206.6413565539817, 146.99754292444644, 117.48340288974047, 157.13397388781004, 866.6057967904576, 184.07999296569707, 202.9938429356867, 625.0780031149009, 1685.3893265593078, 1070.1349772944475, 371.7122779060232, 391.3150913842368, 358.7511418542909, 468.6160067294579, 333.0699513021167, 446.2358240291108, 1916.4507760578383, 467.6309810404751, 149.0095770584171, 105.31239031658177, 92.06914865174085, 82.75871640866877, 80.54306442008935, 74.67942834543804, 65.47226616424005, 66.0258204020471, 64.58040717208522, 63.88869791103472, 62.659206618032115, 53.562295328832796, 51.783907381281516, 49.04895776076797, 47.652528306105424, 47.092807327796805, 44.86235932121053, 79.22915893661536, 42.053020350185676, 41.64628473247119, 41.07287084626342, 39.93607826314276, 39.90588626135543, 39.659003558604844, 38.89306623220734, 38.07360523349571, 39.56838213290242, 37.54156528596122, 37.51657541601806, 36.922097097759746, 352.02923387999425, 82.27903444595975, 78.27517240628418, 77.02215980651013, 102.50797838210384, 57.71491839068466, 63.629701115870525, 255.72897610755965, 68.39444427710413, 110.06435066977157, 83.00057181053792, 143.41481696953176, 291.15999734645123, 131.72272862699992, 127.35956264668258, 1010.744250467365, 261.56031209289415, 124.74389301226589, 147.2440896719621, 211.3640844359271, 106.93450855308465, 404.7934208528452, 142.01573420033145, 171.92692744621056, 184.53320241638878, 241.74752023328398, 350.7290710357356, 451.1300715552958, 419.1851888840158, 944.5674327908757, 168.42289954525504, 656.8581884464991, 362.95850236843705, 347.00130365945927, 984.8748908098909, 603.1790549213777, 485.96351417289486, 579.3009627025311, 274.3128865107942, 1121.0577630652215, 375.4029547833147, 291.82775801654606, 728.5584218612074, 329.488493296491, 535.6201043580522, 552.0865299153398, 302.1952515096297], \"Category\": [\"Default\", \"Default\", \"Default\", \"Default\", \"Default\", \"Default\", \"Default\", \"Default\", \"Default\", \"Default\", \"Default\", \"Default\", \"Default\", \"Default\", \"Default\", \"Default\", \"Default\", \"Default\", \"Default\", \"Default\", \"Default\", \"Default\", \"Default\", \"Default\", \"Default\", \"Default\", \"Default\", \"Default\", \"Default\", \"Default\", \"Topic1\", \"Topic1\", \"Topic1\", \"Topic1\", \"Topic1\", \"Topic1\", \"Topic1\", \"Topic1\", \"Topic1\", \"Topic1\", \"Topic1\", \"Topic1\", \"Topic1\", \"Topic1\", \"Topic1\", \"Topic1\", \"Topic1\", \"Topic1\", \"Topic1\", \"Topic1\", \"Topic1\", \"Topic1\", \"Topic1\", \"Topic1\", \"Topic1\", \"Topic1\", \"Topic1\", \"Topic1\", \"Topic1\", \"Topic1\", \"Topic1\", \"Topic1\", \"Topic1\", \"Topic1\", \"Topic1\", \"Topic1\", \"Topic1\", \"Topic1\", \"Topic1\", \"Topic1\", \"Topic1\", \"Topic1\", \"Topic1\", \"Topic1\", \"Topic1\", \"Topic1\", \"Topic1\", \"Topic1\", \"Topic1\", \"Topic1\", \"Topic1\", \"Topic1\", \"Topic1\", \"Topic1\", \"Topic1\", \"Topic1\", \"Topic1\", \"Topic1\", \"Topic1\", \"Topic1\", \"Topic1\", \"Topic1\", \"Topic1\", \"Topic1\", \"Topic1\", \"Topic1\", \"Topic1\", \"Topic1\", \"Topic2\", \"Topic2\", \"Topic2\", \"Topic2\", \"Topic2\", \"Topic2\", \"Topic2\", \"Topic2\", \"Topic2\", \"Topic2\", \"Topic2\", \"Topic2\", \"Topic2\", \"Topic2\", \"Topic2\", \"Topic2\", \"Topic2\", \"Topic2\", \"Topic2\", \"Topic2\", \"Topic2\", \"Topic2\", \"Topic2\", \"Topic2\", \"Topic2\", \"Topic2\", \"Topic2\", \"Topic2\", \"Topic2\", \"Topic2\", \"Topic2\", \"Topic2\", \"Topic2\", \"Topic2\", \"Topic2\", \"Topic2\", \"Topic2\", \"Topic2\", \"Topic2\", \"Topic2\", \"Topic2\", \"Topic2\", \"Topic2\", \"Topic2\", \"Topic2\", \"Topic2\", \"Topic2\", \"Topic2\", \"Topic2\", \"Topic2\", \"Topic2\", \"Topic2\", \"Topic2\", \"Topic2\", \"Topic3\", \"Topic3\", \"Topic3\", \"Topic3\", \"Topic3\", \"Topic3\", \"Topic3\", \"Topic3\", \"Topic3\", \"Topic3\", \"Topic3\", \"Topic3\", \"Topic3\", \"Topic3\", \"Topic3\", \"Topic3\", \"Topic3\", \"Topic3\", \"Topic3\", \"Topic3\", \"Topic3\", \"Topic3\", \"Topic3\", \"Topic3\", \"Topic3\", \"Topic3\", \"Topic3\", \"Topic3\", \"Topic3\", \"Topic3\", \"Topic3\", \"Topic3\", \"Topic3\", \"Topic3\", \"Topic3\", \"Topic3\", \"Topic3\", \"Topic3\", \"Topic3\", \"Topic3\", \"Topic3\", \"Topic3\", \"Topic3\", \"Topic3\", \"Topic3\", \"Topic3\", \"Topic3\", \"Topic3\", \"Topic4\", \"Topic4\", \"Topic4\", \"Topic4\", \"Topic4\", \"Topic4\", \"Topic4\", \"Topic4\", \"Topic4\", \"Topic4\", \"Topic4\", \"Topic4\", \"Topic4\", \"Topic4\", \"Topic4\", \"Topic4\", \"Topic4\", \"Topic4\", \"Topic4\", \"Topic4\", \"Topic4\", \"Topic4\", \"Topic4\", \"Topic4\", \"Topic4\", \"Topic4\", \"Topic4\", \"Topic4\", \"Topic4\", \"Topic4\", \"Topic4\", \"Topic4\", \"Topic4\", \"Topic4\", \"Topic4\", \"Topic4\", \"Topic4\", \"Topic4\", \"Topic4\", \"Topic4\", \"Topic4\", \"Topic5\", \"Topic5\", \"Topic5\", \"Topic5\", \"Topic5\", \"Topic5\", \"Topic5\", \"Topic5\", \"Topic5\", \"Topic5\", \"Topic5\", \"Topic5\", \"Topic5\", \"Topic5\", \"Topic5\", \"Topic5\", \"Topic5\", \"Topic5\", \"Topic5\", \"Topic5\", \"Topic5\", \"Topic5\", \"Topic5\", \"Topic5\", \"Topic5\", \"Topic5\", \"Topic5\", \"Topic5\", \"Topic5\", \"Topic5\", \"Topic5\", \"Topic5\", \"Topic5\", \"Topic5\", \"Topic5\", \"Topic5\", \"Topic6\", \"Topic6\", \"Topic6\", \"Topic6\", \"Topic6\", \"Topic6\", \"Topic6\", \"Topic6\", \"Topic6\", \"Topic6\", \"Topic6\", \"Topic6\", \"Topic6\", \"Topic6\", \"Topic6\", \"Topic6\", \"Topic6\", \"Topic6\", \"Topic6\", \"Topic6\", \"Topic6\", \"Topic6\", \"Topic6\", \"Topic6\", \"Topic6\", \"Topic6\", \"Topic6\", \"Topic6\", \"Topic6\", \"Topic6\", \"Topic6\", \"Topic6\", \"Topic6\", \"Topic6\", \"Topic6\", \"Topic6\", \"Topic6\", \"Topic6\", \"Topic6\", \"Topic6\", \"Topic6\", \"Topic6\", \"Topic6\", \"Topic6\", \"Topic6\", \"Topic6\", \"Topic6\", \"Topic7\", \"Topic7\", \"Topic7\", \"Topic7\", \"Topic7\", \"Topic7\", \"Topic7\", \"Topic7\", \"Topic7\", \"Topic7\", \"Topic7\", \"Topic7\", \"Topic7\", \"Topic7\", \"Topic7\", \"Topic7\", \"Topic7\", \"Topic7\", \"Topic7\", \"Topic7\", \"Topic7\", \"Topic7\", \"Topic7\", \"Topic7\", \"Topic7\", \"Topic7\", \"Topic7\", \"Topic7\", \"Topic7\", \"Topic7\", \"Topic7\", \"Topic7\", \"Topic7\", \"Topic7\", \"Topic7\", \"Topic7\", \"Topic7\", \"Topic7\", \"Topic7\", \"Topic7\", \"Topic7\", \"Topic7\", \"Topic7\", \"Topic7\", \"Topic7\", \"Topic7\", \"Topic7\", \"Topic7\", \"Topic7\", \"Topic7\", \"Topic7\", \"Topic7\", \"Topic7\", \"Topic7\", \"Topic7\", \"Topic7\", \"Topic7\", \"Topic7\", \"Topic7\", \"Topic7\", \"Topic7\", \"Topic7\", \"Topic7\", \"Topic7\", \"Topic7\", \"Topic7\", \"Topic7\", \"Topic8\", \"Topic8\", \"Topic8\", \"Topic8\", \"Topic8\", \"Topic8\", \"Topic8\", \"Topic8\", \"Topic8\", \"Topic8\", \"Topic8\", \"Topic8\", \"Topic8\", \"Topic8\", \"Topic8\", \"Topic8\", \"Topic8\", \"Topic8\", \"Topic8\", \"Topic8\", \"Topic8\", \"Topic8\", \"Topic8\", \"Topic8\", \"Topic8\", \"Topic8\", \"Topic8\", \"Topic8\", \"Topic8\", \"Topic8\", \"Topic8\", \"Topic8\", \"Topic8\", \"Topic8\", \"Topic8\", \"Topic8\", \"Topic8\", \"Topic8\", \"Topic9\", \"Topic9\", \"Topic9\", \"Topic9\", \"Topic9\", \"Topic9\", \"Topic9\", \"Topic9\", \"Topic9\", \"Topic9\", \"Topic9\", \"Topic9\", \"Topic9\", \"Topic9\", \"Topic9\", \"Topic9\", \"Topic9\", \"Topic9\", \"Topic9\", \"Topic9\", \"Topic9\", \"Topic9\", \"Topic9\", \"Topic9\", \"Topic9\", \"Topic9\", \"Topic9\", \"Topic9\", \"Topic9\", \"Topic9\", \"Topic9\", \"Topic9\", \"Topic9\", \"Topic9\", \"Topic9\", \"Topic9\", \"Topic9\", \"Topic9\", \"Topic9\", \"Topic9\", \"Topic10\", \"Topic10\", \"Topic10\", \"Topic10\", \"Topic10\", \"Topic10\", \"Topic10\", \"Topic10\", \"Topic10\", \"Topic10\", \"Topic10\", \"Topic10\", \"Topic10\", \"Topic10\", \"Topic10\", \"Topic10\", \"Topic10\", \"Topic10\", \"Topic10\", \"Topic10\", \"Topic10\", \"Topic10\", \"Topic10\", \"Topic10\", \"Topic10\", \"Topic10\", \"Topic10\", \"Topic10\", \"Topic10\", \"Topic10\", \"Topic10\", \"Topic10\", \"Topic10\", \"Topic10\", \"Topic10\", \"Topic10\", \"Topic10\", \"Topic10\", \"Topic10\", \"Topic10\", \"Topic10\", \"Topic10\", \"Topic10\", \"Topic10\", \"Topic10\", \"Topic10\", \"Topic10\", \"Topic10\", \"Topic10\", \"Topic10\", \"Topic10\", \"Topic10\", \"Topic10\", \"Topic10\", \"Topic10\", \"Topic10\", \"Topic10\", \"Topic10\", \"Topic10\", \"Topic10\", \"Topic10\", \"Topic10\", \"Topic10\", \"Topic10\", \"Topic10\", \"Topic10\", \"Topic10\", \"Topic10\", \"Topic10\", \"Topic10\", \"Topic10\", \"Topic10\", \"Topic10\", \"Topic10\", \"Topic10\", \"Topic10\", \"Topic10\", \"Topic10\", \"Topic10\", \"Topic10\", \"Topic10\", \"Topic10\", \"Topic10\", \"Topic10\", \"Topic10\", \"Topic10\", \"Topic10\", \"Topic10\", \"Topic10\", \"Topic11\", \"Topic11\", \"Topic11\", \"Topic11\", \"Topic11\", \"Topic11\", \"Topic11\", \"Topic11\", \"Topic11\", \"Topic11\", \"Topic11\", \"Topic11\", \"Topic11\", \"Topic11\", \"Topic11\", \"Topic11\", \"Topic11\", \"Topic11\", \"Topic11\", \"Topic11\", \"Topic11\", \"Topic11\", \"Topic11\", \"Topic11\", \"Topic11\", \"Topic11\", \"Topic11\", \"Topic11\", \"Topic11\", \"Topic11\", \"Topic11\", \"Topic11\", \"Topic11\", \"Topic11\", \"Topic11\", \"Topic11\", \"Topic11\", \"Topic11\", \"Topic11\", \"Topic11\", \"Topic11\", \"Topic11\", \"Topic11\", \"Topic11\", \"Topic11\", \"Topic11\", \"Topic11\", \"Topic11\", \"Topic11\", \"Topic11\", \"Topic11\", \"Topic11\", \"Topic11\", \"Topic11\", \"Topic11\", \"Topic11\", \"Topic11\", \"Topic11\", \"Topic11\", \"Topic12\", \"Topic12\", \"Topic12\", \"Topic12\", \"Topic12\", \"Topic12\", \"Topic12\", \"Topic12\", \"Topic12\", \"Topic12\", \"Topic12\", \"Topic12\", \"Topic12\", \"Topic12\", \"Topic12\", \"Topic12\", \"Topic12\", \"Topic12\", \"Topic12\", \"Topic12\", \"Topic12\", \"Topic12\", \"Topic12\", \"Topic12\", \"Topic12\", \"Topic12\", \"Topic12\", \"Topic12\", \"Topic12\", \"Topic12\", \"Topic12\", \"Topic12\", \"Topic12\", \"Topic12\", \"Topic12\", \"Topic12\", \"Topic12\", \"Topic12\", \"Topic12\", \"Topic12\", \"Topic12\", \"Topic12\", \"Topic12\", \"Topic12\", \"Topic12\", \"Topic12\", \"Topic12\", \"Topic12\", \"Topic12\", \"Topic12\", \"Topic12\", \"Topic12\", \"Topic13\", \"Topic13\", \"Topic13\", \"Topic13\", \"Topic13\", \"Topic13\", \"Topic13\", \"Topic13\", \"Topic13\", \"Topic13\", \"Topic13\", \"Topic13\", \"Topic13\", \"Topic13\", \"Topic13\", \"Topic13\", \"Topic13\", \"Topic13\", \"Topic13\", \"Topic13\", \"Topic13\", \"Topic13\", \"Topic13\", \"Topic13\", \"Topic13\", \"Topic13\", \"Topic13\", \"Topic13\", \"Topic13\", \"Topic13\", \"Topic13\", \"Topic13\", \"Topic13\", \"Topic13\", \"Topic13\", \"Topic13\", \"Topic13\", \"Topic13\", \"Topic13\", \"Topic14\", \"Topic14\", \"Topic14\", \"Topic14\", \"Topic14\", \"Topic14\", \"Topic14\", \"Topic14\", \"Topic14\", \"Topic14\", \"Topic14\", \"Topic14\", \"Topic14\", \"Topic14\", \"Topic14\", \"Topic14\", \"Topic14\", \"Topic14\", \"Topic14\", \"Topic14\", \"Topic14\", \"Topic14\", \"Topic14\", \"Topic14\", \"Topic14\", \"Topic14\", \"Topic14\", \"Topic14\", \"Topic14\", \"Topic14\", \"Topic14\", \"Topic14\", \"Topic14\", \"Topic14\", \"Topic14\", \"Topic14\", \"Topic14\", \"Topic14\", \"Topic14\", \"Topic14\", \"Topic14\", \"Topic14\", \"Topic14\", \"Topic14\", \"Topic14\", \"Topic14\", \"Topic14\", \"Topic14\", \"Topic14\", \"Topic14\", \"Topic14\", \"Topic14\", \"Topic14\", \"Topic14\", \"Topic14\", \"Topic14\", \"Topic15\", \"Topic15\", \"Topic15\", \"Topic15\", \"Topic15\", \"Topic15\", \"Topic15\", \"Topic15\", \"Topic15\", \"Topic15\", \"Topic15\", \"Topic15\", \"Topic15\", \"Topic15\", \"Topic15\", \"Topic15\", \"Topic15\", \"Topic15\", \"Topic15\", \"Topic15\", \"Topic15\", \"Topic15\", \"Topic15\", \"Topic15\", \"Topic15\", \"Topic15\", \"Topic15\", \"Topic15\", \"Topic15\", \"Topic15\", \"Topic15\", \"Topic15\", \"Topic15\", \"Topic15\", \"Topic15\", \"Topic15\", \"Topic15\", \"Topic15\", \"Topic15\", \"Topic15\", \"Topic15\", \"Topic15\", \"Topic15\", \"Topic15\", \"Topic15\", \"Topic15\", \"Topic15\", \"Topic15\", \"Topic15\", \"Topic15\", \"Topic15\", \"Topic15\", \"Topic15\", \"Topic15\", \"Topic15\", \"Topic15\", \"Topic15\", \"Topic15\", \"Topic15\", \"Topic15\", \"Topic15\", \"Topic15\", \"Topic15\", \"Topic15\", \"Topic15\", \"Topic15\", \"Topic15\", \"Topic15\", \"Topic15\", \"Topic16\", \"Topic16\", \"Topic16\", \"Topic16\", \"Topic16\", \"Topic16\", \"Topic16\", \"Topic16\", \"Topic16\", \"Topic16\", \"Topic16\", \"Topic16\", \"Topic16\", \"Topic16\", \"Topic16\", \"Topic16\", \"Topic16\", \"Topic16\", \"Topic16\", \"Topic16\", \"Topic16\", \"Topic16\", \"Topic16\", \"Topic16\", \"Topic16\", \"Topic16\", \"Topic16\", \"Topic16\", \"Topic16\", \"Topic16\", \"Topic16\", \"Topic16\", \"Topic16\", \"Topic16\", \"Topic16\", \"Topic16\", \"Topic16\", \"Topic16\", \"Topic16\", \"Topic16\", \"Topic16\", \"Topic17\", \"Topic17\", \"Topic17\", \"Topic17\", \"Topic17\", \"Topic17\", \"Topic17\", \"Topic17\", \"Topic17\", \"Topic17\", \"Topic17\", \"Topic17\", \"Topic17\", \"Topic17\", \"Topic17\", \"Topic17\", \"Topic17\", \"Topic17\", \"Topic17\", \"Topic17\", \"Topic17\", \"Topic17\", \"Topic17\", \"Topic17\", \"Topic17\", \"Topic17\", \"Topic17\", \"Topic17\", \"Topic17\", \"Topic17\", \"Topic17\", \"Topic17\", \"Topic17\", \"Topic17\", \"Topic17\", \"Topic17\", \"Topic17\", \"Topic17\", \"Topic17\", \"Topic17\", \"Topic17\", \"Topic17\", \"Topic17\", \"Topic17\", \"Topic17\", \"Topic17\", \"Topic17\", \"Topic17\", \"Topic17\", \"Topic17\", \"Topic17\", \"Topic17\", \"Topic18\", \"Topic18\", \"Topic18\", \"Topic18\", \"Topic18\", \"Topic18\", \"Topic18\", \"Topic18\", \"Topic18\", \"Topic18\", \"Topic18\", \"Topic18\", \"Topic18\", \"Topic18\", \"Topic18\", \"Topic18\", \"Topic18\", \"Topic18\", \"Topic18\", \"Topic18\", \"Topic18\", \"Topic18\", \"Topic18\", \"Topic18\", \"Topic18\", \"Topic18\", \"Topic18\", \"Topic18\", \"Topic18\", \"Topic18\", \"Topic18\", \"Topic18\", \"Topic18\", \"Topic18\", \"Topic18\", \"Topic18\", \"Topic18\", \"Topic18\", \"Topic18\", \"Topic18\", \"Topic18\", \"Topic18\", \"Topic18\", \"Topic18\", \"Topic18\", \"Topic18\", \"Topic18\", \"Topic18\", \"Topic18\", \"Topic18\", \"Topic18\", \"Topic18\", \"Topic18\", \"Topic18\", \"Topic18\", \"Topic18\", \"Topic18\", \"Topic18\", \"Topic18\", \"Topic18\", \"Topic18\", \"Topic18\", \"Topic18\", \"Topic18\", \"Topic18\", \"Topic18\", \"Topic18\", \"Topic18\", \"Topic18\", \"Topic18\", \"Topic18\", \"Topic18\", \"Topic18\", \"Topic18\", \"Topic18\", \"Topic18\", \"Topic18\", \"Topic18\", \"Topic19\", \"Topic19\", \"Topic19\", \"Topic19\", \"Topic19\", \"Topic19\", \"Topic19\", \"Topic19\", \"Topic19\", \"Topic19\", \"Topic19\", \"Topic19\", \"Topic19\", \"Topic19\", \"Topic19\", \"Topic19\", \"Topic19\", \"Topic19\", \"Topic19\", \"Topic19\", \"Topic19\", \"Topic19\", \"Topic19\", \"Topic19\", \"Topic19\", \"Topic19\", \"Topic19\", \"Topic19\", \"Topic19\", \"Topic19\", \"Topic19\", \"Topic19\", \"Topic19\", \"Topic19\", \"Topic19\", \"Topic19\", \"Topic19\", \"Topic19\", \"Topic19\", \"Topic19\", \"Topic19\", \"Topic19\", \"Topic19\", \"Topic19\", \"Topic19\", \"Topic19\", \"Topic19\", \"Topic19\", \"Topic19\", \"Topic19\", \"Topic19\", \"Topic19\", \"Topic19\", \"Topic19\", \"Topic19\", \"Topic19\", \"Topic19\", \"Topic19\", \"Topic19\", \"Topic19\", \"Topic19\", \"Topic19\", \"Topic19\", \"Topic19\", \"Topic19\", \"Topic19\", \"Topic19\", \"Topic19\", \"Topic19\", \"Topic19\", \"Topic19\", \"Topic19\", \"Topic19\", \"Topic19\", \"Topic19\", \"Topic19\", \"Topic19\"], \"logprob\": [30.0, 29.0, 28.0, 27.0, 26.0, 25.0, 24.0, 23.0, 22.0, 21.0, 20.0, 19.0, 18.0, 17.0, 16.0, 15.0, 14.0, 13.0, 12.0, 11.0, 10.0, 9.0, 8.0, 7.0, 6.0, 5.0, 4.0, 3.0, 2.0, 1.0, -6.10890007019043, -6.290900230407715, -6.1468000411987305, -5.607399940490723, -6.666900157928467, -6.650700092315674, -6.780099868774414, -6.798900127410889, -6.851799964904785, -6.952400207519531, -6.966899871826172, -7.005899906158447, -6.432400226593018, -7.04580020904541, -7.075699806213379, -5.901500225067139, -7.141300201416016, -7.16379976272583, -7.2017998695373535, -7.225200176239014, -7.261300086975098, -7.267199993133545, -7.285699844360352, -7.30079984664917, -7.310999870300293, -7.336999893188477, -7.362800121307373, -7.369500160217285, -7.286300182342529, -7.380799770355225, -6.5914998054504395, -6.201200008392334, -6.160900115966797, -6.91949987411499, -6.964799880981445, -5.76200008392334, -6.144199848175049, -5.454500198364258, -6.889500141143799, -6.442699909210205, -6.320499897003174, -6.9344000816345215, -4.819499969482422, -5.671599864959717, -5.838699817657471, -6.363699913024902, -5.873300075531006, -4.651100158691406, -4.313799858093262, -6.1605000495910645, -6.138700008392334, -6.603899955749512, -6.481100082397461, -6.451499938964844, -6.070700168609619, -5.865300178527832, -6.440299987792969, -6.269000053405762, -5.237100124359131, -6.2881999015808105, -5.24399995803833, -6.224800109863281, -5.49429988861084, -5.9882001876831055, -6.201600074768066, -5.848400115966797, -6.030799865722656, -6.267199993133545, -5.933000087738037, -6.3454999923706055, -6.589200019836426, -6.703199863433838, -6.781000137329102, -6.796599864959717, -6.801199913024902, -6.939499855041504, -6.947800159454346, -6.96150016784668, -6.992199897766113, -6.997000217437744, -7.033400058746338, -7.05810022354126, -7.085999965667725, -7.092199802398682, -7.095300197601318, -7.196700096130371, -7.261300086975098, -7.272500038146973, -7.2957000732421875, -7.298999786376953, -7.304599761962891, -7.313000202178955, -7.337699890136719, -7.340400218963623, -7.3420000076293945, -7.354899883270264, -7.356599807739258, -7.365799903869629, -5.661499977111816, -6.719399929046631, -6.7434000968933105, -6.474800109863281, -6.538099765777588, -6.8231000900268555, -7.04580020904541, -6.759200096130371, -6.764800071716309, -6.577199935913086, -5.88129997253418, -7.0472002029418945, -7.066699981689453, -6.925000190734863, -6.33519983291626, -6.070099830627441, -6.767199993133545, -6.316699981689453, -6.5894999504089355, -6.886600017547607, -6.8572998046875, -6.920899868011475, -6.912600040435791, -6.956999778747559, -5.713399887084961, -5.73859977722168, -5.821499824523926, -5.855899810791016, -5.872000217437744, -6.105599880218506, -6.235799789428711, -6.268700122833252, -6.268700122833252, -6.489500045776367, -6.519899845123291, -6.603899955749512, -6.637899875640869, -6.809599876403809, -6.855400085449219, -6.868800163269043, -6.892199993133545, -6.89709997177124, -6.911799907684326, -6.918099880218506, -6.918099880218506, -6.921199798583984, -6.946199893951416, -6.9664998054504395, -6.975100040435791, -7.038400173187256, -7.047299861907959, -7.061699867248535, -7.093999862670898, -7.1006999015808105, -6.417500019073486, -6.661300182342529, -6.131100177764893, -6.548600196838379, -6.9394001960754395, -6.393400192260742, -6.743899822235107, -6.678599834442139, -6.6819000244140625, -6.25029993057251, -6.136600017547607, -6.615499973297119, -6.531799793243408, -6.785600185394287, -6.349899768829346, -6.610300064086914, -6.720799922943115, -6.622700214385986, -6.151899814605713, -6.2281999588012695, -6.435299873352051, -6.635900020599365, -6.639200210571289, -6.684199810028076, -6.698599815368652, -6.765999794006348, -6.848999977111816, -6.852200031280518, -6.863100051879883, -6.898600101470947, -6.932300090789795, -6.999599933624268, -6.946000099182129, -7.039400100708008, -7.044600009918213, -7.057199954986572, -7.091300010681152, -7.144599914550781, -7.206699848175049, -7.218500137329102, -6.527500152587891, -7.233099937438965, -7.234499931335449, -7.234899997711182, -6.3668999671936035, -7.25029993057251, -7.263500213623047, -7.263999938964844, -6.66349983215332, -6.786499977111816, -7.075500011444092, -6.940199851989746, -6.543600082397461, -6.795000076293945, -6.84660005569458, -6.554100036621094, -6.8119001388549805, -7.045599937438965, -6.987800121307373, -6.287600040435791, -6.338799953460693, -6.403500080108643, -6.4868998527526855, -6.8105998039245605, -6.815899848937988, -6.969699859619141, -7.04640007019043, -7.147299766540527, -7.544899940490723, -7.5802001953125, -7.828999996185303, -7.9029998779296875, -7.922999858856201, -7.928100109100342, -7.942500114440918, -7.970900058746338, -7.972799777984619, -8.008999824523926, -8.047900199890137, -8.053000450134277, -8.058899879455566, -8.108599662780762, -8.112600326538086, -8.112600326538086, -8.12030029296875, -8.129400253295898, -8.137900352478027, -8.149100303649902, -8.155699729919434, -6.9832000732421875, -7.532899856567383, -7.625800132751465, -7.518599987030029, -7.759699821472168, -8.062700271606445, -5.629300117492676, -6.35099983215332, -6.385499954223633, -6.402200222015381, -6.412600040435791, -6.429100036621094, -6.48799991607666, -6.510799884796143, -6.510900020599365, -6.5167999267578125, -6.516900062561035, -6.517199993133545, -6.524499893188477, -6.524499893188477, -6.5355000495910645, -6.5355000495910645, -6.5355000495910645, -6.5355000495910645, -6.5355000495910645, -6.5355000495910645, -6.5355000495910645, -6.5355000495910645, -6.5355000495910645, -6.5355000495910645, -6.5355000495910645, -6.5355000495910645, -6.5355000495910645, -6.5355000495910645, -6.5355000495910645, -6.5355000495910645, -5.497799873352051, -5.4980998039245605, -6.043000221252441, -6.1230998039245605, -6.403299808502197, -6.311800003051758, -4.661600112915039, -6.46619987487793, -6.426700115203857, -6.423600196838379, -6.090099811553955, -6.458799839019775, -6.27370023727417, -6.243299961090088, -6.460000038146973, -6.381700038909912, -6.463500022888184, -5.9934000968933105, -6.208700180053711, -6.244800090789795, -6.263199806213379, -6.4421000480651855, -6.797399997711182, -6.520699977874756, -7.002399921417236, -7.004199981689453, -7.000500202178955, -7.140100002288818, -7.142199993133545, -7.240900039672852, -7.263700008392334, -7.268499851226807, -7.247399806976318, -7.3078999519348145, -7.3491997718811035, -7.376100063323975, -7.376699924468994, -7.431700229644775, -7.498300075531006, -7.519400119781494, -7.1605000495910645, -7.5391998291015625, -7.5472002029418945, -7.5569000244140625, -7.273600101470947, -7.617000102996826, -7.6519999504089355, -6.281499862670898, -6.631700038909912, -6.021900177001953, -6.601799964904785, -7.051700115203857, -5.370800018310547, -7.128900051116943, -6.467700004577637, -6.703400135040283, -5.337200164794922, -4.962900161743164, -6.291200160980225, -5.436999797821045, -5.728400230407715, -6.914400100708008, -6.363399982452393, -5.432300090789795, -5.800099849700928, -6.144999980926514, -5.86959981918335, -5.666399955749512, -6.514400005340576, -6.483799934387207, -5.953700065612793, -6.093500137329102, -6.111299991607666, -5.817699909210205, -6.21150016784668, -6.400199890136719, -5.563899993896484, -5.840099811553955, -6.1682000160217285, -6.1057000160217285, -6.195199966430664, -6.216400146484375, -6.359899997711182, -6.347700119018555, -3.641200065612793, -4.639599800109863, -5.102399826049805, -4.653600215911865, -5.294400215148926, -5.294400215148926, -5.294600009918213, -5.302199840545654, -5.31879997253418, -5.318900108337402, -5.321100234985352, -5.328800201416016, -5.332499980926514, -5.313600063323975, -5.33650016784668, -5.3383002281188965, -5.3383002281188965, -5.342199802398682, -5.342199802398682, -5.344099998474121, -5.344200134277344, -5.346099853515625, -5.350100040435791, -5.350100040435791, -5.350100040435791, -5.350100040435791, -5.350100040435791, -5.350100040435791, -5.350100040435791, -5.350100040435791, -4.6402997970581055, -4.975100040435791, -5.133699893951416, -5.143899917602539, -5.098999977111816, -5.287499904632568, -5.334099769592285, -5.307700157165527, -6.149700164794922, -6.207399845123291, -6.393400192260742, -6.457099914550781, -6.46999979019165, -6.47790002822876, -6.486199855804443, -6.5569000244140625, -6.56689977645874, -6.5991997718811035, -6.5991997718811035, -6.5991997718811035, -6.5991997718811035, -6.5991997718811035, -6.599800109863281, -6.656400203704834, -6.680600166320801, -6.7027997970581055, -6.703800201416016, -6.718900203704834, -6.72760009765625, -6.737299919128418, -6.740499973297119, -6.741499900817871, -6.833399772644043, -6.890100002288818, -6.8927001953125, -6.904200077056885, -6.909999847412109, -6.935999870300293, -6.255799770355225, -6.442399978637695, -6.758200168609619, -6.578400135040283, -6.574100017547607, -6.159999847412109, -6.558000087738037, -6.256999969482422, -6.366399765014648, -6.703999996185303, -5.86299991607666, -6.829800128936768, -7.4394001960754395, -7.5802998542785645, -7.584700107574463, -7.585599899291992, -7.6417999267578125, -7.638500213623047, -7.647799968719482, -7.319799900054932, -7.64169979095459, -7.635799884796143, -7.714099884033203, -7.743000030517578, -7.727499961853027, -7.780799865722656, -7.79040002822876, -7.84060001373291, -7.84089994430542, -7.862199783325195, -7.839399814605713, -7.663099765777588, -7.8668999671936035, -7.884500026702881, -7.904399871826172, -7.8942999839782715, -7.9079999923706055, -7.302000045776367, -7.991300106048584, -7.310400009155273, -6.691299915313721, -7.197299957275391, -7.460599899291992, -7.063600063323975, -7.559100151062012, -7.58050012588501, -6.26800012588501, -6.9633002281188965, -7.16540002822876, -7.123199939727783, -6.991099834442139, -6.883800029754639, -6.760900020599365, -6.286200046539307, -7.133500099182129, -6.253300189971924, -7.012199878692627, -6.423799991607666, -7.336599826812744, -7.166999816894531, -6.877900123596191, -7.016300201416016, -6.9558000564575195, -7.271299839019775, -5.598899841308594, -6.907199859619141, -7.188700199127197, -7.049699783325195, -6.493299961090088, -6.0503997802734375, -6.446899890899658, -5.872900009155273, -6.660999774932861, -6.688700199127197, -6.872499942779541, -5.499199867248535, -5.6682000160217285, -6.632999897003174, -6.702499866485596, -6.697199821472168, -6.02400016784668, -6.360300064086914, -6.544899940490723, -6.081999778747559, -6.833099842071533, -6.282599925994873, -6.346199989318848, -6.627999782562256, -6.610000133514404, -6.691100120544434, -6.542200088500977, -6.221399784088135, -6.429200172424316, -6.311999797821045, -6.433800220489502, -6.216300010681152, -6.3927998542785645, -6.563499927520752, -6.628399848937988, -5.616000175476074, -5.833499908447266, -5.927599906921387, -5.964300155639648, -6.09119987487793, -6.118199825286865, -6.312699794769287, -6.336100101470947, -6.342100143432617, -6.456399917602539, -6.472400188446045, -6.421999931335449, -6.5644001960754395, -6.604599952697754, -6.6407999992370605, -6.7083001136779785, -6.806300163269043, -6.8379998207092285, -6.814199924468994, -6.859399795532227, -6.88700008392334, -6.055600166320801, -6.862299919128418, -6.992599964141846, -7.004799842834473, -7.02869987487793, -7.03249979019165, -7.048399925231934, -6.132699966430664, -7.059899806976318, -4.808300018310547, -5.521699905395508, -5.806399822235107, -5.923999786376953, -6.612100124359131, -5.708199977874756, -5.878200054168701, -6.2052001953125, -6.23960018157959, -5.847499847412109, -6.588099956512451, -6.339099884033203, -6.39900016784668, -6.216700077056885, -6.08459997177124, -6.02810001373291, -5.578199863433838, -6.158599853515625, -5.943299770355225, -6.184199810028076, -6.18779993057251, -5.947800159454346, -5.957099914550781, -6.109600067138672, -6.053899765014648, -6.145100116729736, -6.106500148773193, -6.154600143432617, -6.194200038909912, -5.535999774932861, -5.632999897003174, -5.768599987030029, -5.945099830627441, -6.0894999504089355, -6.11870002746582, -6.272299766540527, -5.16949987411499, -5.775300025939941, -6.320499897003174, -6.307199954986572, -6.331399917602539, -6.3719000816345215, -6.396500110626221, -6.402400016784668, -6.4274001121521, -6.424499988555908, -6.531099796295166, -6.560999870300293, -6.6066999435424805, -6.645599842071533, -6.5945000648498535, -6.6732001304626465, -6.698400020599365, -6.729800224304199, -6.746399879455566, -6.761300086975098, -6.7631001472473145, -6.2621002197265625, -6.790900230407715, -4.344099998474121, -5.421299934387207, -6.122200012207031, -5.312699794769287, -5.446400165557861, -5.456299781799316, -5.94920015335083, -5.169099807739258, -5.007699966430664, -5.634500026702881, -5.54640007019043, -5.636199951171875, -5.521399974822998, -5.2789998054504395, -5.417500019073486, -5.438899993896484, -5.501399993896484, -5.559899806976318, -6.0543999671936035, -5.497600078582764, -6.147299766540527, -6.198200225830078, -6.1168999671936035, -6.4532999992370605, -6.774099826812744, -6.855100154876709, -6.934500217437744, -6.9456000328063965, -7.03380012512207, -7.077700138092041, -7.110300064086914, -7.150899887084961, -7.529099941253662, -7.551400184631348, -7.849100112915039, -7.857900142669678, -7.875800132751465, -7.895899772644043, -7.895899772644043, -7.895899772644043, -7.895899772644043, -7.895899772644043, -7.9039998054504395, -7.937300205230713, -8.034099578857422, -8.075799942016602, -8.075799942016602, -8.075799942016602, -8.084199905395508, -8.088299751281738, -8.102399826049805, -8.131400108337402, -6.991700172424316, -7.322500228881836, -6.798399925231934, -7.1132001876831055, -7.171800136566162, -7.913599967956543, -7.609099864959717, -7.603400230407715, -7.878200054168701, -5.731500148773193, -6.139800071716309, -6.239699840545654, -6.353300094604492, -6.355100154876709, -6.657299995422363, -6.77810001373291, -6.891600131988525, -6.899199962615967, -6.934299945831299, -6.991700172424316, -7.032100200653076, -7.040999889373779, -7.05109977722168, -7.058700084686279, -7.10699987411499, -7.005000114440918, -7.232500076293945, -7.404600143432617, -7.24560022354126, -7.4222002029418945, -7.429500102996826, -7.4303998947143555, -7.442299842834473, -7.450699806213379, -7.478499889373779, -7.489999771118164, -7.491799831390381, -7.493800163269043, -7.4944000244140625, -6.954800128936768, -6.994999885559082, -6.78849983215332, -6.96560001373291, -6.481299877166748, -6.801499843597412, -7.2565999031066895, -6.411099910736084, -4.821800231933594, -6.640999794006348, -7.156099796295166, -6.56820011138916, -5.730599880218506, -6.302299976348877, -6.656499862670898, -6.430300235748291, -6.167399883270264, -6.434100151062012, -6.549099922180176, -6.520599842071533, -6.377399921417236, -6.645400047302246, -6.796000003814697, -6.695899963378906, -6.872099876403809, -6.887899875640869, -6.5457000732421875, -6.689799785614014, -6.701200008392334, -6.810699939727783, -6.887700080871582, -7.033599853515625, -7.072299957275391, -7.133800029754639, -7.157400131225586, -6.981100082397461, -7.222499847412109, -7.2600998878479, -6.993299961090088, -7.296800136566162, -7.316100120544434, -7.352099895477295, -7.3632001876831055, -7.167399883270264, -7.37529993057251, -7.428400039672852, -6.267600059509277, -6.571199893951416, -7.477499961853027, -7.451900005340576, -7.18149995803833, -7.568999767303467, -7.5725998878479, -7.583199977874756, -7.551300048828125, -7.608500003814697, -6.5507001876831055, -6.271599769592285, -6.345300197601318, -7.155399799346924, -5.777900218963623, -5.663300037384033, -6.367700099945068, -6.623899936676025, -6.704500198364258, -5.4415998458862305, -6.891200065612793, -6.605599880218506, -5.198500156402588, -6.3414998054504395, -6.6234002113342285, -5.693699836730957, -6.621300220489502, -6.607100009918213, -6.149099826812744, -6.115699768066406, -5.995299816131592, -6.6203999519348145, -5.179299831390381, -6.1743998527526855, -5.7418999671936035, -5.883999824523926, -6.130000114440918, -6.131999969482422, -6.3302998542785645, -6.273600101470947, -6.223100185394287, -6.402599811553955, -6.5065999031066895, -6.492099761962891, -6.524099826812744, -6.479899883270264, -6.494999885559082, -6.505899906158447, -6.519899845123291, -5.819399833679199, -6.177800178527832, -6.497399806976318, -6.502299785614014, -6.61870002746582, -6.647900104522705, -6.684700012207031, -6.703999996185303, -6.706999778747559, -6.712399959564209, -6.716700077056885, -6.723800182342529, -6.718999862670898, -6.709199905395508, -6.741399765014648, -6.757800102233887, -6.757800102233887, -6.77269983291626, -6.773499965667725, -6.775700092315674, -6.87939977645874, -6.928500175476074, -6.976200103759766, -6.979300022125244, -6.9822001457214355, -6.985099792480469, -6.997600078582764, -7.000800132751465, -7.020599842071533, -7.020599842071533, -6.3643999099731445, -6.767000198364258, -6.512899875640869, -5.668499946594238, -6.0295000076293945, -6.495699882507324, -6.33650016784668, -6.702099800109863, -6.214000225067139, -6.7118000984191895, -6.745200157165527, -5.205100059509277, -5.969900131225586, -6.250800132751465, -6.277299880981445, -6.320199966430664, -6.348999977111816, -6.366600036621094, -6.382599830627441, -6.425099849700928, -6.462800025939941, -6.48960018157959, -6.543300151824951, -6.5524001121521, -6.581099987030029, -6.624300003051758, -6.637499809265137, -6.6392998695373535, -6.657199859619141, -6.671199798583984, -6.679200172424316, -6.682499885559082, -6.712100028991699, -6.7316999435424805, -6.7453999519348145, -6.774499893188477, -6.820099830627441, -6.873199939727783, -6.884200096130371, -6.895199775695801, -6.899199962615967, -6.377699851989746, -5.842800140380859, -5.718500137329102, -6.67080020904541, -6.660699844360352, -5.6433000564575195, -6.046500205993652, -5.691800117492676, -4.980199813842773, -5.915200233459473, -6.066299915313721, -6.3333001136779785, -6.071300029754639, -6.484799861907959, -6.376500129699707, -6.497900009155273, -6.183700084686279, -6.128600120544434, -6.32919979095459, -6.460000038146973, -6.353799819946289, -6.393599987030029, -6.492499828338623, -6.602700233459473, -6.743899822235107, -6.891200065612793, -6.715199947357178, -6.989299774169922, -7.0782999992370605, -7.137800216674805, -7.106400012969971, -7.204699993133545, -7.228000164031982, -7.23829984664917, -7.242300033569336, -7.298999786376953, -7.317500114440918, -7.317800045013428, -7.320099830627441, -7.369200229644775, -7.396999835968018, -7.396599769592285, -7.397600173950195, -7.400899887084961, -7.4380998611450195, -7.502900123596191, -7.508299827575684, -7.535099983215332, -7.548500061035156, -7.579400062561035, -7.566999912261963, -7.595300197601318, -7.439499855041504, -6.298399925231934, -7.065199851989746, -6.204699993133545, -6.441500186920166, -6.7052001953125, -6.776700019836426, -6.572999954223633, -6.545000076293945, -6.097300052642822, -7.055300235748291, -7.187099933624268, -6.775199890136719, -4.411399841308594, -6.877799987792969, -5.935999870300293, -6.440299987792969, -6.843400001525879, -6.310699939727783, -6.794000148773193, -5.701399803161621, -6.671500205993652, -5.817299842834473, -4.562300205230713, -5.029600143432617, -6.134200096130371, -6.589099884033203, -6.1371002197265625, -6.252699851989746, -5.60230016708374, -4.697299957275391, -6.112299919128418, -6.251699924468994, -6.085299968719482, -5.220600128173828, -6.095399856567383, -6.047699928283691, -5.654600143432617, -5.250400066375732, -5.485400199890137, -5.9380998611450195, -5.934899806976318, -5.971399784088135, -5.8993000984191895, -6.047699928283691, -6.073699951171875, -5.829699993133545, -6.188300132751465, -6.356299877166748, -6.705599784851074, -6.841300010681152, -6.948699951171875, -6.976200103759766, -7.052599906921387, -7.1855998039245605, -7.177299976348877, -7.1996002197265625, -7.210400104522705, -7.230199813842773, -7.389200210571289, -7.423500061035156, -7.478700160980225, -7.5081000328063965, -7.519999980926514, -7.569399833679199, -7.001100063323975, -7.635300159454346, -7.645199775695801, -7.659900188446045, -7.688000202178955, -7.688799858093262, -7.695099830627441, -7.715000152587891, -7.736800193786621, -7.698500156402588, -7.751200199127197, -7.751800060272217, -7.768199920654297, -5.5177998542785645, -6.970200061798096, -7.029799938201904, -7.055600166320801, -6.7906999588012695, -7.336900234222412, -7.2469000816345215, -5.940000057220459, -7.186699867248535, -6.749599933624268, -7.017199993133545, -6.521399974822998, -5.88640022277832, -6.623799800872803, -6.65369987487793, -4.938199996948242, -6.084000110626221, -6.704400062561035, -6.5731000900268555, -6.2982001304626465, -6.843500137329102, -5.886099815368652, -6.6528000831604, -6.532100200653076, -6.487800121307373, -6.328100204467773, -6.096700191497803, -5.98360013961792, -6.0289998054504395, -5.570199966430664, -6.581900119781494, -5.844200134277344, -6.176499843597412, -6.2129998207092285, -5.724599838256836, -5.974100112915039, -6.168099880218506, -6.126999855041504, -6.411900043487549, -5.921299934387207, -6.339000225067139, -6.42579984664917, -6.20389986038208, -6.451000213623047, -6.370200157165527, -6.3719000816345215, -6.469600200653076], \"loglift\": [30.0, 29.0, 28.0, 27.0, 26.0, 25.0, 24.0, 23.0, 22.0, 21.0, 20.0, 19.0, 18.0, 17.0, 16.0, 15.0, 14.0, 13.0, 12.0, 11.0, 10.0, 9.0, 8.0, 7.0, 6.0, 5.0, 4.0, 3.0, 2.0, 1.0, 3.0761, 3.0742, 3.072, 3.0702, 3.0686, 3.0666, 3.0665, 3.0661, 3.065, 3.0628, 3.0622, 3.0615, 3.0615, 3.0605, 3.0597, 3.0596, 3.058, 3.0573, 3.0562, 3.0555, 3.0544, 3.0542, 3.0536, 3.0531, 3.0528, 3.0519, 3.0509, 3.0508, 3.0506, 3.0504, 3.0418, 3.0275, 3.0242, 3.0365, 3.0381, 2.9139, 2.9317, 2.8338, 3.0084, 2.9168, 2.827, 2.9826, 2.3553, 2.6063, 2.6114, 2.778, 2.5574, 2.0078, 1.8531, 2.6484, 2.6314, 2.8677, 2.7958, 2.7705, 2.5216, 2.2914, 2.7449, 2.5536, 1.342, 2.5644, 1.137, 2.4014, 1.1269, 1.9898, 2.228, 0.8235, 1.0936, 2.2914, 3.511, 3.5058, 3.5004, 3.4972, 3.4951, 3.4947, 3.4945, 3.49, 3.4897, 3.4892, 3.488, 3.4879, 3.4865, 3.4855, 3.4844, 3.4842, 3.484, 3.4793, 3.4766, 3.4761, 3.475, 3.4748, 3.4745, 3.4741, 3.4729, 3.4727, 3.4726, 3.472, 3.4719, 3.4713, 3.4603, 3.4527, 3.4452, 3.3968, 3.3207, 3.3573, 3.3863, 3.2845, 3.2839, 3.1944, 2.5511, 3.3037, 3.2638, 2.9515, 1.1996, -0.0316, 2.3176, 0.4293, 0.5665, 2.2699, 1.9489, 2.1715, 0.8286, 1.777, 3.6667, 3.6664, 3.6653, 3.6648, 3.6646, 3.6608, 3.6583, 3.6576, 3.6576, 3.6524, 3.6516, 3.6492, 3.6482, 3.6425, 3.6408, 3.6403, 3.6394, 3.6392, 3.6387, 3.6384, 3.6384, 3.6383, 3.6373, 3.6364, 3.6361, 3.6333, 3.6329, 3.6323, 3.6307, 3.6305, 3.6079, 3.6113, 3.5303, 3.5692, 3.6186, 3.3525, 3.5028, 3.3273, 3.2405, 2.1897, 1.3373, 2.7636, 2.1947, 3.0995, 0.5914, 1.7603, 2.3922, 1.278, 4.0859, 4.0835, 4.0763, 4.0677, 4.0676, 4.0654, 4.0647, 4.0613, 4.0567, 4.0565, 4.0559, 4.0538, 4.0517, 4.0474, 4.0465, 4.0447, 4.0444, 4.0435, 4.0411, 4.0372, 4.0323, 4.0314, 4.0307, 4.0302, 4.0301, 4.0301, 4.0298, 4.0288, 4.0277, 4.0276, 3.9583, 3.9699, 3.9559, 3.8426, 3.4851, 3.498, 3.5469, 3.0436, 3.3668, 3.4912, 2.3058, 6.0014, 5.989, 5.9726, 5.9503, 5.8501, 5.8483, 5.7924, 5.7624, 5.7208, 5.5326, 5.5139, 5.374, 5.3294, 5.3172, 5.314, 5.3051, 5.2874, 5.2862, 5.2634, 5.2385, 5.2352, 5.2314, 5.1989, 5.1963, 5.1963, 5.1912, 5.1852, 5.1795, 5.172, 5.1676, 5.0753, 4.3542, 4.4562, 3.1549, 3.755, 2.6643, 3.5114, 3.5013, 3.5006, 3.5003, 3.5001, 3.4997, 3.4985, 3.4979, 3.4979, 3.4978, 3.4978, 3.4978, 3.4976, 3.4976, 3.4974, 3.4974, 3.4974, 3.4974, 3.4974, 3.4974, 3.4974, 3.4974, 3.4974, 3.4974, 3.4974, 3.4974, 3.4974, 3.4974, 3.4974, 3.4974, 3.4752, 3.3634, 3.4305, 3.4269, 3.4567, 3.3998, 2.5591, 3.4573, 3.4163, 3.3664, 2.7054, 3.2724, 2.5852, 1.7057, 2.9051, 1.067, 1.8892, 2.5047, 2.5035, 2.5032, 2.5031, 2.4995, 2.4985, 2.4961, 2.496, 2.496, 2.4957, 2.494, 2.4939, 2.4923, 2.492, 2.4919, 2.4918, 2.4911, 2.4904, 2.4899, 2.4899, 2.4888, 2.4873, 2.4868, 2.4865, 2.4864, 2.4862, 2.486, 2.485, 2.4845, 2.4837, 2.4716, 2.4708, 2.4434, 2.4556, 2.4657, 2.3599, 2.4553, 2.395, 2.4124, 2.2431, 2.1932, 2.3573, 2.1782, 2.2156, 2.4185, 2.2824, 2.0635, 2.0965, 2.1595, 1.9188, 1.7805, 2.1711, 2.1418, 1.7248, 1.8276, 1.8164, 1.2376, 1.7375, 1.9901, 0.4746, 0.9059, 1.4664, 1.115, 1.1944, 1.2611, 1.8512, 1.5507, 3.8358, 3.8326, 3.8297, 3.8293, 3.828, 3.828, 3.828, 3.8279, 3.8278, 3.8278, 3.8277, 3.8277, 3.8276, 3.8276, 3.8276, 3.8276, 3.8276, 3.8275, 3.8275, 3.8275, 3.8275, 3.8275, 3.8275, 3.8275, 3.8275, 3.8275, 3.8275, 3.8275, 3.8275, 3.8275, 3.766, 3.764, 3.7123, 3.6723, 3.5454, 3.6297, 3.7698, 3.6355, 4.6315, 4.6284, 4.6174, 4.6132, 4.6123, 4.6118, 4.6112, 4.6061, 4.6053, 4.6028, 4.6028, 4.6028, 4.6028, 4.6028, 4.6028, 4.5982, 4.5962, 4.5944, 4.5943, 4.593, 4.5922, 4.5913, 4.5911, 4.591, 4.5825, 4.5768, 4.5766, 4.5754, 4.5748, 4.5721, 4.5638, 4.4191, 4.5201, 4.4211, 4.3318, 3.526, 3.9754, 2.6592, 2.4041, 3.2792, 0.9615, 0.9612, 0.9604, 0.9597, 0.9597, 0.9596, 0.9593, 0.9593, 0.9593, 0.9593, 0.9593, 0.9592, 0.9589, 0.9587, 0.9587, 0.9585, 0.9582, 0.9581, 0.9581, 0.958, 0.9579, 0.9579, 0.9579, 0.9578, 0.9577, 0.9576, 0.9576, 0.9576, 0.957, 0.9569, 0.9509, 0.9548, 0.9568, 0.9512, 0.9549, 0.9551, 0.9378, 0.9449, 0.9486, 0.9476, 0.9432, 0.936, 0.9321, 0.9076, 0.9375, 0.8916, 0.9205, 0.8818, 0.9398, 0.9262, 0.904, 0.9136, 0.9074, 0.9328, 0.7821, 0.8979, 0.925, 0.9112, 0.8468, 0.7877, 0.817, 0.7063, 0.8341, 0.8385, 0.8698, 0.5393, 0.5793, 0.8116, 0.8262, 0.817, 0.5972, 0.7025, 0.7587, 0.5899, 0.8556, 0.6148, 0.5951, 0.7197, 0.7, 0.7545, 0.6321, 0.2797, 0.4847, 0.2627, 0.3984, -0.0493, 0.2661, 0.561, 0.6616, 2.5474, 2.5465, 2.5461, 2.5458, 2.5452, 2.545, 2.5437, 2.5434, 2.5434, 2.5426, 2.5423, 2.5417, 2.5416, 2.5413, 2.5409, 2.5402, 2.5391, 2.5387, 2.5386, 2.5384, 2.5381, 2.538, 2.5378, 2.5367, 2.5365, 2.5362, 2.5361, 2.5359, 2.5358, 2.5357, 2.5352, 2.496, 2.5047, 2.4853, 2.5083, 2.4236, 2.4342, 2.4563, 2.458, 2.3374, 2.483, 2.4126, 2.4218, 2.2953, 2.2116, 2.1542, 1.5806, 1.9421, 1.4976, 1.968, 1.9019, 1.2232, 0.6176, 1.269, 0.6921, 1.1432, 0.5718, 0.9008, 1.4403, 5.0621, 5.0577, 5.0508, 5.0403, 5.0306, 5.0285, 5.0161, 5.0142, 5.0122, 5.0119, 5.0095, 5.007, 5.006, 5.0048, 5.0042, 5.0017, 5.0002, 4.9907, 4.9877, 4.9817, 4.9778, 4.9774, 4.9744, 4.9713, 4.967, 4.9651, 4.9632, 4.9629, 4.9613, 4.9592, 4.8363, 4.4143, 4.6813, 4.1187, 4.1672, 4.1539, 4.4561, 3.7161, 3.5559, 4.0897, 3.9162, 3.9346, 3.7729, 3.3537, 3.4534, 3.4246, 3.0585, 3.0858, 4.2545, 2.4053, 2.2911, 3.3781, 6.2087, 6.1174, 6.0046, 5.9723, 5.9391, 5.9344, 5.8955, 5.8754, 5.8602, 5.8409, 5.6411, 5.6282, 5.4449, 5.4391, 5.4274, 5.4141, 5.4141, 5.4141, 5.4141, 5.4141, 5.4088, 5.3865, 5.3206, 5.2916, 5.2916, 5.2916, 5.2857, 5.2828, 5.2729, 5.2523, 5.014, 4.821, 3.6276, 4.036, 3.704, 4.9526, 3.9881, 3.3907, 3.8735, 3.9021, 3.8941, 3.8917, 3.8885, 3.8885, 3.8782, 3.8732, 3.8679, 3.8676, 3.8658, 3.8628, 3.8606, 3.8601, 3.8595, 3.8591, 3.8562, 3.8483, 3.848, 3.8356, 3.8356, 3.8342, 3.8336, 3.8336, 3.8326, 3.8319, 3.8296, 3.8286, 3.8284, 3.8283, 3.8282, 3.8271, 3.7984, 3.7536, 3.7609, 3.5303, 3.6125, 3.7624, 3.3928, 2.3988, 3.4008, 3.6447, 3.1446, 2.2184, 2.7621, 3.0667, 2.5059, 1.7293, 2.3614, 2.5927, 2.3383, 1.5666, 2.5013, 2.8018, 2.1571, 2.7604, 2.2884, 2.6814, 2.6799, 2.6797, 2.6783, 2.6759, 2.6749, 2.6742, 2.6731, 2.6726, 2.6724, 2.6713, 2.6705, 2.6702, 2.6693, 2.6693, 2.6683, 2.6682, 2.668, 2.6678, 2.6666, 2.6661, 2.6655, 2.6653, 2.6648, 2.6633, 2.6628, 2.6627, 2.6624, 2.662, 2.6616, 2.6563, 2.6406, 2.6319, 2.6505, 2.5877, 2.5402, 2.5797, 2.6006, 2.5796, 2.4052, 2.5962, 2.5246, 2.2332, 2.4682, 2.5242, 2.273, 2.5092, 2.4989, 2.2566, 2.1422, 1.9239, 2.3175, 0.9877, 1.7237, 0.5056, 0.6171, 0.6782, 0.5399, 1.2322, 0.3854, -0.1846, 0.7219, 1.5771, 1.249, 1.3799, 0.2243, 0.0797, 0.3262, 0.3775, 4.0825, 4.0735, 4.0623, 4.0621, 4.057, 4.0557, 4.0539, 4.053, 4.0528, 4.0525, 4.0523, 4.052, 4.0517, 4.0513, 4.0511, 4.0502, 4.0502, 4.0494, 4.0494, 4.0493, 4.0435, 4.0406, 4.0376, 4.0374, 4.0372, 4.037, 4.0362, 4.036, 4.0347, 4.0347, 4.0283, 3.8978, 3.7516, 3.1842, 3.1999, 3.6082, 3.4228, 3.5047, 2.3737, 3.3917, 3.4267, 4.1913, 4.1768, 4.168, 4.1671, 4.1655, 4.1644, 4.1636, 4.163, 4.1613, 4.1596, 4.1585, 4.156, 4.1556, 4.1542, 4.1521, 4.1514, 4.1513, 4.1504, 4.1496, 4.1492, 4.149, 4.1474, 4.1463, 4.1455, 4.1439, 4.1411, 4.1378, 4.1371, 4.1363, 4.1361, 4.122, 4.0554, 3.9064, 4.0894, 4.0442, 3.4085, 3.5602, 3.224, 2.3115, 3.1984, 3.3307, 3.6519, 3.1269, 3.8228, 3.5856, 3.7793, 2.5379, 1.3124, 1.7604, 2.8331, 0.821, 1.3948, 3.0238, 3.0221, 3.0198, 3.0169, 3.015, 3.0147, 3.0126, 3.0111, 3.0106, 3.0093, 3.0086, 3.0083, 3.0082, 3.0064, 3.0059, 3.0059, 3.0046, 3.0042, 3.0033, 3.0033, 3.0033, 3.0031, 3.0019, 2.9995, 2.9993, 2.9982, 2.9977, 2.9963, 2.9959, 2.9958, 2.9948, 2.9814, 2.9879, 2.9686, 2.9737, 2.9786, 2.9752, 2.9657, 2.9592, 2.9274, 2.9834, 2.9884, 2.9492, 2.6385, 2.9425, 2.7855, 2.8645, 2.9273, 2.8226, 2.913, 2.6544, 2.8657, 2.6212, 2.2458, 2.369, 2.6826, 2.8335, 2.6708, 2.6441, 2.2971, 1.8038, 2.494, 2.5787, 2.4543, 1.6115, 2.2859, 2.2358, 1.5042, 0.9166, 1.1357, 1.7405, 1.6923, 1.7427, 1.5476, 1.7406, 1.4222, 0.2088, 1.2608, 2.2364, 2.2342, 2.2329, 2.232, 2.2318, 2.2309, 2.2294, 2.2294, 2.2293, 2.2291, 2.2288, 2.2267, 2.2261, 2.2252, 2.2247, 2.2246, 2.2237, 2.2233, 2.2225, 2.2223, 2.2214, 2.2214, 2.2214, 2.2213, 2.2209, 2.2204, 2.2202, 2.2201, 2.2201, 2.2197, 2.2152, 2.2164, 2.2067, 2.197, 2.1761, 2.2042, 2.1967, 2.1126, 2.1848, 2.1461, 2.1606, 2.1096, 2.0364, 2.0922, 2.096, 1.7401, 1.9461, 2.066, 2.0316, 1.9449, 2.081, 1.7072, 1.9879, 1.9176, 1.891, 1.7807, 1.64, 1.5014, 1.5294, 1.1758, 1.8883, 1.265, 1.526, 1.5344, 0.9796, 1.2204, 1.2425, 1.1079, 1.5705, 0.6534, 1.3297, 1.4947, 0.8018, 1.3482, 0.943, 0.9111, 1.4161]}, \"token.table\": {\"Topic\": [4, 11, 13, 18, 10, 12, 2, 10, 16, 14, 1, 9, 6, 17, 17, 7, 3, 10, 12, 10, 17, 6, 10, 12, 15, 7, 14, 16, 18, 7, 1, 3, 15, 16, 10, 18, 16, 10, 12, 1, 2, 3, 6, 7, 10, 11, 15, 18, 19, 16, 8, 9, 10, 15, 1, 16, 9, 7, 10, 11, 15, 18, 19, 6, 7, 5, 7, 16, 6, 9, 1, 10, 15, 1, 10, 16, 7, 10, 14, 10, 12, 12, 12, 10, 12, 9, 17, 14, 16, 2, 2, 7, 10, 11, 19, 2, 10, 11, 15, 9, 11, 1, 10, 15, 10, 15, 1, 1, 10, 10, 15, 10, 19, 19, 7, 10, 18, 1, 10, 15, 1, 18, 6, 14, 16, 19, 10, 19, 8, 19, 11, 4, 4, 15, 2, 4, 7, 10, 11, 17, 15, 1, 2, 3, 7, 7, 1, 10, 15, 10, 18, 19, 7, 14, 16, 2, 19, 6, 7, 10, 11, 15, 19, 19, 9, 14, 19, 1, 7, 10, 15, 6, 19, 17, 11, 4, 18, 1, 1, 11, 19, 19, 6, 7, 14, 19, 1, 15, 1, 7, 8, 10, 15, 18, 19, 10, 15, 19, 4, 11, 13, 14, 10, 7, 9, 2, 7, 18, 1, 10, 14, 15, 18, 1, 10, 15, 1, 15, 16, 16, 7, 10, 11, 14, 15, 18, 1, 10, 15, 10, 16, 6, 7, 14, 18, 10, 3, 7, 8, 18, 3, 11, 14, 4, 10, 15, 19, 12, 3, 14, 19, 9, 1, 1, 2, 1, 16, 19, 14, 2, 6, 1, 2, 4, 7, 10, 11, 15, 16, 18, 10, 17, 1, 10, 11, 15, 16, 17, 18, 2, 4, 4, 1, 10, 18, 9, 4, 10, 15, 16, 8, 16, 3, 1, 7, 10, 15, 10, 7, 5, 3, 7, 1, 2, 3, 4, 6, 7, 8, 10, 11, 14, 15, 17, 18, 19, 4, 4, 14, 2, 18, 2, 7, 17, 18, 19, 6, 3, 8, 10, 14, 18, 19, 17, 2, 6, 7, 8, 9, 14, 6, 4, 10, 19, 19, 1, 7, 10, 15, 18, 3, 7, 10, 11, 15, 19, 8, 10, 2, 16, 10, 12, 19, 12, 10, 16, 19, 11, 3, 11, 17, 10, 13, 6, 7, 8, 14, 18, 6, 7, 14, 1, 7, 10, 15, 2, 14, 16, 19, 7, 3, 8, 10, 12, 16, 1, 7, 8, 10, 11, 15, 17, 18, 19, 19, 17, 19, 18, 14, 1, 10, 15, 10, 9, 1, 7, 10, 15, 18, 15, 14, 18, 19, 5, 6, 10, 8, 10, 11, 15, 10, 4, 19, 18, 3, 1, 10, 9, 8, 4, 18, 6, 19, 3, 11, 11, 11, 11, 5, 3, 19, 13, 2, 1, 2, 10, 12, 14, 19, 12, 7, 10, 19, 12, 10, 14, 1, 10, 15, 17, 18, 1, 6, 7, 10, 11, 14, 19, 7, 14, 18, 14, 2, 7, 14, 2, 7, 8, 11, 14, 7, 16, 9, 1, 10, 15, 1, 6, 10, 15, 16, 1, 2, 7, 10, 11, 14, 15, 16, 18, 2, 14, 18, 1, 6, 7, 10, 15, 16, 18, 16, 1, 2, 3, 7, 10, 15, 16, 18, 19, 10, 11, 15, 9, 9, 17, 7, 9, 10, 15, 18, 6, 10, 7, 3, 8, 6, 14, 1, 7, 10, 11, 15, 17, 18, 19, 6, 7, 8, 3, 14, 11, 17, 3, 9, 10, 19, 9, 9, 3, 2, 11, 1, 10, 16, 7, 10, 15, 19, 8, 10, 19, 18, 19, 1, 10, 15, 18, 4, 10, 12, 15, 16, 18, 10, 18, 7, 10, 11, 18, 19, 18, 7, 14, 18, 17, 8, 14, 9, 6, 3, 14, 15, 16, 7, 7, 10, 12, 1, 10, 17, 11, 3, 11, 17, 9, 7, 11, 19, 10, 11, 15, 17, 19, 10, 10, 19, 2, 4, 7, 10, 11, 14, 15, 19, 1, 7, 10, 11, 19, 2, 6, 7, 10, 11, 14, 15, 18, 10, 17, 18, 10, 17, 2, 10, 6, 7, 10, 1, 7, 10, 11, 14, 15, 16, 17, 18, 11, 18, 19, 9, 18, 1, 16, 4, 2, 6, 7, 11, 16, 19, 6, 10, 15, 18, 19, 9, 1, 8, 3, 17, 19, 6, 11, 4, 14, 10, 17, 10, 15, 19, 1, 1, 2, 6, 7, 10, 14, 16, 18, 11, 10, 15, 12, 18, 16, 6, 9, 10, 5, 10, 3, 4, 15, 3, 10, 11, 1, 9, 10, 15, 17, 7, 15, 6, 7, 11, 14, 18, 19, 2, 1, 18, 4, 10, 12, 2, 4, 6, 7, 14, 11, 6, 10, 11, 19, 17, 1, 3, 6, 7, 10, 11, 15, 17, 19, 3, 7, 8, 17, 3, 7, 9, 10, 11, 15, 19, 10, 12, 11, 2, 5, 15, 17, 1, 16, 1, 10, 2, 16, 5, 4, 5, 6, 8, 9, 2, 10, 17, 19, 1, 2, 4, 6, 7, 8, 10, 11, 14, 15, 18, 19, 2, 6, 7, 8, 9, 11, 14, 19, 17, 7, 10, 11, 15, 18, 3, 11, 19, 18, 15, 17, 19, 11, 9, 1, 6, 7, 10, 11, 15, 14, 15, 2, 6, 8, 3, 1, 6, 6, 11, 10, 9, 10, 15, 12, 3, 10, 11, 19, 15, 7, 1, 2, 15, 10, 12, 15, 19, 7, 11, 9, 10, 6, 10, 6, 2, 7, 8, 10, 11, 15, 16, 18, 19, 6, 14, 14, 3, 12, 1, 10, 15, 2, 10, 19, 5, 4, 18, 11, 11, 13, 15, 2, 4, 17, 5, 7, 11, 19, 4, 8, 14, 2, 10, 12, 16, 17, 1, 5, 11, 1, 6, 7, 10, 11, 15, 18, 19, 2, 1, 2, 7, 10, 7, 2, 15, 18, 15, 6, 10, 3, 7, 10, 11, 15, 18, 19, 15, 1, 10, 16, 2, 7, 10, 15, 19, 1, 4, 15, 1, 10, 15, 7, 1, 10, 15, 19, 3, 6, 19, 19, 6, 7, 9, 10, 11, 14, 15, 18, 19, 7, 10, 19, 3, 3, 17, 7, 8, 14, 3, 17, 18, 2, 4, 14, 1, 7, 10, 11, 15, 18, 6, 6, 1, 10, 11, 15, 10, 15, 1, 7, 10, 11, 15, 18, 19, 1, 2, 6, 9, 10, 16, 19, 5, 10, 15, 8, 6, 8, 19, 12, 6, 7, 10, 11, 15, 18, 19, 12, 17, 2, 10, 1, 2, 7, 10, 11, 15, 18, 9, 3, 11, 7, 1, 7, 10, 15, 18, 2, 7, 11, 18, 19, 2, 16, 1, 10, 14, 15, 18, 14, 3, 1, 1, 7, 9, 10, 18, 18, 3, 12, 15, 18, 6, 7, 9, 11, 15, 18, 1, 19, 1, 7, 10, 15, 18, 1, 6, 7, 10, 15, 18, 4, 1, 9, 15, 18, 11, 19, 2, 4, 7, 10, 11, 15, 18, 19, 14, 13, 19, 1, 3, 6, 7, 10, 16, 1, 7, 10, 11, 15, 18, 19, 4, 19, 3, 6, 7, 8, 10, 11, 15, 18, 19, 8, 8, 8, 8, 4, 19, 1, 2, 4, 7, 10, 15, 18, 19, 5, 18, 4, 7, 2, 16, 4, 15, 18, 10, 16, 18, 19, 10, 19, 10, 11, 17, 7, 1, 2, 3, 6, 7, 8, 10, 11, 14, 15, 16, 18, 19, 9, 11, 17, 11, 10, 12, 15, 8, 14, 18, 7, 7, 10, 15, 18, 19, 1, 10, 3, 11, 17, 7, 10, 15, 18, 10, 11, 15, 17, 18, 9, 16, 10, 12, 12, 10, 15, 2, 1, 10, 1, 10, 2, 10, 13, 7, 14, 15, 1, 15, 15, 7, 10, 11, 15, 18, 19, 6, 3, 12, 2, 7, 16, 19, 6, 7, 8, 10, 11, 15, 17, 19, 4, 9, 1, 13, 13, 19, 2, 1, 2, 10, 11, 15, 18, 3, 10, 11, 17, 19, 10, 11, 17, 19, 3, 1, 2, 6, 7, 10, 15, 19, 17, 8, 15, 7, 11, 12, 2, 8, 8, 7, 9, 19, 1, 2, 7, 10, 11, 15, 17, 19, 17, 11, 17, 18, 17, 17, 7, 10, 15, 10, 15, 1, 1, 7, 10, 15, 19, 5, 14, 2, 7, 15, 19, 3, 19, 2, 7, 7, 3, 2, 6, 7, 8, 9, 11, 14, 18, 19, 9, 15, 16, 18, 1, 6, 7, 9, 10, 14, 15, 19, 7, 1, 10, 11, 15, 17, 18, 16, 4, 13, 18, 15, 10, 17, 15, 13, 18, 6, 11, 5, 10, 2, 6, 10, 14, 16, 18, 8, 4, 7, 3, 1, 7, 10, 15, 1, 1, 10, 15, 1, 10, 17, 17, 4, 1, 2, 7, 10, 11, 15, 19, 3, 17, 6, 4, 7, 10, 15, 15, 11, 16, 12, 1, 2, 3, 4, 7, 10, 11, 15, 18, 19, 14, 3, 11, 3, 10, 14, 1, 3, 7, 10, 15, 18, 13, 1, 7, 18, 1, 7, 15, 18, 4, 9, 18, 4, 12, 7, 10, 18, 1, 7, 10, 10, 16, 19, 1, 8, 7, 2, 6, 7, 8, 10, 11, 14, 15, 18, 19, 7, 14, 16, 3, 4, 3, 8, 12, 6, 7, 8, 9, 14, 2, 6, 7, 8, 9, 14, 18, 2, 6, 7, 8, 9, 14, 11, 14, 5, 2, 2, 14, 16, 18, 17, 13, 6, 10, 6, 7, 10, 11, 15, 18, 14, 15, 10, 1, 3, 7, 10, 11, 12, 15, 19, 4, 12, 4, 13, 14, 10, 18, 2, 7, 10, 10, 18, 4, 19, 3, 2, 1, 2, 10, 15, 18, 10, 18, 10, 15, 18, 1, 10, 17, 18, 7, 10, 11, 14, 2, 7, 14, 14, 1, 10, 13, 2, 7, 10, 12, 10, 15, 10, 4, 15, 10, 11, 15, 18, 10, 11, 16, 7, 10, 15, 17, 11, 13, 16, 15, 1, 5, 14, 10, 10, 12, 3, 4, 10, 10, 12, 1, 10, 14, 16, 16, 15, 1, 7, 10, 11, 18, 7, 10, 3, 7, 10, 19, 1, 10, 15, 18, 19, 3, 3, 3, 9, 7, 14, 18, 2, 10, 17, 7, 10, 11, 14, 17, 18, 3, 16, 11, 15, 18, 6, 1, 10, 18, 1, 2, 6, 7, 10, 11, 15, 18, 19, 7, 10, 6, 8, 14, 10, 19, 14, 7, 5, 2, 14, 16, 18, 11, 17, 19, 18, 17, 2, 4, 7, 10, 11, 15, 18, 19, 8, 4, 7, 10, 2, 10, 19, 19, 3, 6, 19, 18, 19, 19, 19, 16, 16, 2, 1, 2, 7, 10, 11, 15, 4, 1, 10, 1, 4, 10, 10, 15, 15, 15, 10, 15, 16, 10, 15, 4, 10, 15, 10, 15, 18, 19, 18, 4, 16, 8, 1, 10, 15, 18, 10, 16, 2, 4, 7, 10, 17, 19, 4, 19, 4, 10, 1, 7, 10, 11, 15, 18, 12, 3, 14, 2, 12, 16, 10, 12, 4, 7, 10, 11, 15, 19, 2, 3, 6, 7, 10, 11, 14, 15, 18, 19, 2, 7, 8, 19, 9, 17, 6, 10, 11, 19, 5, 6, 6, 10, 14, 17, 18, 19, 19, 15, 15, 6, 7, 8, 14, 6, 10, 14, 8, 15, 3, 19, 2, 10, 15, 7, 10, 15, 19, 7, 18, 3, 3, 3, 4, 6, 18, 6, 10, 16, 16, 11, 1, 9, 10, 15, 2, 18, 1, 10, 7, 14, 18, 7, 10, 7, 10, 11, 14, 15, 18, 19, 12, 6, 1, 2, 7, 10, 11, 15, 18, 19, 12, 3, 6, 7, 18, 19, 6, 10, 18, 19, 14, 5, 2, 6, 12, 8, 4, 7, 9, 2, 19, 9, 19, 1, 18, 12, 10, 12, 13, 4, 7, 10, 11, 17, 19, 11, 17, 19, 8, 8, 19, 10, 12, 2, 16, 2, 16, 18, 10, 7, 10, 19, 16, 1, 3, 7, 10, 11, 15, 18, 14, 3, 19, 3, 2, 10, 15, 18, 19, 2, 7, 10, 15, 18, 19, 2, 18, 1, 3, 4, 7, 8, 10, 11, 15, 19, 13, 3, 11, 19, 11, 3, 11, 19, 17, 4, 16, 11, 3, 12, 7, 11, 3, 10, 12, 9, 18, 1, 7, 11, 19, 10, 7, 9, 8, 1, 3, 6, 7, 8, 9, 10, 11, 15, 16, 10, 6, 2, 10, 18, 3, 19, 3, 4, 19, 1, 10, 19, 2, 10, 15, 12, 15, 2, 6, 10, 19, 1, 4, 6, 7, 10, 15, 18, 4, 4, 3, 7, 14, 2, 16, 6, 19, 8, 1, 10, 15, 1, 7, 10, 15, 9, 1, 10, 1, 10, 15, 1, 10, 2, 6, 7, 10, 11, 14, 15, 16, 17, 18, 19, 1, 10, 19, 9, 10, 12, 16, 1, 2, 3, 7, 10, 11, 15, 18, 19, 2, 16, 7, 17, 3, 7, 9, 10, 11, 15, 16, 18, 19, 18, 3, 7, 9, 10, 17, 18, 5, 5, 13, 6, 10, 12, 2, 12, 18, 6, 11, 2, 7, 10, 15, 1, 3, 7, 10, 15, 16, 19, 4, 4, 3, 7, 10, 15, 18, 18, 18, 1, 2, 6, 7, 10, 11, 15, 16, 18, 19, 2, 4, 7, 9, 10, 14, 15, 16, 18, 14, 6, 7, 11, 14, 18, 19, 11, 7, 10, 15, 16, 19, 7, 6, 7, 14, 6, 7, 8, 9, 14, 6, 7, 6, 18, 5, 7, 2, 6, 7, 8, 14, 18, 19, 2, 5], \"Freq\": [0.946382440487262, 0.7408168923788069, 0.0740816892378807, 0.1481633784757614, 0.7462279614871249, 0.25173955327276504, 0.8536213296847331, 0.13132635841303586, 0.9692382203398602, 0.9762607996636518, 0.9742031017208201, 0.9579081774604835, 0.9632362314642314, 0.9533545213862095, 0.9444904567669742, 0.9690370302879153, 0.9518740156852881, 0.7309745122779616, 0.257194735801505, 0.2983197596907602, 0.6712194593042105, 0.9739861277696741, 0.9375158138761134, 0.05751630759976156, 0.9697153602133094, 0.9144807948525939, 0.0703446765271226, 0.9640739214577515, 0.9795657811648789, 0.9950909967453181, 0.9820509228108762, 0.9455351275034171, 0.040600183607522836, 0.9338042229730252, 0.3336143003697218, 0.661476630043414, 0.9392480942754078, 0.9915949684379425, 0.922689485476281, 0.030052896768152954, 0.018783060480095596, 0.011269836288057358, 0.011269836288057358, 0.08514987417643337, 0.6185887918111483, 0.03631391692818482, 0.055096977408280415, 0.02003526451210197, 0.11395056691257996, 0.9277098943013975, 0.9918485552818789, 0.3204130690076241, 0.5406970539503657, 0.12015490087785904, 0.953652394954884, 0.9754551742588358, 0.9647907560962081, 0.28602876327179366, 0.5566559777520292, 0.011001106279684371, 0.0682068589340431, 0.06380641642216936, 0.011001106279684371, 0.9088913498558809, 0.06991471921968315, 0.7053180975156632, 0.9405600654858361, 0.03617538713407062, 0.06221852415170027, 0.8710593381238038, 0.8387928430198669, 0.02917540323547363, 0.12399546375076292, 0.07781285858542604, 0.9207854932608748, 0.9528083481091403, 0.9637412017179616, 0.9912788840090464, 0.005632266386415037, 0.22949545906791097, 0.7609586274357049, 0.9394447198712634, 0.9472105440261884, 0.621015183157694, 0.3726091098946164, 0.9709245644401523, 0.9833042667443065, 0.8503355512197532, 0.1133780734959671, 0.968236764352271, 0.03769346711486, 0.06510689774384909, 0.3049744157475036, 0.11993375900182726, 0.4728816783500618, 0.9273161356719256, 0.18958228470413704, 0.7134280713866209, 0.09479114235206852, 0.8426639338932812, 0.9930044552971422, 0.09878118250917726, 0.2690210927909508, 0.6326199135162204, 0.01887622585378748, 0.9721256314700554, 0.9599503954950277, 0.7160543351964598, 0.27913982558506056, 0.0248083704238552, 0.9675264465303528, 0.058532029357116835, 0.9365124697138694, 0.9909020682068526, 0.9709531144252309, 0.06871683079664752, 0.916224410621967, 0.6226658738004629, 0.3666163556021417, 0.011638614463560053, 0.9916070189811772, 0.9749705956108725, 0.20570232695490873, 0.45254511930079916, 0.04114046539098174, 0.2879832577368722, 0.14027277258728568, 0.8509881536961998, 0.8818184183852548, 0.11238862195106189, 0.9935595635625492, 0.9357446328187593, 0.8973542572105699, 0.9718639551407056, 0.10814926736889338, 0.06759329210555837, 0.1892612178955634, 0.040555975263335015, 0.3244478021066801, 0.2568545100011218, 0.9623967259282593, 0.9878021342661747, 0.7629972245666067, 0.114449583684991, 0.07629972245666067, 0.981220804294469, 0.58271639486661, 0.2111291285748587, 0.19423879828887, 0.42002374386027075, 0.560031658480361, 0.019091988357285036, 0.9873923610981301, 0.9691152796292128, 0.9450307885886889, 0.9637251546963324, 0.9883875471056544, 0.054811698027080795, 0.5974475084951807, 0.032887018816248476, 0.04933052822437272, 0.01096233960541616, 0.25213381092457166, 0.9860899041600091, 0.9593909738356057, 0.9126521205444078, 0.9718018499453476, 0.42190051617854235, 0.017104074980211176, 0.42190051617854235, 0.13113124151495234, 0.038949829601460116, 0.9607624635026829, 0.9414917611106675, 0.9930002554301576, 0.97361570973101, 0.9822400440875266, 0.9599015493308607, 0.9580295342353892, 0.012153764403455567, 0.9723011522764453, 0.984463344858108, 0.5375594920058843, 0.08717180951446772, 0.10170044443354567, 0.26151542854340315, 0.986274763370416, 0.007305738987929008, 0.0401423946721785, 0.002867313905155607, 0.005734627810311214, 0.9089385079343274, 0.034407766861867285, 0.005734627810311214, 0.9772994325843934, 0.9396855902915523, 0.02684815972261578, 0.0298312885806842, 0.23382308113398986, 0.23382308113398986, 0.23382308113398986, 0.23382308113398986, 0.9941829247270729, 0.9907229867982983, 0.8470214281749929, 0.03352206289498073, 0.9609658029894474, 0.9860063017634635, 0.14257576475087771, 0.8326718632100228, 0.0014698532448544092, 0.013963605826116889, 0.008819119469126457, 0.011212470679376264, 0.1569745895112677, 0.8297228302738435, 0.8081054992881694, 0.06464843994305355, 0.1292968798861071, 0.911711787298174, 0.11707279810431537, 0.5240401438955069, 0.055748951478245413, 0.008362342721736813, 0.019512133017385896, 0.2731698622434025, 0.7320295121095582, 0.2091512891741595, 0.04647806426092434, 0.4740907623311357, 0.4956403424370964, 0.3441967689728151, 0.3334406199424146, 0.3119283218816137, 0.9848714210708469, 0.9941119066610684, 0.9842914015509077, 0.7042756899537482, 0.2012216257010709, 0.0905497315654819, 0.006716829951650716, 0.9873740028926552, 0.9337918194819648, 0.9065849284091367, 0.9610475446620971, 0.0081444707174754, 0.028505647511163898, 0.873507517961224, 0.01732654273598354, 0.01732654273598354, 0.9702863932150781, 0.9027080247991909, 0.9756274298826961, 0.9083262471725752, 0.07569385393104792, 0.9343896855923596, 0.04853972392687582, 0.9932247505271334, 0.9540555172639223, 0.957973683330129, 0.9809815991706206, 0.04038745197600251, 0.013847126391772291, 0.002307854398628715, 0.020770689587658438, 0.567732182062664, 0.01846283518902972, 0.09346810314446297, 0.003461781597943073, 0.24001685745738638, 0.4624878652298733, 0.5179864090574581, 0.4811654123785989, 0.41289194170325716, 0.01788114708163712, 0.04389008829129112, 0.004876676476810123, 0.034136735337670865, 0.004876676476810123, 0.8092685189346267, 0.16661410683948197, 0.9734839243427048, 0.3338948309406265, 0.6314967454746632, 0.032663624765930856, 0.9509565883314417, 0.009857502871291985, 0.009857502871291985, 0.9463202756440307, 0.029572508613875958, 0.9916654146521161, 0.9066289814576639, 0.9659909273698436, 0.4540254735538169, 0.006486078193625956, 0.33078998787492375, 0.20755450219603058, 0.9960646058416023, 0.9733241315706158, 0.5949570925455105, 0.9830726889914921, 0.9843192590485482, 0.005217979050090771, 0.02869888477549924, 0.0005217979050090771, 0.0010435958100181541, 0.005217979050090771, 0.13044947625226927, 0.0010435958100181541, 0.6532909770713645, 0.04017843868569894, 0.0026089895250453856, 0.056354173740980326, 0.0010435958100181541, 0.058963163266025714, 0.01565393715027231, 0.9620640745724042, 0.5158166581329116, 0.4220318111996549, 0.9249126542137704, 0.9813210269301936, 0.0957239593992355, 0.7142480047481418, 0.029453525968995538, 0.13254086686047992, 0.029453525968995538, 0.9698050882515213, 0.016793636835038837, 0.008396818417519419, 0.11755545784527185, 0.025190455252558256, 0.6969359286541117, 0.12595227626279126, 0.9041321343870105, 0.010037575864764656, 0.026766868972705752, 0.6624800070744673, 0.1806763655657638, 0.003345858621588219, 0.11041333451241123, 0.9632362191475623, 0.9449002230376922, 0.9964432091378341, 0.9770379062716379, 0.9894794930607627, 0.006947753583589981, 0.06484570011350649, 0.8707851158099442, 0.032422850056753244, 0.0231591786119666, 0.0018241012166026942, 0.02188921459923233, 0.7387609927240911, 0.09850146569654548, 0.007296404866410777, 0.1295111863787913, 0.8194095752402648, 0.17150432970145077, 0.9714254696350882, 0.9688470632019781, 0.7300759484969533, 0.21511166339642374, 0.045629746781059584, 0.9243649968157447, 0.9959868288864971, 0.025550885913340173, 0.9709336647069265, 0.9794835977580738, 0.11800871258730548, 0.8732644731460606, 0.007867247505820366, 0.9234398804333215, 0.04197454001969643, 0.02826721054298528, 0.09186843426470215, 0.7490810793891098, 0.00706680263574632, 0.12013564480768743, 0.47673061133226513, 0.16502213469193794, 0.3300442693838759, 0.03532826961196449, 0.024458032808283108, 0.896794536303714, 0.040763388013805184, 0.7199751811531736, 0.02181742973191435, 0.02181742973191435, 0.2181742973191435, 0.982258823963037, 0.9328194810277977, 0.9872585658852742, 0.8507378915467345, 0.12988364756438694, 0.012988364756438695, 0.0017262184328761356, 0.0069048737315045424, 0.0017262184328761356, 0.3883991473971305, 0.20541999351226015, 0.06214386358354088, 0.0034524368657522712, 0.008631092164380677, 0.3210766285149612, 0.9932574651337217, 0.07228865860943656, 0.927704452154436, 0.9851808886983127, 0.9775765576782359, 0.506569799540349, 0.4788125502504668, 0.013878624644941067, 0.9888140129400432, 0.9120025660681886, 0.027162104471243325, 0.2281616775584439, 0.2281616775584439, 0.04345936715398932, 0.4726206177996338, 0.9812192755808687, 0.9474925147023558, 0.9539269632430395, 0.0289068776740315, 0.694696812984801, 0.9632362283709617, 0.9954812135698287, 0.33139604958947927, 0.5948134223400909, 0.008497334604858442, 0.06797867683886753, 0.9946464530178157, 0.9101725573692157, 0.04790381880890609, 0.9846967128751954, 0.9619263572322102, 0.9828733667960302, 0.9946824368122681, 0.9316238398137261, 0.9876014356256779, 0.5360403749710217, 0.45140242102822886, 0.9632362207040195, 0.9862307417377574, 0.05413902353974331, 0.9311912048835849, 0.9937292443121652, 0.9927725536976013, 0.995977063737662, 0.7014589618386856, 0.9794213554735193, 0.9855742486538317, 0.8415459810043132, 0.9479275700461673, 0.060602270493906915, 0.003366792805217051, 0.8551653725251309, 0.06733585610434102, 0.003366792805217051, 0.006733585610434102, 0.9155943894218275, 0.01353745698873209, 0.9814656316830765, 0.0033843642471830227, 0.90293542949561, 0.9857650975716055, 0.012970593389100072, 0.7713906116921557, 0.22206699427501453, 0.9732039385087825, 0.9722443847083738, 0.9725279058565814, 0.9730658270432226, 0.005148698744348454, 0.3526858639878691, 0.010297397488696907, 0.32951671963830104, 0.002574349372174227, 0.29862452717221033, 0.6454584541221194, 0.3227292270610597, 0.018984072180062338, 0.9881797017312851, 0.09199783055970974, 0.7996734502497846, 0.10615134295351124, 0.004582222440252432, 0.5177911357485249, 0.3574133503396897, 0.10080889368555351, 0.013746667320757296, 0.9927004074821033, 0.9479584821483636, 0.9035614933722164, 0.009477744382783438, 0.2938100758662866, 0.6918753399431911, 0.5701889433591274, 0.006708105215989734, 0.3957782077433943, 0.013416210431979467, 0.006708105215989734, 0.29132734630660545, 0.004153343022701096, 0.0148333679382182, 0.3625275124100528, 0.021953384548562934, 0.0017800041525861839, 0.1821537582813195, 0.001186669435057456, 0.11985361294080306, 0.08574883005666184, 0.6002418103966329, 0.28582943352220613, 0.33964219479823476, 0.0048520313542604965, 0.01649690660448569, 0.4968480106762749, 0.09995184589776623, 0.0048520313542604965, 0.03590503202152768, 0.9418611245666585, 0.0024862399947633393, 0.0033149866596844523, 0.008287466649211131, 0.04060858658113454, 0.5038779722720368, 0.12514074640308806, 0.0024862399947633393, 0.2908900793873107, 0.022376159952870053, 0.5122823621435326, 0.15731505609132104, 0.32673127034351296, 0.9531433970272338, 0.5140703772222962, 0.46733670656572385, 0.059120732724294134, 0.009095497342199098, 0.022738743355497745, 0.8595244988378147, 0.04547748671099549, 0.9632362188249378, 0.9895705265657315, 0.9807187898239128, 0.957946395524049, 0.9918878323697631, 0.986732982136142, 0.9663763015242913, 0.006703292192522014, 0.38208765497375485, 0.25472510331583653, 0.1374174899467013, 0.016758230481305036, 0.026813168770088058, 0.013406584385044029, 0.15752736652426735, 0.10069308535917992, 0.05034654267958996, 0.8475001351064311, 0.059915158470054006, 0.8987273770508101, 0.984613160692402, 0.007239802652150015, 0.09273936216122063, 0.12983510702570888, 0.009273936216122063, 0.7604627697220092, 0.9120025799667189, 0.9120024476832453, 0.9766601763491596, 0.10959509870009213, 0.876760789600737, 0.6172203586835876, 0.3624944963697261, 0.009797148550533137, 0.014935959152593993, 0.6982560903837692, 0.011201969364445495, 0.2725812545348404, 0.987601435922922, 0.9936940850731815, 0.0048472882198691775, 0.9332256464404503, 0.051845869246691684, 0.0034586112319170506, 0.951118088777189, 0.04150333478300461, 0.0034586112319170506, 0.04433632010627739, 0.32020675632311446, 0.009852515579172752, 0.12808270252924578, 0.04926257789586376, 0.4482894588523602, 0.3183683460698992, 0.6731216459763584, 0.041031741068268054, 0.27491266515739593, 0.545722156207965, 0.041031741068268054, 0.09437300445701652, 0.9558023529559688, 0.27732782234350056, 0.6655867736244013, 0.027732782234350054, 0.9234099707371753, 0.9876014356815068, 0.9260481953646954, 0.948471978060845, 0.9632362150585881, 0.9677477758593545, 0.9449814012494314, 0.4864271169174109, 0.4864271169174109, 0.9922906180314301, 0.9955053944688359, 0.48842779736901826, 0.5116862639104001, 0.012474520987639678, 0.9854871580235346, 0.9619526255590395, 0.9920174535507305, 0.0608412824029442, 0.887268701709603, 0.04563096180220815, 0.9035161545376913, 0.06695733671894549, 0.8079518630752757, 0.1205232060941019, 0.3611179002614092, 0.02124222942714172, 0.04248445885428344, 0.4460868179699761, 0.11683226184927946, 0.9914238028958592, 0.21828567217960873, 0.7745620625728052, 0.06873403837807639, 0.002863918265753183, 0.005727836531506366, 0.4897300234437943, 0.06300620184657002, 0.005727836531506366, 0.234841297791761, 0.12601240369314004, 0.010655439744000239, 0.010655439744000239, 0.8098134205440182, 0.012786527692800287, 0.15343833231360343, 0.02421227528641223, 0.005380505619202718, 0.45734297763223103, 0.026902528096013588, 0.18024693824329105, 0.010761011238405435, 0.026902528096013588, 0.2744057865793386, 0.030535465361738272, 0.1908466585108642, 0.7786543667243259, 0.4051623877090305, 0.5672273427926428, 0.990491517501226, 0.9961320041184831, 0.01467368671570654, 0.004891228905235513, 0.9733545521418671, 0.9772829480029742, 0.6409167184688928, 0.044819350941880616, 0.0582651562244448, 0.0022409675470940306, 0.024650643018034338, 0.022409675470940308, 0.006722902641282093, 0.19944611169136875, 0.9918369508617099, 0.9789484747705142, 0.9738788444986182, 0.896537550235536, 0.9481754670972499, 0.5918049115147797, 0.4003386166129392, 0.9615666842449936, 0.007095771311543844, 0.028383085246175378, 0.8585883286968052, 0.049670399180806915, 0.014191542623087689, 0.03547885655771922, 0.002470395882159188, 0.30138829762342095, 0.03705593823238782, 0.07164148058261645, 0.5854838240717276, 0.9351746604191964, 0.9880027799081729, 0.9906128862707749, 0.22607771019375367, 0.7347525581296994, 0.018839809182812806, 0.8666011731322193, 0.13332325740495682, 0.8740913040621509, 0.9691850143806869, 0.3255307064449299, 0.6510614128898597, 0.06697600792178479, 0.8898241052465693, 0.03827200452673416, 0.970261811506886, 0.08123190267639288, 0.00855072659751504, 0.0855072659751504, 0.0213768164937876, 0.7717030754257325, 0.00855072659751504, 0.00427536329875752, 0.019239134844408843, 0.9847563401809731, 0.14934690557261956, 0.850128539413373, 0.7888441198938559, 0.98140633663583, 0.9356301389556998, 0.007530970951880927, 0.0037654854759404635, 0.9865571946964014, 0.8434079917666777, 0.9974686184469497, 0.11681568366712068, 0.8761176275034052, 0.9712354311000617, 0.6341560515619259, 0.025366242062477035, 0.3297611468122015, 0.18869045620900657, 0.24260201512586557, 0.18869045620900657, 0.37738091241801314, 0.9318990648297318, 0.9335395139925331, 0.05908477936661602, 0.13060067085256086, 0.5311093948004141, 0.06965369112136578, 0.17413422780341445, 0.008706711390170723, 0.08706711390170722, 0.9286985547422695, 0.8595897835906748, 0.13057060003908985, 0.03294251192983648, 0.03294251192983648, 0.9223903340354215, 0.11265517575842246, 0.045062070303368985, 0.09012414060673797, 0.15771724606179144, 0.5858069139437968, 0.9768647303484198, 0.007820779758484622, 0.07820779758484622, 0.03128311903393849, 0.87983772282952, 0.9362682920088983, 0.014313482821217086, 0.0023855804702028476, 0.004771160940405695, 0.02147022423182563, 0.32205336347738445, 0.11927902351014238, 0.004771160940405695, 0.02147022423182563, 0.4914295768617866, 0.01113946628198346, 0.0556973314099173, 0.9301454345456189, 0.9840391203305553, 0.09070590339013712, 0.09070590339013712, 0.003359477903338412, 0.28891509968710344, 0.09070590339013712, 0.006718955806676824, 0.4232942158206399, 0.5940572503555153, 0.3898500705458069, 0.9866938460782094, 0.9560104797029859, 0.7134101387712155, 0.9922886852716741, 0.9354951566599621, 0.9677189551440821, 0.9225191525221268, 0.9158640904069448, 0.049506167049024045, 0.9340655211199048, 0.05695521470243322, 0.8851575279088372, 0.4295306450704886, 0.2147653225352443, 0.9809815984887728, 0.9983953773422107, 0.9120025454744558, 0.1229536215067761, 0.31967941591761784, 0.34427014021897306, 0.19672579441084176, 0.0331777855555726, 0.024522711062814534, 0.014425124154596784, 0.0043275372463790355, 0.2798474085991776, 0.030292760724653246, 0.15579134086964527, 0.19185415125613722, 0.021637686231895176, 0.10097586908217748, 0.017310148985516142, 0.12405606772953234, 0.025920237445936904, 0.03456031659458254, 0.21168193914181804, 0.06480059361484226, 0.004320039574322817, 0.5572851050876434, 0.043200395743228176, 0.056160514466196625, 0.9614802194493894, 0.04254293390082663, 0.8777278994275809, 0.02910832319530243, 0.049260239253588724, 0.9753270157639027, 0.020682735422373925, 0.34333340801140716, 0.6287551568401674, 0.9406767745235077, 0.015715931121206853, 0.015715931121206853, 0.958671798393618, 0.9981701958788711, 0.9343068231477458, 0.0019177594236245807, 0.013424315965372066, 0.03260191020161787, 0.8879226131381809, 0.05177950443786368, 0.009588797118122903, 0.7464745855142967, 0.2488248618380989, 0.023307424782582378, 0.03884570797097063, 0.9322969913032951, 0.9796489036355853, 0.9711431190986171, 0.9632362182811437, 0.9294993233593749, 0.04766663196714743, 0.9902316796519508, 0.9125072141907671, 0.07573955506890162, 0.9088746608268194, 0.935074618320616, 0.040069737673660726, 0.004452193074851191, 0.6722811543025299, 0.28048816371562507, 0.9805135174071419, 0.9886841689300848, 0.9443884475969708, 0.02623301243324919, 0.9765797337868107, 0.4111147600198313, 0.5344491880257807, 0.04111147600198313, 0.9970336793643874, 0.01347019457044741, 0.9852485171527248, 0.6782549356306162, 0.27130197425224645, 0.8517147717938003, 0.1404890345226887, 0.973593356880483, 0.008235441139602966, 0.035686911604946185, 0.10019786719850274, 0.4515766891548959, 0.10294301424503707, 0.05078522036088495, 0.001372573523267161, 0.012353161709404448, 0.23745521952521884, 0.9632362180722394, 0.873245523198633, 0.8896560429785407, 0.06025089084874942, 0.9037633627312412, 0.10004772669676458, 0.10004772669676458, 0.8003818135741166, 0.29639278474023145, 0.14270763709714848, 0.548875527296725, 0.4340223045015123, 0.9404441674306063, 0.9855308444976142, 0.9877019689961233, 0.9873393003197797, 0.44130894179364394, 0.983995932656268, 0.4409246004545138, 0.5511557505681423, 0.9134822982396106, 0.8113381804600137, 0.014905687315179416, 0.9092469262259444, 0.06707559291830738, 0.07595057011381548, 0.07595057011381548, 0.8354562712519703, 0.9268830792596756, 0.06620593423283397, 0.9547321469465209, 0.9363131389371756, 0.9344384347813729, 0.980065585313496, 0.4547890378380803, 0.9956344259946369, 0.04434222649113005, 0.006158642568212508, 0.09114791000954511, 0.7045487098035109, 0.0036951855409275047, 0.09853828109140013, 0.024634570272850032, 0.027098027300135035, 0.9416223146092095, 0.006857208178672365, 0.020571624536017095, 0.5040048011324189, 0.46286155206038465, 0.9877068816610624, 0.8176070983493867, 0.0778673426999416, 0.0778673426999416, 0.9646421009418679, 0.9632362173004403, 0.9953595124209306, 0.04561925805793774, 0.02566083265758998, 0.27941795560486865, 0.002851203628621109, 0.0655776834582855, 0.0313632399148322, 0.5474310966952529, 0.9889850576927809, 0.7303233271458208, 0.2644274115527972, 0.9425521614091319, 0.00905655133583268, 0.01811310267166536, 0.6647508680501187, 0.04166013614483033, 0.26445129900631426, 0.6415146909849649, 0.008331359623181362, 0.3332543849272545, 0.007176550343761518, 0.3337095909849106, 0.6566543564541789, 0.9865882710061344, 0.023163831877010613, 0.5228407766525253, 0.013236475358291777, 0.4368036868236287, 0.7229227306962267, 0.021262433255771374, 0.23388676581348514, 0.9908321873321213, 0.04231564246994165, 0.2679990689762971, 0.006045091781420236, 0.33449507857191974, 0.046345703657555144, 0.00403006118761349, 0.05440582603278212, 0.09269140731511029, 0.1470972333478924, 0.10926026472070244, 0.4795311618297496, 0.40972599270263416, 0.9597562026739377, 0.982654077781955, 0.9434295550154177, 0.9058330621181789, 0.07926039293534065, 0.011322913276477236, 0.045182294277418246, 0.9036458855483649, 0.9673456604912083, 0.9894838099697332, 0.8937127790406199, 0.9222749046818794, 0.07904222315612068, 0.0023952188835188086, 0.40479199131467863, 0.1437131330111285, 0.23233623170132442, 0.1341322574770533, 0.9632362188261037, 0.96789706117767, 0.016627180586084808, 0.9602196788463977, 0.012470385439563606, 0.008313590293042404, 0.9728237426367238, 0.024785318283738186, 0.03657260254627458, 0.04460073481252997, 0.4950681564190827, 0.14450638079259712, 0.07314520509254915, 0.0008920146962505994, 0.20427136544138727, 0.023555357270835783, 0.015703571513890523, 0.04711071454167157, 0.007851785756945262, 0.03140714302778105, 0.015703571513890523, 0.8636964332639787, 0.053759127349062484, 0.48383214614156234, 0.4300730187924999, 0.9877891111304427, 0.9632362212644683, 0.9925977336778298, 0.9750258741989036, 0.9496274157330694, 0.9736472547125654, 0.04224616414357047, 0.7165599379736376, 0.16411009917310068, 0.025997639472966443, 0.02274793453884564, 0.025997639472966443, 0.9330775695632525, 0.9263692845504093, 0.9785953068974099, 0.9964170176372417, 0.023297393344644077, 0.09784905204750513, 0.2096765401017967, 0.554477961602529, 0.004659478668928816, 0.07921113737178986, 0.03261635068250171, 0.9039588831466225, 0.3978197412113412, 0.5893625795723574, 0.9829544468148662, 0.006935760351583624, 0.6935760351583624, 0.04161456210950174, 0.02080728105475087, 0.23581585195384322, 0.20769291532841735, 0.1495388990364605, 0.17446204887587058, 0.24092378178096413, 0.21600063194155406, 0.9765501983958615, 0.9658466316482252, 0.14110369551863772, 0.6924360157570235, 0.0028033846791782327, 0.014016923395891164, 0.14951384955617242, 0.960896238855683, 0.9762094510844166, 0.9860368100028716, 0.010591272960019368, 0.05295636480009684, 0.021182545920038737, 0.2277123686404164, 0.6831371059212492, 0.9625929969795995, 0.37686002408835184, 0.1794571543277866, 0.43069717038668787, 0.9862353240335472, 0.033289536112188454, 0.22470436875727207, 0.008322384028047114, 0.016644768056094227, 0.008322384028047114, 0.6907578743279104, 0.9622397140948107, 0.02749256325985173, 0.08336957855201924, 0.010167021774636492, 0.34771214469256806, 0.046768300163327864, 0.5124178974416792, 0.03873650474270614, 0.005738741443363872, 0.04734461690775195, 0.22381091629119101, 0.011477482886727744, 0.6699980635127321, 0.891612876099863, 0.3970239252862454, 0.05671770361232077, 0.4537416288985662, 0.9823648064054737, 0.9958755328584479, 0.9895020307591241, 0.0018209033110550353, 0.0018209033110550353, 0.018209033110550353, 0.46979305425219914, 0.24400104368137474, 0.12564232846279744, 0.0928660688638068, 0.04188077615426581, 0.946419554415005, 0.5460892529360447, 0.9910126430367863, 0.01831999605175013, 0.003053332675291688, 0.012213330701166753, 0.009159998025875065, 0.9343197986392566, 0.02137332872704182, 0.10420920610048241, 0.01572969148686527, 0.6871908968324265, 0.027526960102014223, 0.11600647471563137, 0.006881740025503556, 0.041290440153021336, 0.9375063695832916, 0.04076114650362137, 0.013319021430947542, 0.007991412858568525, 0.005327608572379017, 0.013319021430947542, 0.4475191200798374, 0.058603694296169184, 0.042620868579032134, 0.010655217144758033, 0.40223444721461576, 0.9938432433194848, 0.9942445388382737, 0.99256615364889, 0.9876014355477067, 0.8738363422775508, 0.984861949958514, 0.0022531801366975483, 0.022531801366975482, 0.0045063602733950965, 0.034924292118812, 0.33910361057298105, 0.13293762806515536, 0.4528892074762072, 0.009012720546790193, 0.7229886942776605, 0.9734998389698125, 0.8458404511768614, 0.07689458647062376, 0.9465089437791181, 0.9249043085873393, 0.10354507265963384, 0.03451502421987794, 0.8456180933870097, 0.14980183150852697, 0.023046435616696455, 0.806625246584376, 0.011523217808348227, 0.9924744927341597, 0.006202965579588498, 0.14238937094477513, 0.7738552768737779, 0.0804809487948729, 0.9893015737631983, 0.0395989382650716, 0.00913821652270883, 0.0010153573914120923, 0.03147607913377486, 0.08935145044426412, 0.005076786957060461, 0.3563904443856444, 0.0923975226185004, 0.006092144348472554, 0.08427466348720365, 0.0010153573914120923, 0.0010153573914120923, 0.2832847122039737, 0.9613191255243915, 0.9570880952753589, 0.0405116654084808, 0.9893737263900897, 0.7977049054074696, 0.19499453243293702, 0.9857762417150481, 0.9916152484374041, 0.9090764348942764, 0.06060509565961843, 0.993812571529743, 0.019161819688672, 0.858023703837202, 0.038323639377344, 0.006387273229557334, 0.076647278754688, 0.9749959508576321, 0.0165253550992819, 0.07427980695397385, 0.04951987130264923, 0.8665977477963616, 0.020408504389368844, 0.35374740941572663, 0.04081700877873769, 0.5782409576987839, 0.4051476017464583, 0.3478754276775872, 0.050908599172329844, 0.055150982436690664, 0.13787745609172666, 0.9120025144749296, 0.9595046950009706, 0.8172269599317473, 0.17462114528456138, 0.8904601204986854, 0.1608690338138333, 0.8273264596139999, 0.974788039968442, 0.4512886742941299, 0.546753586164042, 0.7449428560522429, 0.23944591801679235, 0.7239925388894853, 0.13163500707081552, 0.06581750353540776, 0.7474020477765183, 0.24598042078720858, 0.9792523736299367, 0.012777790462888888, 0.9711120751795554, 0.9717269049784942, 0.04156204422854689, 0.10687382801626344, 0.07718665356730137, 0.011874869779584827, 0.05343691400813172, 0.7006173169955048, 0.9679656325987567, 0.8420473656749915, 0.1403412276124986, 0.28304203714194537, 0.6604314199978726, 0.011793418214247724, 0.03538025464274317, 0.1014524773261157, 0.1014524773261157, 0.02434859455826777, 0.004058099093044628, 0.5234947830027571, 0.03652289183740166, 0.0852200809539372, 0.11768487369829422, 0.0984265308741405, 0.8858387778672645, 0.8124050111467683, 0.13540083519112805, 0.46333919439427557, 0.9767946021949775, 0.9400624678144884, 0.034047362449605295, 0.008511840612401324, 0.20428417469763177, 0.05107104367440794, 0.059582884286809266, 0.629876205317698, 0.1451128636084479, 0.4783349948574765, 0.2633529746968129, 0.037621853528116124, 0.06986915655221566, 0.08042142875866339, 0.8804030095685255, 0.008465413553543515, 0.029628947437402298, 0.968212980266383, 0.010173362296655131, 0.007266687354753665, 0.002906674941901466, 0.007266687354753665, 0.7688155221329378, 0.020346724593310262, 0.1802138463978909, 0.9584637338797285, 0.9880449431708314, 0.9886889067158479, 0.979484305362893, 0.9879211517750561, 0.9297993835793281, 0.006012875524757577, 0.9921244615850002, 0.9894187198497717, 0.9867854521218192, 0.8845798508711675, 0.9833832547600188, 0.05234758209552345, 0.005510271799528784, 0.0688783974941098, 0.1983697847830362, 0.15979788218633473, 0.019285951298350743, 0.005510271799528784, 0.48765905425829736, 0.9705706004047484, 0.992406060844875, 0.8321717596324337, 0.11095623461765784, 0.9712522862274264, 0.965346746085021, 0.02771331096664924, 0.01847554064443283, 0.9514903431882906, 0.14026303243218563, 0.8415781945931139, 0.9876319920519423, 0.9704464526274293, 0.009249499826293524, 0.8810148584544581, 0.048559874088041, 0.05780937391433453, 0.7843714299286393, 0.9630190962206848, 0.5572847139647253, 0.07268931051713808, 0.048459540344758724, 0.2907572420685523, 0.012621615746293818, 0.9844860282109178, 0.7732705179324368, 0.20047754168618734, 0.9835457834348448, 0.9593812981441647, 0.05264708378122613, 0.015953661751886707, 0.7290823420612225, 0.0701961117083015, 0.0063814647007546825, 0.017549027927075377, 0.022335126452641386, 0.03350268967896208, 0.05264708378122613, 0.011993126560653395, 0.03597937968196019, 0.011993126560653395, 0.9354638717309649, 0.09620344353480668, 0.23249165520911616, 0.10422039716270724, 0.10422039716270724, 0.09620344353480668, 0.12827125804640893, 0.20042384069751393, 0.040084768139502784, 0.9907535631956753, 0.025580527410450703, 0.710773225904666, 0.010963083175907445, 0.098667748583167, 0.1498288034040684, 0.0018271805293179075, 0.9383717156480117, 0.08651007317638362, 0.08651007317638362, 0.692080585411069, 0.967797498168591, 0.44869348904250955, 0.5278746929911877, 0.9831407061327601, 0.4852596373366135, 0.9739701174245857, 0.8903708925203129, 0.0702924388831826, 0.18092910639820325, 0.723716425592813, 0.03503772444066118, 0.011679241480220393, 0.3737357273670526, 0.24526407108462825, 0.023358482960440786, 0.3036602784857302, 0.988082871495745, 0.45887378790616384, 0.4916504870423184, 0.9880830275699091, 0.05603734329707465, 0.015458577461261974, 0.7825904839763874, 0.14299184151667327, 0.957573030491702, 0.06843969185883078, 0.4653899046400493, 0.4653899046400493, 0.7770989994022487, 0.21778570683884677, 0.937800474326261, 0.9894523138115193, 0.9409622411505859, 0.9949594631177145, 0.003645472193157976, 0.003645472193157976, 0.3973564690542194, 0.03280924973842179, 0.054682082897369644, 0.5103661070421167, 0.9863472619488264, 0.980194833879615, 0.9632362227577745, 0.016851847131552914, 0.0033703694263105826, 0.7077775795252224, 0.2696295541048466, 0.978670973088852, 0.9955462544702405, 0.9450307888105102, 0.8974749399465579, 0.004567195861705162, 0.015223986205683873, 0.01674638482625226, 0.0030447972411367747, 0.0060895944822735495, 0.479555565479042, 0.02892557379079936, 0.03197037103193613, 0.03805996551420968, 0.3760324592803917, 0.9374420817314911, 0.9361947935768253, 0.03600749206064713, 0.9507448658370723, 0.9908502515088744, 0.9255303426907627, 0.014969068098150934, 0.021384382997358477, 0.08126065538996222, 0.5923474090268298, 0.12189098308494332, 0.16893662567913198, 0.5130299849201411, 0.15389240955023858, 0.015389240955023859, 0.8156297706162645, 0.020452204586775585, 0.04090440917355117, 0.04090440917355117, 0.8794447972313502, 0.019981374589087463, 0.019981374589087463, 0.9391246056871108, 0.9522594540001215, 0.9241278761827093, 0.05501017662966333, 0.9448806809330408, 0.9818083562049522, 0.010703001796246933, 0.03924433991957209, 0.9489994926005614, 0.989131205033359, 0.00863870048064069, 0.9863065333718752, 0.9837565193273421, 0.9938052564568728, 0.48166132764497077, 0.006401829977890542, 0.008535773303854056, 0.48227119166775423, 0.004267886651927028, 0.10029533632028517, 0.074688016408723, 0.006401829977890542, 0.014937603281744599, 0.22619799255213252, 0.07682195973468652, 0.9506315948959883, 0.03204376162570747, 0.010681253875235823, 0.947847179252379, 0.8865333278871721, 0.9853242611728664, 0.9876014358051377, 0.894906465282437, 0.22857622122531035, 0.5293344070480871, 0.02406065486582214, 0.01203032743291107, 0.19248523892657712, 0.05810627487540402, 0.11621254975080804, 0.3602589042275049, 0.13945505970096964, 0.03486376492524241, 0.26728886442685845, 0.011621254975080804, 0.04378917814029032, 0.39410260326261287, 0.3240399182381483, 0.02627350688417419, 0.008757835628058064, 0.21018805507339353, 0.9947932208004756, 0.9442388623944897, 0.6273105893235064, 0.9687434477628809, 0.9509340077321934, 0.8484890843877855, 0.04713828246598808, 0.04713828246598808, 0.9459611107800115, 0.5253959817806159, 0.9632362187712759, 0.9963168533691935, 0.1953296091077785, 0.07918767936801831, 0.1689337159851057, 0.4434510044609025, 0.01583753587360366, 0.08974603661708741, 0.9008530511331229, 0.9867314712941713, 0.989763058209967, 0.003238642135723135, 0.019431852814338808, 0.06963080591804739, 0.5861942265658874, 0.26556865512929706, 0.004857963203584702, 0.019431852814338808, 0.03076710028936978, 0.9566814515937053, 0.9241053714614408, 0.8977544936463059, 0.20372391272689974, 0.6111717381806991, 0.045823172191731217, 0.9317378345652014, 0.013649365032447288, 0.013649365032447288, 0.9691049173037574, 0.042780330694756764, 0.9411672752846488, 0.7795801065897096, 0.17990310152070219, 0.9827457115016472, 0.9442618853631601, 0.002282396388856544, 0.004564792777713088, 0.8627458349877736, 0.04108313499941779, 0.0890134591654052, 0.040020906721727, 0.9471614590808723, 0.12310407694522936, 0.01367823077169215, 0.8343720770732213, 0.056495428836699696, 0.4971597737629573, 0.36157074455487803, 0.06779451460403964, 0.5004162584747353, 0.45210020593234707, 0.027609172881364705, 0.017255733050852942, 0.0791222451826451, 0.887927418160795, 0.01758272115169891, 0.97928628192469, 0.02389773492561695, 0.9718412203084227, 0.6589420194474926, 0.015756485570599055, 0.9611456198065425, 0.015756485570599055, 0.8952443859813247, 0.022577844061501224, 0.9482694505830513, 0.996250526345964, 0.8678535518561485, 0.10210041786542924, 0.03594486389658135, 0.9129995429731663, 0.021566918337948812, 0.028755891117265082, 0.03371160368404785, 0.40453924420857423, 0.5393856589447656, 0.10197601712262906, 0.482068444579701, 0.03708218804459239, 0.37082188044592385, 0.9902117584005853, 0.7168824579997266, 0.9698512888193297, 0.9900491178363968, 0.9622130895347358, 0.21987841791994328, 0.6596352537598299, 0.9931468192110657, 0.596073735373761, 0.39117338883903063, 0.5620886449514261, 0.024438636737018522, 0.39101818779229636, 0.30612480813216925, 0.6734745778907723, 0.16277063058577546, 0.22787888282008564, 0.06510825223431017, 0.5208660178744814, 0.909220804101742, 0.9871980103118251, 0.9763514222560065, 0.017888397749338574, 0.6772036290821032, 0.04344325167696511, 0.26065951006179067, 0.9845967576368141, 0.01025621622538348, 0.0543315525792771, 0.02037433221722891, 0.1086631051585542, 0.8081818446167468, 0.014791861609353875, 0.8135523885144631, 0.11463692747249252, 0.05731846373624626, 0.0018489827011692343, 0.9565161495979436, 0.9845580650286136, 0.9565108640246317, 0.8670225192498997, 0.12211150252890024, 0.7326690151734014, 0.06105575126445012, 0.9442491293078155, 0.03256031480371777, 0.9221242242445029, 0.5524365055468474, 0.036028467753055265, 0.05704507394233751, 0.018014233876527633, 0.06004744625509211, 0.27321588046066914, 0.28572065926608153, 0.7143016481652038, 0.07236242975585834, 0.02067497993024524, 0.8993616269656679, 0.9632362188738146, 0.020809986125040213, 0.04161997225008043, 0.9156393895017694, 0.016462141223947485, 0.0020577676529934356, 0.004115535305986871, 0.05967526193680963, 0.5164996809013523, 0.01851990887694092, 0.006173302958980307, 0.006173302958980307, 0.36834040988582495, 0.0022902585617842626, 0.9962624743761542, 0.9701553640334452, 0.9876014358605393, 0.9370728114840052, 0.08177034566808006, 0.9085593963120007, 0.9834408254241409, 0.9729277548915418, 0.7871039233913274, 0.8679907160266487, 0.024110853222962463, 0.024110853222962463, 0.048221706445924925, 0.9385242664082065, 0.03351872380029309, 0.027932269833577574, 0.9607282140344771, 0.9782390722084451, 0.04552348356215248, 0.0010586856642361042, 0.2011502762048598, 0.21067844718298473, 0.15562679264270732, 0.013762913635069355, 0.02752582727013871, 0.3440728408767339, 0.9957054586203075, 0.8726648039301362, 0.964454678676009, 0.03384051504126347, 0.0034345377425254613, 0.178595962611324, 0.8139854449785344, 0.9927867753491936, 0.23014285913315044, 0.015342857275543362, 0.7518000065016248, 0.022725385365941445, 0.9743508975647395, 0.9807776645219187, 0.9765605862204384, 0.9382641729907696, 0.9225633976098552, 0.9749258137744351, 0.003350745954357605, 0.05026118931536407, 0.0636641731327945, 0.48920890933621036, 0.01340298381743042, 0.37863429284240935, 0.8959964197954859, 0.9706942522371178, 0.9955461319597292, 0.3111113903526946, 0.1623189862709711, 0.5140101231914085, 0.350660242426386, 0.6456601289120758, 0.986023896677003, 0.9802900376799251, 0.08556269938108142, 0.898408343501355, 0.010695337422635178, 0.09379332126966629, 0.8977360750096631, 0.049260996800008526, 0.01642033226666951, 0.9031182746668229, 0.15278275508338063, 0.7511818791599548, 0.0923062478628758, 0.003182974064237097, 0.9466742610113391, 0.1598881808207275, 0.7994409041036376, 0.986282192110967, 0.02400880766865851, 0.39374444576599954, 0.5762113840478043, 0.004801761533731702, 0.36496436086008593, 0.6082739347668099, 0.01417034569540848, 0.002834069139081696, 0.8615570182808356, 0.11903090384143124, 0.9227685710332952, 0.9856354467313488, 0.9493592717805236, 0.9749596975100261, 0.9602379583743423, 0.9948413803211076, 0.006310752109099959, 0.004733064081824969, 0.9292582480649689, 0.007888440136374948, 0.04890832884552468, 0.9563662126077801, 0.9115476583643112, 0.957843394102687, 0.9642213446809673, 0.4853810277153245, 0.4107070234514284, 0.03733700213194804, 0.6781694478450689, 0.3033915950885835, 0.003721748294564455, 0.018608741472822272, 0.7666801486802777, 0.061408846860313504, 0.018608741472822272, 0.1284003161624737, 0.0029681098839917314, 0.0029681098839917314, 0.025723618994595004, 0.10487321590104118, 0.05045786802785943, 0.1385117945862808, 0.007914959690644617, 0.0039574798453223085, 0.056394087795842894, 0.6054944163343132, 0.046418210958527516, 0.10212006410876054, 0.8076768706783788, 0.037134568766822015, 0.923371015138653, 0.9670557803401428, 0.034408889972587335, 0.0038232099969541487, 0.21409975982943233, 0.745525949406059, 0.6745116681407465, 0.9796871943423078, 0.004731172766029415, 0.14193518298088242, 0.01892469106411766, 0.023655863830147072, 0.0662364187244118, 0.7427941242666181, 0.9844815753284402, 0.9725445504847413, 0.9925123007320742, 0.4438896533130355, 0.31236679307213605, 0.024660536295168636, 0.2137246478914615, 0.7752234923001061, 0.18856787650543122, 0.020951986278381247, 0.9948008194255012, 0.9789929907199688, 0.8597087118282027, 0.11723300615839127, 0.9698516474237522, 0.972499258340261, 0.025150842888110196, 0.9728141605495844, 0.9572593489656807, 0.03121497877062002, 0.010404992923540007, 0.02849548157213094, 0.9403508918803211, 0.967747778511434, 0.9845356070967904, 0.22000515372618618, 0.3483414933997948, 0.27500644215773273, 0.14667010248412413, 0.9736896359152885, 0.8146550861075758, 0.18029251905659463, 0.9868706060605126, 0.9873134655558506, 0.03644801135946464, 0.0016567277890665744, 0.9443348397679475, 0.016567277890665744, 0.9685908331734897, 0.9513676557870626, 0.9499089426347148, 0.03799635770538859, 0.5404366613997484, 0.43650653420748914, 0.020786025438451865, 0.9654920933964926, 0.9927609028013997, 0.7656461966716565, 0.007315091051003087, 0.03901381893868313, 0.009753454734670782, 0.0024383636836676956, 0.1633703668057356, 0.012191818418338479, 0.9205101777575122, 0.969663967332047, 0.002321545756934292, 0.001160772878467146, 0.010446955906204316, 0.8380780182532795, 0.0034823186354014384, 0.011607728784671461, 0.006964637270802877, 0.12652424375291893, 0.8340038469345248, 0.06073363407657345, 0.022775112778715044, 0.03795852129785841, 0.022775112778715044, 0.8578625813316, 0.008866622404952477, 0.5076141326835293, 0.004433311202476239, 0.4765809542661957, 0.8889702670653833, 0.7000819137848301, 0.050786502713799565, 0.939550300205292, 0.9108160480544942, 0.9876014356504322, 0.9281859281566268, 0.14895440236345642, 0.744772011817282, 0.15231206547427342, 0.8417245723578268, 0.7785690962104754, 0.19464227405261886, 0.03267247358765657, 0.9475017340420406, 0.8544117352050051, 0.9918699810371306, 0.8789422866275837, 0.4883324175552835, 0.002881833553517083, 0.07780950594496125, 0.12680067635475167, 0.28530152179819124, 0.014409167767585418, 0.49279353765142125, 0.2817921074315121, 0.010838157978135083, 0.7044802685787803, 0.9919275845955093, 0.93988938058987, 0.05594579646368274, 0.8094544181823116, 0.18476676936770153, 0.9794306411884568, 0.9377564291693344, 0.8867990372236482, 0.04222852558207848, 0.04222852558207848, 0.9940214441930185, 0.005816424540669246, 0.2675555288707853, 0.7212366430429865, 0.935088613732403, 0.021924170445710968, 0.09646634996112825, 0.0021924170445710967, 0.6248388577027626, 0.16004644425369005, 0.004384834089142193, 0.08988909882741497, 0.9238284925550714, 0.7169339208091957, 0.2757438156958445, 0.9741892522403702, 0.17778115706717762, 0.2473476967891167, 0.007729615524659897, 0.5024250091028932, 0.05410730867261927, 0.3773256763697162, 0.045736445620571664, 0.26298456231828704, 0.011434111405142916, 0.13149228115914352, 0.16579461537457227, 0.7771683463259045, 0.20148808978819746, 0.011583749748448502, 0.04504791568841084, 0.002574166610766334, 0.002574166610766334, 0.0038612499161495006, 0.6911637349907606, 0.15444999664598003, 0.03732541585611184, 0.05148333221532667, 0.5346138614233023, 0.22465612324626077, 0.6566871294890699, 0.11520826833141579, 0.9829176835898114, 0.270977954486561, 0.23710571017574084, 0.47421142035148167, 0.9461741077040527, 0.5688108116432712, 0.40629343688805086, 0.9907866996160852, 0.09317694148681387, 0.8385924733813248, 0.03412528315660006, 0.9555079283848016, 0.7901196069605285, 0.6241848369130436, 0.35370474091739135, 0.06679093475944689, 0.9183753529423948, 0.022656843160553837, 0.011328421580276919, 0.9478112722165022, 0.018880702633794866, 0.9949220789935892, 0.9899316535244987, 0.9160638400752632, 0.993529503426269, 0.13602266027937626, 0.018548544583551308, 0.003091424097258551, 0.015457120486292756, 0.004637136145887827, 0.003091424097258551, 0.667747605007847, 0.007728560243146378, 0.1391140843766348, 0.0015457120486292756, 0.9905269273026108, 0.9632362178319464, 0.9755311566891326, 0.08719286762574043, 0.8937268931638395, 0.8944041675259606, 0.09252456905440973, 0.014621070623052963, 0.029242141246105927, 0.9503695904984426, 0.02729248691456597, 0.9688832854670919, 0.005458497382913194, 0.975662438992382, 0.9796806483782873, 0.01737022426202637, 0.8698878937981233, 0.9714066372202873, 0.013945560453665655, 0.02789112090733131, 0.0767005824951611, 0.8785703085809362, 0.1747243067152085, 0.0008960220857190179, 0.0026880662571570537, 0.0008960220857190179, 0.7723710378897934, 0.010752265028628215, 0.03763292760019875, 0.9418530481985019, 0.9372890030631043, 0.9278552815053841, 0.056233653424568736, 0.8828972010415307, 0.970118502401538, 0.9141619227005943, 0.9632362264714001, 0.9786140662583664, 0.9876014357694611, 0.8379407998994359, 0.13002529653611936, 0.01444725517067993, 0.6331068815355083, 0.016028022317354642, 0.3285744575057702, 0.016028022317354642, 0.9035604693969597, 0.9380501996390522, 0.05070541619670552, 0.5878478335468376, 0.39950823639105465, 0.01141452103974442, 0.9700742889432942, 0.019401485778865885, 0.0015998003369447982, 0.0015998003369447982, 0.0767904161733503, 0.1647794347053142, 0.37915267985591716, 0.006399201347779193, 0.03839520808667515, 0.0031996006738895964, 0.006399201347779193, 0.21597304548754775, 0.10398702190141187, 0.9890230474929353, 0.9835774300008268, 0.01592837943321177, 0.8852025768163089, 0.8420681514283641, 0.13444785611041107, 0.021228608859538593, 0.0019928955651699483, 0.0019928955651699483, 0.03387922460788912, 0.017936060086529537, 0.4862665179014674, 0.27701248355862285, 0.017936060086529537, 0.10960925608434716, 0.053808180259588605, 0.9498089021431031, 0.9464369315426513, 0.05863009840560659, 0.8794514760840989, 0.009947295004767829, 0.05471012252622306, 0.0033157650015892765, 0.4327073327074006, 0.09449930254529437, 0.006631530003178553, 0.0016578825007946382, 0.034815532516687404, 0.3597605026724365, 0.9632718960935207, 0.04499975486279942, 0.2999983657519961, 0.029999836575199616, 0.05999967315039923, 0.41999771205279457, 0.14999918287599806, 0.6049706971878436, 0.7128959783724579, 0.652783681786692, 0.01601803079137947, 0.6727572932379378, 0.30434258503621, 0.9272834699757483, 0.9407485049342866, 0.9861041871213743, 0.9785433033658855, 0.9948999031261214, 0.25440830751309934, 0.25440830751309934, 0.1991021537059038, 0.2765307690359775, 0.023101089603335984, 0.0017770068925643066, 0.0017770068925643066, 0.8618483428936887, 0.012439048247950146, 0.003554013785128613, 0.09418136530590825, 0.9533641765921135, 0.923646677716693, 0.9533164888522487, 0.08387304118144735, 0.4160102842599789, 0.020129529883547364, 0.47639887391062097, 0.9801987827263701, 0.9837557874450962, 0.03344074327183485, 0.0006430912167660548, 0.005144729734128438, 0.07009694262749998, 0.67974741612172, 0.060450574376009154, 0.1125409629340596, 0.0006430912167660548, 0.012861824335321096, 0.023794375020344028, 0.005049677749530256, 0.0075745166242953835, 0.7170542404332964, 0.0075745166242953835, 0.2070367877307405, 0.0075745166242953835, 0.002524838874765128, 0.005049677749530256, 0.04292226087100717, 0.8725401152341329, 0.08068171686452655, 0.7436749554469403, 0.0666501139315654, 0.09471331979748768, 0.007015801466480569, 0.007015801466480569, 0.9917228761027574, 0.11416874623497195, 0.025370832496660434, 0.35519165495324606, 0.40593331994656695, 0.10148332998664174, 0.9897459362512936, 0.883398369296123, 0.08217659249266261, 0.020544148123165653, 0.16217595134550897, 0.46184890491873204, 0.17627820798424887, 0.014102256638739909, 0.1833293363036188, 0.9067663177340906, 0.08096127836911522, 0.9521559302430009, 0.03926416207187632, 0.12467636952528116, 0.8727345866769681, 0.005105346815189054, 0.382901011139179, 0.24846021167253393, 0.13954614628183412, 0.2195299130531293, 0.0017017822717296845, 0.003403564543459369, 0.9537440769422354, 0.48258647161184237], \"Term\": [\"abandoned_plan\", \"abercrombie_fitch\", \"abercrombie_fitch\", \"abercrombie_fitch\", \"accident\", \"accident\", \"according_reuters\", \"according_reuters\", \"according_thomson\", \"accurate_estimate\", \"across_atlantic\", \"actively_managed\", \"actual_portfolio\", \"added_percent\", \"added_point\", \"adjusted_earnings\", \"administration_eia\", \"administration_nhtsa\", \"administration_nhtsa\", \"advancing_issue\", \"advancing_issue\", \"advice_given\", \"agency\", \"agency\", \"aggressive_target\", \"ago_quarter\", \"ago_quarter\", \"ahead_thursday\", \"ahuja\", \"air_force\", \"air_pollution\", \"air_upgrade\", \"alarm\", \"alarm\", \"alexandria_sage\", \"alexandria_sage\", \"alexion_pharmaceutical\", \"allow\", \"already_underway\", \"also\", \"also\", \"also\", \"also\", \"also\", \"also\", \"also\", \"also\", \"also\", \"also\", \"also_building\", \"also_mean\", \"alternative_energy\", \"alternative_energy\", \"alternative_energy\", \"alternative_fuel\", \"american_express\", \"analysis_well\", \"analyst\", \"analyst\", \"analyst\", \"analyst\", \"analyst\", \"analyst\", \"analyst_blog\", \"analyst_blog\", \"analyst_noted\", \"analyst_polled\", \"analyst_polled\", \"asset_base\", \"asset_base\", \"audi\", \"audi\", \"audi\", \"automaker\", \"automaker\", \"automaker_investing\", \"automatic_emergency\", \"autonomous_vehicle\", \"autonomous_vehicle\", \"autopilot\", \"autopilot\", \"autopilot_engaged\", \"autopilot_mode\", \"autopilot_system\", \"autopilot_system\", \"average_daily\", \"average_dji\", \"averaged_per\", \"averaged_per\", \"b_class\", \"back\", \"back\", \"back\", \"back\", \"back\", \"baillie_gifford\", \"bank\", \"bank\", \"bank\", \"base_trade\", \"basket_six\", \"battery\", \"battery\", \"battery\", \"battery_cell\", \"battery_cell\", \"battery_power\", \"battery_powered\", \"battery_powered\", \"battery_storage\", \"battery_storage\", \"bear\", \"bear\", \"bearish\", \"beat_earnings\", \"begin_production\", \"begin_production\", \"beijing\", \"beijing\", \"beijing\", \"beijing_reuters\", \"ben_kallo\", \"best_stock\", \"best_stock\", \"best_stock\", \"best_stock\", \"bet\", \"bet\", \"big_move\", \"big_move\", \"biggest_gainer\", \"biggest_maker\", \"billion_bid\", \"billion_gigafactory\", \"billion_share\", \"billion_share\", \"billion_share\", \"billion_share\", \"billion_share\", \"billion_share\", \"billion_yen\", \"billion_yuan\", \"bloomberg_report\", \"bloomberg_report\", \"bloomberg_report\", \"blue_origin\", \"bmw\", \"bmw\", \"bmw\", \"board\", \"board\", \"board\", \"booster\", \"borrow\", \"boston_fed\", \"boston_reuters\", \"bottom\", \"bottom_line\", \"bottom_line\", \"bottom_line\", \"bottom_line\", \"bottom_line\", \"bottom_line\", \"bounce\", \"bps_fee\", \"brainchild\", \"brainer\", \"brand\", \"brand\", \"brand\", \"brand\", \"breakout\", \"breakout\", \"breitfeld\", \"brent_oil\", \"brian_johnson\", \"brian_sandoval\", \"brine\", \"build_electric\", \"bull\", \"bull\", \"bull_market\", \"buy_sell\", \"buy_sell\", \"buy_sell\", \"buy_sell\", \"byd\", \"byd\", \"california\", \"california\", \"california\", \"california\", \"california\", \"california\", \"call_option\", \"called\", \"called\", \"called\", \"canaccord_genuity\", \"canaccord_genuity\", \"canaccord_genuity\", \"canaccord_genuity\", \"capability\", \"cape_canaveral\", \"capital_appreciation\", \"capital_expenditure\", \"capital_expenditure\", \"capital_raise\", \"car\", \"car\", \"car\", \"car\", \"car\", \"car_battery\", \"car_battery\", \"car_battery\", \"car_china\", \"car_china\", \"car_china\", \"car_due\", \"car_maker\", \"car_maker\", \"car_maker\", \"car_maker\", \"car_maker\", \"car_maker\", \"car_market\", \"car_market\", \"car_market\", \"car_united\", \"car_united\", \"carry_zacks\", \"carry_zacks\", \"carry_zacks\", \"cash_reserve\", \"cause\", \"cbs\", \"cent_per\", \"cent_per\", \"cent_per\", \"central_bank\", \"central_bank\", \"chademo\", \"chaired\", \"change\", \"change\", \"change\", \"change_lane\", \"channel\", \"channel\", \"channel\", \"charge_bps\", \"chargepoint\", \"charger\", \"charger\", \"charging_station\", \"charging_station\", \"chart\", \"cheaper_battery\", \"chesapeake_energy\", \"chicago_il\", \"chief_executive\", \"chief_executive\", \"chief_executive\", \"chief_executive\", \"chief_executive\", \"chief_executive\", \"chief_executive\", \"chief_executive\", \"chief_executive\", \"chief_investment\", \"chief_investment\", \"china\", \"china\", \"china\", \"china\", \"china\", \"china\", \"china\", \"chinese_automaker\", \"chinese_automaker\", \"citron\", \"city\", \"city\", \"city\", \"clean_edge\", \"clean_energy\", \"clean_energy\", \"clean_energy\", \"clean_energy\", \"close_attention\", \"close_company\", \"closing_lower\", \"co_ltd\", \"co_ltd\", \"co_ltd\", \"co_ltd\", \"co_n\", \"co_nasdaq\", \"come_around\", \"comment_rsi\", \"communication_satellite\", \"company\", \"company\", \"company\", \"company\", \"company\", \"company\", \"company\", \"company\", \"company\", \"company\", \"company\", \"company\", \"company\", \"company\", \"company_blog\", \"company_continued\", \"company_continued\", \"company_headed\", \"company_regularly\", \"company_reported\", \"company_reported\", \"company_reported\", \"company_reported\", \"company_reported\", \"company_sector\", \"company_share\", \"company_share\", \"company_share\", \"company_share\", \"company_share\", \"company_share\", \"composite_ixic\", \"consensus_estimate\", \"consensus_estimate\", \"consensus_estimate\", \"consensus_estimate\", \"consensus_estimate\", \"consensus_estimate\", \"consisting_stock\", \"construction_job\", \"consumer\", \"control_vehicle\", \"correction\", \"cost\", \"cost\", \"cost\", \"cost\", \"cost\", \"could\", \"could\", \"could\", \"could\", \"could\", \"could\", \"could_mean\", \"could_mean\", \"countdown\", \"country_manager\", \"crash\", \"crash\", \"crash\", \"crash_may\", \"create\", \"credit_suisse\", \"credit_suisse\", \"crude_future\", \"crude_oil\", \"crude_oil\", \"crude_oil\", \"cruise\", \"cruise\", \"current_quarter\", \"current_quarter\", \"current_quarter\", \"current_quarter\", \"current_quarter\", \"currently_carry\", \"currently_carry\", \"currently_carry\", \"customer\", \"customer\", \"customer\", \"customer\", \"cybertruck\", \"cybertruck\", \"cybertruck\", \"cybertruck\", \"data_center\", \"data_showing\", \"dave_bartosiak\", \"david_shepardson\", \"david_shepardson\", \"david_shepardson\", \"day\", \"day\", \"day\", \"day\", \"day\", \"day\", \"day\", \"day\", \"day\", \"day_day\", \"day_moving\", \"day_moving\", \"day_musk\", \"day_sma\", \"de_vowg\", \"de_vowg\", \"de_vowg\", \"dealer\", \"delivered_straight\", \"delivery\", \"delivery\", \"delivery\", \"delivery\", \"delivery\", \"delivery_late\", \"demand_luxury\", \"demand_model\", \"demand_model\", \"dependent_state\", \"described_profitable\", \"design\", \"detail\", \"detail\", \"detail\", \"detail\", \"detroit\", \"detroit_based\", \"detroit_based\", \"detroit_san\", \"development_u\", \"diesel_emission\", \"different\", \"direct_energy\", \"direction_could\", \"discontinued\", \"discontinued\", \"displayed_press\", \"dma\", \"dollar_index\", \"dollar_index\", \"dow\", \"dow_future\", \"dow_jones\", \"downside_price\", \"downside_target\", \"downtrend\", \"downward_net\", \"dragon\", \"driver\", \"driver\", \"driver\", \"driver\", \"driver\", \"driver\", \"driver_hand\", \"driving\", \"driving\", \"driving\", \"driving_autopilot\", \"driving_car\", \"driving_car\", \"driving_range\", \"driving_range\", \"due_diligence\", \"due_speak\", \"dusaniwsky\", \"e_golf\", \"earnings\", \"earnings\", \"earnings\", \"earnings\", \"earnings\", \"earnings\", \"earnings_beat\", \"earnings_beat\", \"earnings_beat\", \"earnings_esp\", \"earnings_per\", \"earnings_per\", \"earnings_per\", \"earnings_report\", \"earnings_report\", \"earnings_report\", \"earnings_report\", \"earnings_report\", \"earnings_revenue\", \"economic_impact\", \"edge_green\", \"editing\", \"editing\", \"editing\", \"electric\", \"electric\", \"electric\", \"electric\", \"electric\", \"electric_car\", \"electric_car\", \"electric_car\", \"electric_car\", \"electric_car\", \"electric_car\", \"electric_car\", \"electric_car\", \"electric_car\", \"electric_pickup\", \"electric_pickup\", \"electric_pickup\", \"electric_vehicle\", \"electric_vehicle\", \"electric_vehicle\", \"electric_vehicle\", \"electric_vehicle\", \"electric_vehicle\", \"electric_vehicle\", \"electrode\", \"elon_musk\", \"elon_musk\", \"elon_musk\", \"elon_musk\", \"elon_musk\", \"elon_musk\", \"elon_musk\", \"elon_musk\", \"elon_musk\", \"energy\", \"energy\", \"energy\", \"energy_etf\", \"energy_index\", \"energy_index\", \"energy_storage\", \"energy_storage\", \"energy_storage\", \"energy_storage\", \"energy_storage\", \"engage_investment\", \"engineering\", \"eps_est\", \"equity_index\", \"equity_option\", \"equity_research\", \"esp_zacks\", \"estimate\", \"estimate\", \"estimate\", \"estimate\", \"estimate\", \"estimate\", \"estimate\", \"estimate\", \"estimate_current\", \"estimate_current\", \"estimate_current\", \"estimate_sale\", \"estimate_sale\", \"et_gmt\", \"et_gmt\", \"etf\", \"etf\", \"etf\", \"etf\", \"etf_info\", \"etf_week\", \"eur_usd\", \"european_stock\", \"european_stock\", \"ev\", \"ev\", \"ev\", \"even\", \"even\", \"even\", \"even\", \"event_coming\", \"example\", \"example\", \"exchange_commission\", \"exchange_commission\", \"executive\", \"executive\", \"executive\", \"executive\", \"executive_elon\", \"executive_elon\", \"executive_elon\", \"executive_elon\", \"executive_elon\", \"executive_elon\", \"executive_officer\", \"executive_officer\", \"expectation\", \"expectation\", \"expectation\", \"expectation\", \"expectation\", \"expected_deliver\", \"expected_long\", \"expected_long\", \"expected_long\", \"expected_ramp\", \"expecting_big\", \"expects_year\", \"expense_ratio\", \"expressed_may\", \"extension_scenario\", \"factory_site\", \"factory_would\", \"factory_would\", \"falcon\", \"falcon_rocket\", \"fatal_crash\", \"fatal_crash\", \"feature\", \"feature\", \"fed_official\", \"fed_president\", \"federal_reserve\", \"federal_reserve\", \"federal_reserve\", \"fee_per\", \"fell\", \"fell\", \"fell\", \"fell_percent\", \"fell_percent\", \"fell_percent\", \"fell_percent\", \"fell_percent\", \"field\", \"finally\", \"finally\", \"firm\", \"firm\", \"firm\", \"firm\", \"firm\", \"firm\", \"firm\", \"firm\", \"first\", \"first\", \"first\", \"first\", \"first\", \"first_quarter\", \"first_quarter\", \"first_quarter\", \"first_quarter\", \"first_quarter\", \"first_quarter\", \"first_quarter\", \"first_quarter\", \"fisker\", \"fisker\", \"fisker\", \"fisker_automotive\", \"fisker_automotive\", \"fla_reuters\", \"fleet\", \"ford\", \"ford\", \"ford\", \"ford_fusion\", \"fourth_quarter\", \"fourth_quarter\", \"fourth_quarter\", \"fourth_quarter\", \"fourth_quarter\", \"fourth_quarter\", \"fourth_quarter\", \"fourth_quarter\", \"france_cac\", \"francisco_reuters\", \"fraudulent\", \"free_fund\", \"fremont_plant\", \"fuel_cell\", \"fuel_cell\", \"fuelled\", \"full_year\", \"full_year\", \"full_year\", \"full_year\", \"full_year\", \"full_year\", \"fund\", \"fund\", \"fund\", \"fund\", \"fund\", \"fund_hold\", \"future_mobility\", \"future_option\", \"future_pointed\", \"future_pointed\", \"future_pointed\", \"future_result\", \"future_result\", \"future_share\", \"gaap_operating\", \"gauge\", \"gauge\", \"ge\", \"ge\", \"ge\", \"geely\", \"general_motor\", \"general_motor\", \"general_motor\", \"general_motor\", \"general_motor\", \"general_motor\", \"general_motor\", \"general_motor\", \"germany_dax\", \"gigafactory\", \"gigafactory\", \"gigafactory_end\", \"give_detail\", \"global_expansion\", \"gm\", \"gm\", \"gm\", \"good_business\", \"google\", \"gpro\", \"gpro\", \"graphite\", \"greece\", \"greece\", \"greece\", \"green_energy\", \"green_energy\", \"green_energy\", \"green_energy\", \"greenback_strength\", \"gross_margin\", \"gross_margin\", \"growth_rate\", \"growth_rate\", \"growth_rate\", \"growth_rate\", \"growth_rate\", \"growth_rate\", \"halting\", \"hand_free\", \"hand_free\", \"hand_wheel\", \"hand_wheel\", \"hand_wheel\", \"harley_davidson\", \"harley_davidson\", \"harley_davidson\", \"harley_davidson\", \"harley_davidson\", \"health_care\", \"hedge_fund\", \"hedge_fund\", \"hedge_fund\", \"hedge_fund\", \"henrik_fisker\", \"high\", \"high\", \"high\", \"high\", \"high\", \"high\", \"high\", \"high\", \"high\", \"high_level\", \"high_level\", \"high_level\", \"high_new\", \"higher\", \"higher\", \"higher\", \"higher\", \"higher\", \"higher\", \"higher\", \"highway_traffic\", \"highway_traffic\", \"hike\", \"hike_would\", \"holiday_shortened\", \"home_battery\", \"humana\", \"hybrid_car\", \"hybrid_plug\", \"hybrid_vehicle\", \"hybrid_vehicle\", \"hyperloop\", \"hyperloop\", \"hyperloop_transportation\", \"ibb\", \"ibb\", \"immediate_release\", \"implied_volatility\", \"inbox_zacks\", \"inc_n\", \"inc_n\", \"inc_n\", \"inc_n\", \"inc_nasdaq\", \"inc_nasdaq\", \"inc_nasdaq\", \"inc_nasdaq\", \"inc_nasdaq\", \"inc_nasdaq\", \"inc_nasdaq\", \"inc_nasdaq\", \"inc_nasdaq\", \"inc_nasdaq\", \"inc_nasdaq\", \"inc_nasdaq\", \"inc_nyse\", \"inc_nyse\", \"inc_nyse\", \"inc_nyse\", \"inc_nyse\", \"inc_nyse\", \"inc_nyse\", \"inc_nyse\", \"inched_point\", \"including\", \"including\", \"including\", \"including\", \"independent_director\", \"index\", \"index\", \"index\", \"indian\", \"indicator\", \"indicator\", \"indicator\", \"industrial_average\", \"industrial_innovation\", \"industry\", \"industry\", \"industry\", \"industry\", \"industry\", \"industry\", \"industry_expected\", \"industry_expected\", \"industry_rank\", \"industry_rank\", \"industry_rank\", \"inflation_data\", \"inflator\", \"information_current\", \"informational_purpose\", \"informational_purpose\", \"innovation\", \"innovation_etf\", \"installation\", \"installation\", \"insurance_industry\", \"interest_rate\", \"interest_rate\", \"interest_rate\", \"interest_rate\", \"internal_email\", \"international_space\", \"intersection\", \"intersection\", \"inverter\", \"investigating\", \"investigating\", \"investigating\", \"investigator\", \"investing_com\", \"investing_com\", \"investing_company\", \"investing_company\", \"investment_research\", \"investment_research\", \"investment_security\", \"investor\", \"investor\", \"investor\", \"investor\", \"investor\", \"investor\", \"investor\", \"investor\", \"investor\", \"investor_assumed\", \"investor_short\", \"investor_stand\", \"involving_model\", \"involving_model\", \"ion_battery\", \"ion_battery\", \"ion_battery\", \"ipo\", \"ipo\", \"ipo\", \"ishares_nasdaq\", \"ivan_feinseth\", \"jackson\", \"janet_yellen\", \"japan_nikkei\", \"japan_softbank\", \"japanese_company\", \"jennifer_ablan\", \"jennifer_ablan\", \"john_williams\", \"jonas_think\", \"jumped\", \"jumped\", \"jumped\", \"jun\", \"jun\", \"jun\", \"june_th\", \"june_th\", \"keep_hand\", \"kilometre_mile\", \"kirchert\", \"km_per\", \"known_hyperloop\", \"labor_market\", \"last_year\", \"last_year\", \"last_year\", \"last_year\", \"last_year\", \"last_year\", \"last_year\", \"last_year\", \"late_afternoon\", \"launch\", \"launch\", \"launch\", \"launch\", \"launch_pad\", \"launch_vehicle\", \"launch_vehicle\", \"launch_vehicle\", \"laurence_frost\", \"legal_accounting\", \"letter\", \"level\", \"level\", \"level\", \"level\", \"level\", \"level\", \"level\", \"lg\", \"li\", \"li\", \"liberty_interactive\", \"like\", \"like\", \"like\", \"like\", \"like\", \"lithium\", \"lithium\", \"lithium\", \"lithium_ion\", \"lithium_ion\", \"lithium_ion\", \"lockheed_martin\", \"long\", \"long\", \"long\", \"long\", \"long_position\", \"long_position\", \"long_position\", \"long_short\", \"long_term\", \"long_term\", \"long_term\", \"long_term\", \"long_term\", \"long_term\", \"long_term\", \"long_term\", \"long_term\", \"look\", \"look\", \"look\", \"look_downside\", \"look_upside\", \"looked_ahead\", \"loss_per\", \"loss_per\", \"loss_per\", \"lost_percent\", \"lost_percent\", \"ltd_hk\", \"main_stage\", \"major_shareholder\", \"make_killing\", \"maker\", \"maker\", \"maker\", \"maker\", \"maker\", \"maker\", \"making_asset\", \"management_activity\", \"manufacturer\", \"manufacturer\", \"manufacturer\", \"manufacturer\", \"many\", \"many\", \"market\", \"market\", \"market\", \"market\", \"market\", \"market\", \"market\", \"market_cap\", \"market_cap\", \"market_cap\", \"market_cap\", \"market_cap\", \"market_cap\", \"market_cap\", \"market_could\", \"market_could\", \"market_could\", \"market_expecting\", \"market_identified\", \"market_lately\", \"market_lower\", \"maron\", \"material_provided\", \"may\", \"may\", \"may\", \"may\", \"may\", \"may\", \"may_crash\", \"michael_kor\", \"microblog\", \"mile_per\", \"million\", \"million\", \"million\", \"million\", \"million\", \"million\", \"million\", \"million_asset\", \"million_barrel\", \"million_barrel\", \"million_cent\", \"million_million\", \"million_million\", \"million_million\", \"million_million\", \"million_million\", \"million_share\", \"million_share\", \"million_share\", \"million_share\", \"million_share\", \"million_square\", \"mirai\", \"model\", \"model\", \"model\", \"model\", \"model\", \"model_across\", \"model_autopilot\", \"model_e\", \"model_model\", \"model_model\", \"model_model\", \"model_model\", \"model_model\", \"model_order\", \"model_owner\", \"model_owner\", \"model_owner\", \"model_per\", \"model_production\", \"model_production\", \"model_production\", \"model_production\", \"model_production\", \"model_production\", \"model_range\", \"model_range\", \"model_sedan\", \"model_sedan\", \"model_sedan\", \"model_sedan\", \"model_sedan\", \"model_x\", \"model_x\", \"model_x\", \"model_x\", \"model_x\", \"model_x\", \"molson_coors\", \"momentum_stock\", \"momentum_stock\", \"momentum_stock\", \"monday_citing\", \"monetary_policy\", \"monte\", \"month\", \"month\", \"month\", \"month\", \"month\", \"month\", \"month\", \"month\", \"month_ending\", \"morning_bell\", \"moscow\", \"motor_co\", \"motor_co\", \"motor_co\", \"motor_co\", \"motor_co\", \"motor_co\", \"motor_inc\", \"motor_inc\", \"motor_inc\", \"motor_inc\", \"motor_inc\", \"motor_inc\", \"motor_inc\", \"motor_n\", \"motor_n\", \"move\", \"move\", \"move\", \"move\", \"move\", \"move\", \"move\", \"move\", \"move\", \"move_much\", \"move_one\", \"move_option\", \"much_movement\", \"much_needed\", \"mulligan\", \"musk\", \"musk\", \"musk\", \"musk\", \"musk\", \"musk\", \"musk\", \"musk\", \"musk_boring\", \"musk_called\", \"musk_cousin\", \"musk_cousin\", \"musk_goal\", \"musk_previously\", \"musk_tweet\", \"musk_tweet\", \"musk_tweet\", \"musk_tweeted\", \"musk_tweeted\", \"musk_tweeted\", \"musk_tweeted\", \"must\", \"must\", \"n\", \"n\", \"n\", \"nasa\", \"nasdaq\", \"nasdaq\", \"nasdaq\", \"nasdaq\", \"nasdaq\", \"nasdaq\", \"nasdaq\", \"nasdaq\", \"nasdaq\", \"nasdaq\", \"nasdaq\", \"nasdaq\", \"nasdaq\", \"nasdaq_clean\", \"nasdaq_composite\", \"nasdaq_composite\", \"nasdaq_future\", \"national_highway\", \"national_highway\", \"near_reno\", \"need_pay\", \"negative_earnings\", \"negative_earnings\", \"net_income\", \"new\", \"new\", \"new\", \"new\", \"new\", \"new_energy\", \"new_energy\", \"new_low\", \"new_low\", \"new_low\", \"new_model\", \"new_model\", \"new_model\", \"new_model\", \"new_york\", \"new_york\", \"new_york\", \"new_york\", \"new_york\", \"newsletter_brief\", \"next_spring\", \"nhtsa\", \"nhtsa\", \"nhtsa_spokesman\", \"nichola_groom\", \"nichola_groom\", \"nike_nyse\", \"nissan\", \"nissan\", \"nissan_leaf\", \"nissan_leaf\", \"nke\", \"nke\", \"nke\", \"non_gaap\", \"non_gaap\", \"north_carolina\", \"norway\", \"norway\", \"norwegian\", \"note\", \"note\", \"note\", \"note\", \"note\", \"note\", \"nothing_herein\", \"ntsb\", \"ntsb\", \"nvidia\", \"nvidia\", \"nvidia\", \"nvidia\", \"nyse\", \"nyse\", \"nyse\", \"nyse\", \"nyse\", \"nyse\", \"nyse\", \"nyse\", \"nyse_agn\", \"nyse_agn\", \"nyse_cbs\", \"nyse_cbs\", \"nyse_kor\", \"offer_buy\", \"offering_price\", \"officer_elon\", \"officer_elon\", \"officer_elon\", \"officer_elon\", \"officer_elon\", \"officer_elon\", \"oil\", \"oil\", \"oil\", \"oil\", \"oil\", \"oil_price\", \"oil_price\", \"oil_price\", \"oil_price\", \"oil_rig\", \"one\", \"one\", \"one\", \"one\", \"one\", \"one\", \"one\", \"one_nyse\", \"one_piece\", \"one_source\", \"one_time\", \"opening_bell\", \"operating_autopilot\", \"option_trade\", \"option_trade\", \"option_trader\", \"orbit\", \"outnumbered_decliners\", \"overvalued\", \"p\", \"p\", \"p\", \"p\", \"p\", \"p\", \"p\", \"p\", \"p_energy\", \"p_future\", \"p_spx\", \"p_spx\", \"pace_since\", \"pan_european\", \"panasonic\", \"panasonic\", \"panasonic\", \"panasonic_corp\", \"panasonic_corp\", \"paris\", \"paris_reuters\", \"part\", \"part\", \"part\", \"part\", \"part_would\", \"partner_financial\", \"patient\", \"patient\", \"patient\", \"patient\", \"pattern\", \"pattern\", \"paypal\", \"paypal\", \"pentagon\", \"people_bank\", \"per_share\", \"per_share\", \"per_share\", \"per_share\", \"per_share\", \"per_share\", \"per_share\", \"per_share\", \"per_share\", \"per_week\", \"per_week\", \"per_week\", \"per_week\", \"per_year\", \"per_year\", \"per_year\", \"per_year\", \"per_year\", \"per_year\", \"per_year\", \"per_year\", \"per_zacks\", \"percent\", \"percent\", \"percent\", \"percent\", \"percent\", \"percent\", \"percent_end\", \"percent_increase\", \"percent_increase\", \"percent_increase\", \"percent_musk\", \"percent_nasdaq\", \"percent_nasdaq\", \"percent_p\", \"percent_trading\", \"percent_wednesday\", \"performance_guarantee\", \"performance_guarantee\", \"petition\", \"petition\", \"pickup_truck\", \"pickup_truck\", \"pickup_truck\", \"pickup_truck\", \"pickup_truck\", \"pickup_truck\", \"picture_company\", \"pif\", \"pif\", \"pivot_support\", \"plan\", \"plan\", \"plan\", \"plan\", \"plan_begin\", \"plant\", \"plant\", \"plant\", \"plug_hybrid\", \"plug_hybrid\", \"point_meanwhile\", \"point_percent\", \"polestar\", \"pollution\", \"position\", \"position\", \"position\", \"position\", \"position\", \"position\", \"position_target\", \"posted_new\", \"potential_loss\", \"power\", \"power\", \"power\", \"power\", \"powerwall\", \"pre_market\", \"president_eric\", \"previously_estimated\", \"price\", \"price\", \"price\", \"price\", \"price\", \"price\", \"price\", \"price\", \"price\", \"price\", \"price_eps\", \"price_index\", \"price_index\", \"probable_cause\", \"problem\", \"produce_enough\", \"production\", \"production\", \"production\", \"production\", \"production\", \"production\", \"production_manufacturing\", \"production_model\", \"production_model\", \"production_model\", \"production_rate\", \"production_rate\", \"production_rate\", \"production_rate\", \"production_target\", \"production_target\", \"production_target\", \"production_two\", \"profit_topped\", \"program\", \"program\", \"prospectus\", \"provide\", \"provide\", \"provide\", \"public\", \"public\", \"pullback\", \"pure_electric\", \"puzzle_putting\", \"q_combined\", \"quarter\", \"quarter\", \"quarter\", \"quarter\", \"quarter\", \"quarter\", \"quarter\", \"quarter\", \"quarter\", \"quarter\", \"quarter_result\", \"quarter_result\", \"quarter_result\", \"raise_interest\", \"raised_target\", \"raising_interest\", \"rally_huge\", \"range_resource\", \"rank_buy\", \"rank_buy\", \"rank_buy\", \"rank_buy\", \"rank_buy\", \"rank_hold\", \"rank_hold\", \"rank_hold\", \"rank_hold\", \"rank_hold\", \"rank_hold\", \"rank_hold\", \"rank_strong\", \"rank_strong\", \"rank_strong\", \"rank_strong\", \"rank_strong\", \"rank_strong\", \"rate_hike\", \"rdw\", \"reached_comment\", \"recalled_model\", \"received_order\", \"recent_phenomenon\", \"recent_phenomenon\", \"recent_phenomenon\", \"recorded_new\", \"recruiting\", \"reflect_firm\", \"regulation\", \"release\", \"release\", \"release\", \"release\", \"release\", \"release\", \"released_special\", \"renault\", \"reno\", \"report\", \"report\", \"report\", \"report\", \"report\", \"report\", \"report\", \"report\", \"report_close\", \"report_crash\", \"report_earlier\", \"report_expected\", \"report_expected\", \"resale_value\", \"resale_value\", \"research\", \"research\", \"research\", \"reservation\", \"reservation\", \"reservation_model\", \"reservation_model\", \"resistance_scenario\", \"retail_operation\", \"reuters\", \"reuters\", \"reuters\", \"reuters\", \"reuters\", \"reuters_inc\", \"reuters_inc\", \"reuters_nasdaq\", \"reuters_nasdaq\", \"reuters_nasdaq\", \"reuters_u\", \"reuters_u\", \"reuters_u\", \"reuters_u\", \"revenue\", \"revenue\", \"revenue\", \"revenue\", \"revenue_billion\", \"revenue_billion\", \"revenue_billion\", \"rivian\", \"road\", \"road\", \"robust_q\", \"rocket\", \"rocket\", \"rocket\", \"rollover\", \"rooftop\", \"rooftop\", \"rooftop_solar\", \"root_cause\", \"root_cause\", \"rose\", \"rose\", \"rose\", \"rose\", \"rose_nearly\", \"rose_nearly\", \"rose_nearly\", \"rose_percent\", \"rose_percent\", \"rose_percent\", \"rose_percent\", \"rose_point\", \"rose_report\", \"rosengren\", \"royal\", \"rupture\", \"rv\", \"rv\", \"safety\", \"safety_administration\", \"safety_administration\", \"safety_board\", \"safety_board\", \"safety_board\", \"safety_regulator\", \"safety_regulator\", \"sale_china\", \"sale_china\", \"sale_china\", \"sale_china\", \"salman\", \"samsung_sdi\", \"samuelsson\", \"san_francisco\", \"san_francisco\", \"san_francisco\", \"san_francisco\", \"satellite\", \"satellite\", \"saw\", \"saw\", \"saw\", \"saw\", \"say\", \"say\", \"say\", \"say\", \"say\", \"scenario_long\", \"scenario_look\", \"scenario_short\", \"scientific_research\", \"screen_returned\", \"screen_returned\", \"screen_returned\", \"seat_belt\", \"seat_belt\", \"second_consecutive\", \"second_quarter\", \"second_quarter\", \"second_quarter\", \"second_quarter\", \"second_quarter\", \"second_quarter\", \"sector_closed\", \"sector_closed\", \"security_exchange\", \"security_exchange\", \"security_exchange\", \"security_return\", \"sedan_model\", \"sedan_model\", \"sedan_model\", \"see\", \"see\", \"see\", \"see\", \"see\", \"see\", \"see\", \"see\", \"see\", \"self_driving\", \"self_driving\", \"sell_hold\", \"sell_however\", \"sell_large\", \"seller\", \"seller\", \"selling_battery\", \"seng_index\", \"senior_note\", \"service_center\", \"service_center\", \"service_center\", \"service_center\", \"session\", \"session\", \"session\", \"sexy\", \"shake_shack\", \"share\", \"share\", \"share\", \"share\", \"share\", \"share\", \"share\", \"share\", \"share_fundamental\", \"share_nearly\", \"share_revenue\", \"share_revenue\", \"short\", \"short\", \"short\", \"short_bet\", \"short_position\", \"short_position\", \"short_position\", \"short_seller\", \"short_seller\", \"short_stock\", \"shorted\", \"similar_technology\", \"since_announced\", \"single_motor\", \"site\", \"site\", \"site\", \"site\", \"site\", \"site\", \"site_solar\", \"smaller_battery\", \"software\", \"software_update\", \"software_update\", \"software_update\", \"solar\", \"solar\", \"solar_installation\", \"solar_installer\", \"solar_panel\", \"solar_panel\", \"solar_panel\", \"solar_power\", \"solar_power\", \"solar_system\", \"solar_system\", \"solar_system\", \"solarcity\", \"solarcity\", \"solarcity\", \"solarcity\", \"solarcity_deal\", \"sold_last\", \"sold_last\", \"soon_may\", \"source\", \"source\", \"source\", \"source\", \"south_australia\", \"south_australia\", \"spacex\", \"spacex\", \"spacex\", \"spacex\", \"spain_ibex\", \"spdr_p\", \"spokesman_company\", \"spy\", \"sqm\", \"standard\", \"state\", \"state\", \"state\", \"state\", \"state\", \"state_grid\", \"statement_thursday\", \"station_billion\", \"stationary_battery\", \"steering\", \"steering\", \"steering\", \"steering_wheel\", \"steering_wheel\", \"still\", \"still\", \"still\", \"still\", \"still\", \"still\", \"stock\", \"stock\", \"stock\", \"stock\", \"stock\", \"stock\", \"stock\", \"stock\", \"stock\", \"stock\", \"stock_based\", \"stock_based\", \"stock_based\", \"stock_based\", \"stock_basket\", \"stock_ended\", \"stock_market\", \"stock_market\", \"stock_market\", \"stock_market\", \"stock_momentum\", \"stock_p\", \"stock_price\", \"stock_price\", \"stock_price\", \"stock_price\", \"stock_price\", \"stock_price\", \"stock_utility\", \"storage_battery\", \"storage_system\", \"strong_buy\", \"strong_buy\", \"strong_buy\", \"strong_buy\", \"subject_change\", \"subject_change\", \"subject_change\", \"suggest_investor\", \"supply_battery\", \"support_resistance\", \"support_resistance\", \"swap\", \"system\", \"system\", \"system_business\", \"take\", \"take\", \"take\", \"take_private\", \"take_private\", \"target_comment\", \"target_extension\", \"target_price\", \"target_price\", \"target_price\", \"target_price\", \"tax_advice\", \"tax_credit\", \"tax_credit\", \"taxpayer\", \"tech_heavy\", \"technology\", \"technology\", \"technology\", \"technology\", \"technology_spacex\", \"temperature\", \"tencent\", \"tencent\", \"term_growth\", \"term_growth\", \"term_growth\", \"test_flight\", \"testing\", \"third_quarter\", \"third_quarter\", \"third_quarter\", \"third_quarter\", \"third_quarter\", \"third_quarter\", \"third_quarter\", \"thune\", \"thursday_close\", \"time\", \"time\", \"time\", \"time\", \"time\", \"time\", \"time\", \"time\", \"time_accident\", \"time_high\", \"time_high\", \"time_high\", \"time_high\", \"time_high\", \"today\", \"today\", \"today\", \"today\", \"today_best\", \"today_portfolio\", \"today_zacks\", \"today_zacks\", \"todd_maron\", \"together_option\", \"top_mark\", \"top_news\", \"top_news\", \"top_performer\", \"top_performer\", \"top_performing\", \"top_performing\", \"torque\", \"torque\", \"towing\", \"track\", \"tractor_trailer\", \"tracy\", \"trade\", \"trade\", \"trade\", \"trade\", \"trade\", \"trade\", \"trader\", \"trader\", \"trader\", \"trader_pricing\", \"trading_strategy\", \"trading_strategy\", \"traffic_safety\", \"traffic_safety\", \"tragic\", \"transcript\", \"transformative\", \"transformative\", \"transformative\", \"transportation\", \"trend\", \"trend\", \"trend\", \"tucson\", \"tuesday\", \"tuesday\", \"tuesday\", \"tuesday\", \"tuesday\", \"tuesday\", \"tuesday\", \"tuesday_two\", \"turkey\", \"turkey\", \"turkish_lira\", \"tweet\", \"tweet\", \"tweet\", \"tweet\", \"tweet\", \"twitter\", \"twitter\", \"twitter\", \"twitter\", \"twitter\", \"twitter\", \"twitter_n\", \"twitter_n\", \"u\", \"u\", \"u\", \"u\", \"u\", \"u\", \"u\", \"u\", \"u\", \"u_bancorp\", \"u_dollar\", \"u_dollar\", \"u_dollar\", \"u_economic\", \"u_equity\", \"u_equity\", \"u_equity\", \"u_exchange\", \"u_factory\", \"u_factory\", \"u_future\", \"u_highway\", \"u_highway\", \"u_k\", \"u_k\", \"u_labor\", \"u_national\", \"u_national\", \"u_security\", \"u_security\", \"u_stock\", \"u_stock\", \"u_stock\", \"u_stock\", \"uber\", \"ula\", \"unaffiliated\", \"underlying_stock\", \"united_state\", \"united_state\", \"united_state\", \"united_state\", \"united_state\", \"united_state\", \"united_state\", \"united_state\", \"united_state\", \"united_state\", \"university\", \"unmanaged_index\", \"unsworth\", \"upcoming_model\", \"upcoming_model\", \"upside_target\", \"upside_target\", \"usd\", \"usd\", \"usd\", \"use\", \"use\", \"use\", \"use_proceeds\", \"used\", \"used\", \"using_autopilot\", \"utility_scale\", \"valuation\", \"valuation\", \"valuation\", \"valuation\", \"vehicle\", \"vehicle\", \"vehicle\", \"vehicle\", \"vehicle\", \"vehicle\", \"vehicle\", \"vehicle_ahead\", \"vehicle_owner\", \"vehicle_system\", \"vehicle_system\", \"vg\", \"visa\", \"visa_inc\", \"visit_information\", \"vix\", \"volatility_implied\", \"volkswagen\", \"volkswagen\", \"volkswagen\", \"volkswagen_de\", \"volkswagen_de\", \"volkswagen_de\", \"volkswagen_de\", \"volume_share\", \"volvo\", \"volvo\", \"vowg_p\", \"vowg_p\", \"vowg_p\", \"vw\", \"vw\", \"wall_street\", \"wall_street\", \"wall_street\", \"wall_street\", \"wall_street\", \"wall_street\", \"wall_street\", \"wall_street\", \"wall_street\", \"wall_street\", \"wall_street\", \"wang\", \"want\", \"want\", \"want_key\", \"washington_reuters\", \"washington_reuters\", \"washington_reuters\", \"wednesday\", \"wednesday\", \"wednesday\", \"wednesday\", \"wednesday\", \"wednesday\", \"wednesday\", \"wednesday\", \"wednesday\", \"wednesday_closing\", \"wednesday_earnings\", \"wednesday_investor\", \"wednesday_investor\", \"week\", \"week\", \"week\", \"week\", \"week\", \"week\", \"week\", \"week\", \"week\", \"week_end\", \"week_high\", \"week_high\", \"week_high\", \"week_high\", \"week_high\", \"week_high\", \"week_rally\", \"week_report\", \"weighed_investor\", \"wheel\", \"wheel\", \"wheel\", \"widened_million\", \"williston_florida\", \"windshield\", \"without_notice\", \"worst_performer\", \"worth_billion\", \"worth_billion\", \"worth_billion\", \"worth_billion\", \"would\", \"would\", \"would\", \"would\", \"would\", \"would\", \"would\", \"would_deliver\", \"would_force\", \"wti_oil\", \"x\", \"x\", \"x\", \"x\", \"x_crossover\", \"x_vehicle\", \"year\", \"year\", \"year\", \"year\", \"year\", \"year\", \"year\", \"year\", \"year\", \"year\", \"year_ago\", \"year_ago\", \"year_ago\", \"year_ago\", \"year_ago\", \"year_ago\", \"year_ago\", \"year_ago\", \"year_ago\", \"year_roughly\", \"year_year\", \"year_year\", \"year_year\", \"year_year\", \"year_year\", \"year_year\", \"yellen\", \"yen\", \"yen\", \"yen\", \"yen\", \"yen\", \"zacks_analyst\", \"zacks_com\", \"zacks_com\", \"zacks_com\", \"zacks_consensus\", \"zacks_consensus\", \"zacks_consensus\", \"zacks_consensus\", \"zacks_consensus\", \"zacks_equity\", \"zacks_equity\", \"zacks_investment\", \"zacks_investment\", \"zacks_private\", \"zacks_private\", \"zacks_rank\", \"zacks_rank\", \"zacks_rank\", \"zacks_rank\", \"zacks_rank\", \"zacks_rank\", \"zacks_rank\", \"zetsche\", \"zombie_firm\"]}, \"R\": 30, \"lambda.step\": 0.01, \"plot.opts\": {\"xlab\": \"PC1\", \"ylab\": \"PC2\"}, \"topic.order\": [1, 2, 3, 4, 5, 6, 7, 8, 9, 10, 11, 12, 13, 14, 15, 16, 17, 18, 19]};\n",
       "\n",
       "function LDAvis_load_lib(url, callback){\n",
       "  var s = document.createElement('script');\n",
       "  s.src = url;\n",
       "  s.async = true;\n",
       "  s.onreadystatechange = s.onload = callback;\n",
       "  s.onerror = function(){console.warn(\"failed to load library \" + url);};\n",
       "  document.getElementsByTagName(\"head\")[0].appendChild(s);\n",
       "}\n",
       "\n",
       "if(typeof(LDAvis) !== \"undefined\"){\n",
       "   // already loaded: just create the visualization\n",
       "   !function(LDAvis){\n",
       "       new LDAvis(\"#\" + \"ldavis_el1290823759743534402706561729\", ldavis_el1290823759743534402706561729_data);\n",
       "   }(LDAvis);\n",
       "}else if(typeof define === \"function\" && define.amd){\n",
       "   // require.js is available: use it to load d3/LDAvis\n",
       "   require.config({paths: {d3: \"https://cdnjs.cloudflare.com/ajax/libs/d3/3.5.5/d3.min\"}});\n",
       "   require([\"d3\"], function(d3){\n",
       "      window.d3 = d3;\n",
       "      LDAvis_load_lib(\"https://cdn.rawgit.com/bmabey/pyLDAvis/files/ldavis.v1.0.0.js\", function(){\n",
       "        new LDAvis(\"#\" + \"ldavis_el1290823759743534402706561729\", ldavis_el1290823759743534402706561729_data);\n",
       "      });\n",
       "    });\n",
       "}else{\n",
       "    // require.js not available: dynamically load d3 & LDAvis\n",
       "    LDAvis_load_lib(\"https://cdnjs.cloudflare.com/ajax/libs/d3/3.5.5/d3.min.js\", function(){\n",
       "         LDAvis_load_lib(\"https://cdn.rawgit.com/bmabey/pyLDAvis/files/ldavis.v1.0.0.js\", function(){\n",
       "                 new LDAvis(\"#\" + \"ldavis_el1290823759743534402706561729\", ldavis_el1290823759743534402706561729_data);\n",
       "            })\n",
       "         });\n",
       "}\n",
       "</script>"
      ],
      "text/plain": [
       "<IPython.core.display.HTML object>"
      ]
     },
     "execution_count": 17,
     "metadata": {},
     "output_type": "execute_result"
    }
   ],
   "source": [
    "lda_display = pyLDAvis.gensim.prepare(content_model, corpus, content_dict, sort_topics=False)\n",
    "pyLDAvis.display(lda_display)"
   ]
  },
  {
   "cell_type": "markdown",
   "metadata": {},
   "source": [
    "##### Get document keywords"
   ]
  },
  {
   "cell_type": "code",
   "execution_count": 30,
   "metadata": {},
   "outputs": [
    {
     "data": {
      "text/plain": [
       "[(0, 0.024519375),\n",
       " (1, 0.3857711),\n",
       " (2, 0.16756791),\n",
       " (3, 0.3781344),\n",
       " (5, 0.043363243)]"
      ]
     },
     "execution_count": 30,
     "metadata": {},
     "output_type": "execute_result"
    }
   ],
   "source": [
    "content_model.get_document_topics(corpus[1])"
   ]
  },
  {
   "cell_type": "code",
   "execution_count": 31,
   "metadata": {},
   "outputs": [
    {
     "data": {
      "text/plain": [
       "[(4795, 0.009729412),\n",
       " (2255, 0.0035880099),\n",
       " (32882, 0.003586446),\n",
       " (13249, 0.003547812),\n",
       " (3435, 0.0026270405),\n",
       " (138, 0.0025699649),\n",
       " (203, 0.0025280477),\n",
       " (6020, 0.0023598736),\n",
       " (4846, 0.0022321322),\n",
       " (31366, 0.0022152418)]"
      ]
     },
     "execution_count": 31,
     "metadata": {},
     "output_type": "execute_result"
    }
   ],
   "source": [
    "content_model.get_topic_terms(0, topn=10)"
   ]
  },
  {
   "cell_type": "code",
   "execution_count": 45,
   "metadata": {},
   "outputs": [
    {
     "data": {
      "text/plain": [
       "'stock, short_seller, share, nasdaq, price, fund, short, market, hedge_fund, week'"
      ]
     },
     "execution_count": 45,
     "metadata": {},
     "output_type": "execute_result"
    }
   ],
   "source": [
    "top_words = ''\n",
    "for i in content_model.show_topic(18, topn=10):\n",
    "    top_words += i[0] + ', '\n",
    "top_words = top_words[:-2]\n",
    "top_words"
   ]
  },
  {
   "cell_type": "code",
   "execution_count": 19,
   "metadata": {
    "collapsed": true
   },
   "outputs": [
    {
     "name": "stdout",
     "output_type": "stream",
     "text": [
      "[('electric_car', 0.013382054), ('electric_vehicle', 0.009551009), ('china', 0.008071138), ('vehicle', 0.005315455), ('car', 0.005279181), ('plug_hybrid', 0.00427707), ('model', 0.0041101533), ('byd', 0.0036706135), ('ev', 0.0034424416), ('audi', 0.003144686)]\n",
      "[('hyperloop', 0.0034773832), ('twitter', 0.002791174), ('fla_reuters', 0.0026505068), ('company', 0.0023109205), ('share', 0.0018058644), ('million', 0.0017728745), ('technology_spacex', 0.001754683), ('service_center', 0.0015418138), ('chinese_automaker', 0.0014472753), ('cybertruck', 0.0013916985)]\n",
      "[('pivot_support', 0.0033015949), ('resistance_scenario', 0.003219427), ('scenario_look', 0.0029630824), ('target_extension', 0.0028630116), ('comment_rsi', 0.0028171889), ('eur_usd', 0.0022302617), ('support_resistance', 0.00217425), ('tuesday', 0.002162231), ('position_target', 0.001958078), ('u_dollar', 0.0019299394)]\n",
      "[('brian_johnson', 0.002129434), ('citron', 0.001973002), ('motor_n', 0.0017174425), ('sqm', 0.0016038789), ('detroit_based', 0.001462689), ('discontinued', 0.0014392365), ('target_price', 0.0014243219), ('vehicle_ahead', 0.0013124619), ('construction_job', 0.0013080215), ('root_cause', 0.0012766863)]\n",
      "[('jonas_think', 0.0018592168), ('good_business', 0.00176647), ('hyperloop_transportation', 0.0016557988), ('reached_comment', 0.0015231979), ('part_would', 0.00110207), ('senior_note', 0.0010962307), ('ishares_nasdaq', 0.0009399364), ('ibb', 0.00092730497), ('known_hyperloop', 0.0008705352), ('zombie_firm', 0.00078698597)]\n",
      "[('zacks_rank', 0.009451636), ('zacks_investment', 0.0040957415), ('investment_research', 0.004094385), ('equity_research', 0.0035909512), ('zacks_equity', 0.002374531), ('strong_buy', 0.0022651658), ('analyst_blog', 0.0021917128), ('zacks_consensus', 0.0019434306), ('rank_strong', 0.0018851968), ('zacks_com', 0.0018148476)]\n",
      "[('per_share', 0.006992883), ('third_quarter', 0.004809237), ('spacex', 0.0046505), ('fourth_quarter', 0.0043728626), ('year_ago', 0.0043526404), ('company', 0.0038337288), ('quarter', 0.0034602787), ('year_year', 0.0032523186), ('consensus_estimate', 0.0030271448), ('inc_nasdaq', 0.0029743758)]\n",
      "[('implied_volatility', 0.026219632), ('underlying_stock', 0.009661347), ('high_level', 0.0096551925), ('option_trade', 0.009527321), ('industry_rank', 0.0069077713), ('current_quarter', 0.006103022), ('option_trader', 0.0060818684), ('big_move', 0.005894632), ('estimate_current', 0.0058350903), ('stock_based', 0.0050542816)]\n",
      "[('actively_managed', 0.0021342165), ('alternative_energy', 0.0021122282), ('expense_ratio', 0.0020145376), ('asset_base', 0.0019192384), ('etf', 0.001917029), ('per_year', 0.0017183052), ('million_asset', 0.0016725642), ('top_performing', 0.0015925834), ('bps_fee', 0.0015692747), ('average_daily', 0.0015492635)]\n",
      "[('company', 0.0040900474), ('car', 0.0037019977), ('year', 0.0034541495), ('self_driving', 0.0028426673), ('vehicle', 0.0028146626), ('model', 0.0024199267), ('time', 0.0023569432), ('motor_inc', 0.0022836705), ('electric_car', 0.0019966476), ('elon_musk', 0.0019864154)]\n",
      "[('investing_com', 0.008161638), ('u_stock', 0.0039991275), ('wall_street', 0.0037791887), ('dow_jones', 0.0036392263), ('oil_price', 0.0033187629), ('nasdaq_composite', 0.003008301), ('industrial_average', 0.0029279457), ('fell', 0.002887052), ('federal_reserve', 0.002799954), ('session', 0.0026745566)]\n",
      "[('autopilot', 0.012982981), ('crash', 0.006686476), ('accident', 0.005689967), ('hand_wheel', 0.005687285), ('nhtsa', 0.0050977), ('autopilot_system', 0.0049286294), ('national_highway', 0.0044382084), ('fatal_crash', 0.0044214427), ('traffic_safety', 0.00434426), ('safety_administration', 0.004311671)]\n",
      "[('downward_net', 0.0022053819), ('rose_report', 0.0015752569), ('japan_softbank', 0.0011429666), ('cruise', 0.0011155739), ('nyse_kor', 0.0010540611), ('percent_trading', 0.00097361096), ('tracy', 0.0009629107), ('report_expected', 0.00091947126), ('production_manufacturing', 0.0008815627), ('recruiting', 0.0008437053)]\n",
      "[('zacks_rank', 0.008052016), ('zacks_consensus', 0.0032450852), ('earnings_esp', 0.003242359), ('stationary_battery', 0.00215542), ('consensus_estimate', 0.0020967855), ('borrow', 0.0019504537), ('carry_zacks', 0.0018320655), ('day_sma', 0.0017409794), ('rivian', 0.0017378477), ('year_year', 0.0016995915)]\n",
      "[('electric_car', 0.005631978), ('battery', 0.0055249534), ('solarcity', 0.004332756), ('energy_storage', 0.0034708916), ('lithium_ion', 0.003367208), ('year', 0.0032088058), ('solar_panel', 0.0030951528), ('elon_musk', 0.0027835707), ('plant', 0.0024904811), ('source', 0.0022078208)]\n",
      "[('fuel_cell', 0.0034531439), ('according_thomson', 0.0029693954), ('yen', 0.002406652), ('taxpayer', 0.0020749234), ('tax_credit', 0.0020011987), ('car_united', 0.0017704848), ('alarm', 0.0017217214), ('south_australia', 0.0015099354), ('next_spring', 0.0015073854), ('ahead_thursday', 0.001499938)]\n",
      "[('percent', 0.0068724495), ('point_percent', 0.0054883044), ('fell_percent', 0.0035411995), ('rose_percent', 0.003373571), ('future_pointed', 0.003284481), ('new_low', 0.002900728), ('reuters_u', 0.0026979882), ('high_new', 0.0025545377), ('chief_investment', 0.0023661095), ('week_high', 0.002319833)]\n",
      "[('model_x', 0.0121377325), ('musk', 0.010437634), ('elon_musk', 0.009119529), ('model_sedan', 0.0065411394), ('chief_executive', 0.005403984), ('electric_car', 0.005245603), ('model', 0.0041466923), ('x', 0.0036894938), ('wall_street', 0.003501399), ('model_model', 0.003341187)]\n",
      "[('stock', 0.0071676085), ('short_seller', 0.0040145703), ('share', 0.003809901), ('nasdaq', 0.00326455), ('price', 0.002896558), ('fund', 0.002777813), ('short', 0.0027769168), ('market', 0.0026817946), ('hedge_fund', 0.0026320687), ('week', 0.0025438378)]\n"
     ]
    }
   ],
   "source": [
    "for i in range(0):\n",
    "    print(content_model.show_topic(i, topn=10))"
   ]
  },
  {
   "cell_type": "code",
   "execution_count": 33,
   "metadata": {},
   "outputs": [
    {
     "data": {
      "text/plain": [
       "(6, 151969)"
      ]
     },
     "execution_count": 33,
     "metadata": {},
     "output_type": "execute_result"
    }
   ],
   "source": [
    "content_model.get_topics().shape"
   ]
  },
  {
   "cell_type": "markdown",
   "metadata": {},
   "source": [
    "### Parameter Tuning"
   ]
  },
  {
   "cell_type": "code",
   "execution_count": 16,
   "metadata": {},
   "outputs": [],
   "source": [
    "def num_topics_tuning(corpus, word_dict, texts, start, finish, step):\n",
    "    num_topics = []\n",
    "    coherence_scores = []\n",
    "    for i in range(start, finish, step):\n",
    "        candidate_model = ldamodel.LdaModel(corpus, num_topics = i, id2word=word_dict, passes=15)\n",
    "        coherence_candidate = CoherenceModel(model=candidate_model, texts=texts, dictionary=word_dict, coherence='c_v')\n",
    "        coherence_score = coherence_candidate.get_coherence()\n",
    "        num_topics.append(i)\n",
    "        coherence_scores.append(coherence_score)\n",
    "        print('Coherence score for %s topics: %s'%(str(i), str(coherence_score)))\n",
    "    return num_topics, coherence_scores"
   ]
  },
  {
   "cell_type": "code",
   "execution_count": 17,
   "metadata": {},
   "outputs": [
    {
     "name": "stdout",
     "output_type": "stream",
     "text": [
      "Coherence score for 3 topics: 0.4130232007149566\n",
      "Coherence score for 4 topics: 0.33892233453287934\n",
      "Coherence score for 5 topics: 0.3792687030873585\n",
      "Coherence score for 6 topics: 0.36373159696377777\n",
      "Coherence score for 7 topics: 0.5139778212760155\n",
      "Coherence score for 8 topics: 0.4349429613271181\n",
      "Coherence score for 9 topics: 0.5491965585626756\n",
      "Coherence score for 10 topics: 0.4710182839930708\n",
      "Coherence score for 11 topics: 0.5316615315727845\n",
      "Coherence score for 12 topics: 0.5273099554620155\n",
      "Coherence score for 13 topics: 0.5589323982727117\n",
      "Coherence score for 14 topics: 0.5377433922590074\n",
      "Coherence score for 15 topics: 0.5188094929811331\n",
      "Coherence score for 16 topics: 0.5560240965184996\n",
      "Coherence score for 17 topics: 0.5345717917123222\n",
      "Coherence score for 18 topics: 0.5320138733412506\n",
      "Coherence score for 19 topics: 0.5806884450464554\n"
     ]
    }
   ],
   "source": [
    "num_topics, coherence_scores = num_topics_tuning(corpus, content_dict, content_bigrams, 3, 20, 1)"
   ]
  },
  {
   "cell_type": "code",
   "execution_count": 18,
   "metadata": {},
   "outputs": [
    {
     "data": {
      "text/plain": [
       "[<matplotlib.lines.Line2D at 0x1cb9061ecf8>]"
      ]
     },
     "execution_count": 18,
     "metadata": {},
     "output_type": "execute_result"
    },
    {
     "data": {
      "image/png": "[encoded data removed]",
      "text/plain": [
       "<Figure size 432x288 with 1 Axes>"
      ]
     },
     "metadata": {
      "needs_background": "light"
     },
     "output_type": "display_data"
    }
   ],
   "source": [
    "plt.plot(num_topics, coherence_scores)"
   ]
  },
  {
   "cell_type": "markdown",
   "metadata": {},
   "source": [
    "##### Assign topic to documents"
   ]
  },
  {
   "cell_type": "code",
   "execution_count": 46,
   "metadata": {},
   "outputs": [],
   "source": [
    "id_to_text = {\n",
    "    0: 'vehicle',\n",
    "    1: 'technology',\n",
    "    2: 'ai',\n",
    "    3: 'production',\n",
    "    4: 'hyperloop',\n",
    "    5: 'research',\n",
    "    6: 'growth',\n",
    "    7: 'analysis',\n",
    "    8: 'expense',\n",
    "    9: 'plan',\n",
    "    10: 'finance',\n",
    "    11: 'accident',\n",
    "    12: 'projection',\n",
    "    13: 'investment',\n",
    "    14: 'environment',\n",
    "    15: 'tax',\n",
    "    16: 'trading',\n",
    "    17: 'product',\n",
    "    18: 'stock'\n",
    "}"
   ]
  },
  {
   "cell_type": "code",
   "execution_count": 47,
   "metadata": {},
   "outputs": [
    {
     "data": {
      "text/html": [
       "<div>\n",
       "<style scoped>\n",
       "    .dataframe tbody tr th:only-of-type {\n",
       "        vertical-align: middle;\n",
       "    }\n",
       "\n",
       "    .dataframe tbody tr th {\n",
       "        vertical-align: top;\n",
       "    }\n",
       "\n",
       "    .dataframe thead th {\n",
       "        text-align: right;\n",
       "    }\n",
       "</style>\n",
       "<table border=\"1\" class=\"dataframe\">\n",
       "  <thead>\n",
       "    <tr style=\"text-align: right;\">\n",
       "      <th></th>\n",
       "      <th>id</th>\n",
       "      <th>title</th>\n",
       "      <th>content</th>\n",
       "    </tr>\n",
       "  </thead>\n",
       "  <tbody>\n",
       "    <tr>\n",
       "      <th>7191</th>\n",
       "      <td>228706</td>\n",
       "      <td>[expected, beat, earnings, estimate, buy]</td>\n",
       "      <td>[market, expects, nasdaq, deliver, year, year,...</td>\n",
       "    </tr>\n",
       "    <tr>\n",
       "      <th>7192</th>\n",
       "      <td>228707</td>\n",
       "      <td>[right, valuation, multiple]</td>\n",
       "      <td>[may, nasdaq, ceo, elon, musk, issued, warning...</td>\n",
       "    </tr>\n",
       "    <tr>\n",
       "      <th>7193</th>\n",
       "      <td>228708</td>\n",
       "      <td>[nio, electric, boogie]</td>\n",
       "      <td>[rough, couple, month, impeachment, market, st...</td>\n",
       "    </tr>\n",
       "    <tr>\n",
       "      <th>7194</th>\n",
       "      <td>228709</td>\n",
       "      <td>[toyota, tm, recall, vehicle, worldwide, airba...</td>\n",
       "      <td>[toyota, motor, corporation, nyse, tm, recall,...</td>\n",
       "    </tr>\n",
       "    <tr>\n",
       "      <th>7199</th>\n",
       "      <td>228714</td>\n",
       "      <td>[rally, still, leg]</td>\n",
       "      <td>[nasdaq, bull, field, day, past, month, equity...</td>\n",
       "    </tr>\n",
       "    <tr>\n",
       "      <th>...</th>\n",
       "      <td>...</td>\n",
       "      <td>...</td>\n",
       "      <td>...</td>\n",
       "    </tr>\n",
       "    <tr>\n",
       "      <th>75524</th>\n",
       "      <td>297039</td>\n",
       "      <td>[u, future, steady, ahead, data, dow, jones]</td>\n",
       "      <td>[investing, com, u, stock, future, pointed, st...</td>\n",
       "    </tr>\n",
       "    <tr>\n",
       "      <th>75525</th>\n",
       "      <td>297040</td>\n",
       "      <td>[u, stock, mixed, economic, report, dow, jones]</td>\n",
       "      <td>[investing, com, u, stock, opened, mixed, thur...</td>\n",
       "    </tr>\n",
       "    <tr>\n",
       "      <th>75526</th>\n",
       "      <td>297041</td>\n",
       "      <td>[cheaper, arrived, range]</td>\n",
       "      <td>[jerome, guillen, telsa, motor, inc, nasdaq, h...</td>\n",
       "    </tr>\n",
       "    <tr>\n",
       "      <th>75527</th>\n",
       "      <td>297042</td>\n",
       "      <td>[q, full, year, result, look]</td>\n",
       "      <td>[many, exciting, startup, market, watcher, inv...</td>\n",
       "    </tr>\n",
       "    <tr>\n",
       "      <th>75528</th>\n",
       "      <td>297043</td>\n",
       "      <td>[make, toy, rich, say, chinese, auto, exec]</td>\n",
       "      <td>[head, one, china, major, automaker, brushed, ...</td>\n",
       "    </tr>\n",
       "  </tbody>\n",
       "</table>\n",
       "<p>4283 rows × 3 columns</p>\n",
       "</div>"
      ],
      "text/plain": [
       "           id                                              title  \\\n",
       "7191   228706          [expected, beat, earnings, estimate, buy]   \n",
       "7192   228707                       [right, valuation, multiple]   \n",
       "7193   228708                            [nio, electric, boogie]   \n",
       "7194   228709  [toyota, tm, recall, vehicle, worldwide, airba...   \n",
       "7199   228714                                [rally, still, leg]   \n",
       "...       ...                                                ...   \n",
       "75524  297039       [u, future, steady, ahead, data, dow, jones]   \n",
       "75525  297040    [u, stock, mixed, economic, report, dow, jones]   \n",
       "75526  297041                          [cheaper, arrived, range]   \n",
       "75527  297042                      [q, full, year, result, look]   \n",
       "75528  297043        [make, toy, rich, say, chinese, auto, exec]   \n",
       "\n",
       "                                                 content  \n",
       "7191   [market, expects, nasdaq, deliver, year, year,...  \n",
       "7192   [may, nasdaq, ceo, elon, musk, issued, warning...  \n",
       "7193   [rough, couple, month, impeachment, market, st...  \n",
       "7194   [toyota, motor, corporation, nyse, tm, recall,...  \n",
       "7199   [nasdaq, bull, field, day, past, month, equity...  \n",
       "...                                                  ...  \n",
       "75524  [investing, com, u, stock, future, pointed, st...  \n",
       "75525  [investing, com, u, stock, opened, mixed, thur...  \n",
       "75526  [jerome, guillen, telsa, motor, inc, nasdaq, h...  \n",
       "75527  [many, exciting, startup, market, watcher, inv...  \n",
       "75528  [head, one, china, major, automaker, brushed, ...  \n",
       "\n",
       "[4283 rows x 3 columns]"
      ]
     },
     "execution_count": 47,
     "metadata": {},
     "output_type": "execute_result"
    }
   ],
   "source": [
    "text_df"
   ]
  },
  {
   "cell_type": "code",
   "execution_count": 75,
   "metadata": {},
   "outputs": [],
   "source": [
    "# Return document topics, list form \n",
    "def return_topics(lda_model, corpus, id_to_text):\n",
    "    topic_ids = []\n",
    "    topics = []\n",
    "    for i in corpus:\n",
    "        tmp = max(lda_model.get_document_topics(i), key=lambda x:x[1])[0]\n",
    "        topic_ids.append(tmp)\n",
    "        topics.append(id_to_text[tmp])\n",
    "    return topic_ids, topics"
   ]
  },
  {
   "cell_type": "code",
   "execution_count": 76,
   "metadata": {},
   "outputs": [],
   "source": [
    "topic_ids, topics = return_topics(content_model, corpus, id_to_text)"
   ]
  },
  {
   "cell_type": "code",
   "execution_count": 58,
   "metadata": {},
   "outputs": [
    {
     "data": {
      "text/plain": [
       "(4283, 3)"
      ]
     },
     "execution_count": 58,
     "metadata": {},
     "output_type": "execute_result"
    }
   ],
   "source": [
    "text_df.shape"
   ]
  },
  {
   "cell_type": "code",
   "execution_count": 77,
   "metadata": {},
   "outputs": [
    {
     "name": "stderr",
     "output_type": "stream",
     "text": [
      "C:\\Users\\Yucheng\\Anaconda3\\envs\\DSCI553\\lib\\site-packages\\ipykernel_launcher.py:1: SettingWithCopyWarning: \n",
      "A value is trying to be set on a copy of a slice from a DataFrame.\n",
      "Try using .loc[row_indexer,col_indexer] = value instead\n",
      "\n",
      "See the caveats in the documentation: https://pandas.pydata.org/pandas-docs/stable/user_guide/indexing.html#returning-a-view-versus-a-copy\n",
      "  \"\"\"Entry point for launching an IPython kernel.\n",
      "C:\\Users\\Yucheng\\Anaconda3\\envs\\DSCI553\\lib\\site-packages\\ipykernel_launcher.py:2: SettingWithCopyWarning: \n",
      "A value is trying to be set on a copy of a slice from a DataFrame.\n",
      "Try using .loc[row_indexer,col_indexer] = value instead\n",
      "\n",
      "See the caveats in the documentation: https://pandas.pydata.org/pandas-docs/stable/user_guide/indexing.html#returning-a-view-versus-a-copy\n",
      "  \n"
     ]
    }
   ],
   "source": [
    "text_df['topic_id'] = topic_ids\n",
    "text_df['topic'] = topics"
   ]
  },
  {
   "cell_type": "code",
   "execution_count": 78,
   "metadata": {},
   "outputs": [
    {
     "data": {
      "text/html": [
       "<div>\n",
       "<style scoped>\n",
       "    .dataframe tbody tr th:only-of-type {\n",
       "        vertical-align: middle;\n",
       "    }\n",
       "\n",
       "    .dataframe tbody tr th {\n",
       "        vertical-align: top;\n",
       "    }\n",
       "\n",
       "    .dataframe thead th {\n",
       "        text-align: right;\n",
       "    }\n",
       "</style>\n",
       "<table border=\"1\" class=\"dataframe\">\n",
       "  <thead>\n",
       "    <tr style=\"text-align: right;\">\n",
       "      <th></th>\n",
       "      <th>id</th>\n",
       "      <th>title</th>\n",
       "      <th>content</th>\n",
       "      <th>topic_id</th>\n",
       "      <th>topic</th>\n",
       "    </tr>\n",
       "  </thead>\n",
       "  <tbody>\n",
       "    <tr>\n",
       "      <th>7191</th>\n",
       "      <td>228706</td>\n",
       "      <td>[expected, beat, earnings, estimate, buy]</td>\n",
       "      <td>[market, expects, nasdaq, deliver, year, year,...</td>\n",
       "      <td>13</td>\n",
       "      <td>investment</td>\n",
       "    </tr>\n",
       "    <tr>\n",
       "      <th>7192</th>\n",
       "      <td>228707</td>\n",
       "      <td>[right, valuation, multiple]</td>\n",
       "      <td>[may, nasdaq, ceo, elon, musk, issued, warning...</td>\n",
       "      <td>9</td>\n",
       "      <td>plan</td>\n",
       "    </tr>\n",
       "    <tr>\n",
       "      <th>7193</th>\n",
       "      <td>228708</td>\n",
       "      <td>[nio, electric, boogie]</td>\n",
       "      <td>[rough, couple, month, impeachment, market, st...</td>\n",
       "      <td>6</td>\n",
       "      <td>growth</td>\n",
       "    </tr>\n",
       "    <tr>\n",
       "      <th>7194</th>\n",
       "      <td>228709</td>\n",
       "      <td>[toyota, tm, recall, vehicle, worldwide, airba...</td>\n",
       "      <td>[toyota, motor, corporation, nyse, tm, recall,...</td>\n",
       "      <td>9</td>\n",
       "      <td>plan</td>\n",
       "    </tr>\n",
       "    <tr>\n",
       "      <th>7199</th>\n",
       "      <td>228714</td>\n",
       "      <td>[rally, still, leg]</td>\n",
       "      <td>[nasdaq, bull, field, day, past, month, equity...</td>\n",
       "      <td>18</td>\n",
       "      <td>stock</td>\n",
       "    </tr>\n",
       "  </tbody>\n",
       "</table>\n",
       "</div>"
      ],
      "text/plain": [
       "          id                                              title  \\\n",
       "7191  228706          [expected, beat, earnings, estimate, buy]   \n",
       "7192  228707                       [right, valuation, multiple]   \n",
       "7193  228708                            [nio, electric, boogie]   \n",
       "7194  228709  [toyota, tm, recall, vehicle, worldwide, airba...   \n",
       "7199  228714                                [rally, still, leg]   \n",
       "\n",
       "                                                content  topic_id       topic  \n",
       "7191  [market, expects, nasdaq, deliver, year, year,...        13  investment  \n",
       "7192  [may, nasdaq, ceo, elon, musk, issued, warning...         9        plan  \n",
       "7193  [rough, couple, month, impeachment, market, st...         6      growth  \n",
       "7194  [toyota, motor, corporation, nyse, tm, recall,...         9        plan  \n",
       "7199  [nasdaq, bull, field, day, past, month, equity...        18       stock  "
      ]
     },
     "execution_count": 78,
     "metadata": {},
     "output_type": "execute_result"
    }
   ],
   "source": [
    "text_df.head(5)"
   ]
  },
  {
   "cell_type": "code",
   "execution_count": 79,
   "metadata": {},
   "outputs": [],
   "source": [
    "text_df.to_csv('news_topics.csv')"
   ]
  }
 ],
 "metadata": {
  "kernelspec": {
   "display_name": "Python 3",
   "language": "python",
   "name": "python3"
  },
  "language_info": {
   "codemirror_mode": {
    "name": "ipython",
    "version": 3
   },
   "file_extension": ".py",
   "mimetype": "text/x-python",
   "name": "python",
   "nbconvert_exporter": "python",
   "pygments_lexer": "ipython3",
   "version": "3.6.10"
  }
 },
 "nbformat": 4,
 "nbformat_minor": 4
}
